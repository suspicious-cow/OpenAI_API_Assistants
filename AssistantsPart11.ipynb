{
 "cells": [
  {
   "cell_type": "markdown",
   "metadata": {},
   "source": [
    "# Part 11\n",
    "\n",
    "## Assistant, Thread, Message, and Run Review\n",
    "Let's make some objects, again!\n",
    "\n",
    "Univeral code for the entire notebook"
   ]
  },
  {
   "cell_type": "code",
   "execution_count": 2,
   "metadata": {},
   "outputs": [],
   "source": [
    "# Import necessary libraries \n",
    "from openai import OpenAI  # Used for interacting with OpenAI's API\n",
    "from typing_extensions import override  # Used for overriding methods in subclasses\n",
    "from openai import AssistantEventHandler # Used for handling events related to OpenAI assistants\n",
    "\n",
    "# Additional libraries for time and date manipulation\n",
    "import time\n",
    "import pytz\n",
    "import datetime "
   ]
  },
  {
   "cell_type": "code",
   "execution_count": 3,
   "metadata": {},
   "outputs": [],
   "source": [
    "# Create an instance of the OpenAI class to interact with the API.\n",
    "# This assumes you have set the OPENAI_API_KEY environment variable.\n",
    "client = OpenAI() "
   ]
  },
  {
   "cell_type": "markdown",
   "metadata": {},
   "source": [
    "### Creating an Assistant\n",
    "First, let's make an Assistant we can use to communicate with our run."
   ]
  },
  {
   "cell_type": "code",
   "execution_count": 4,
   "metadata": {},
   "outputs": [
    {
     "name": "stdout",
     "output_type": "stream",
     "text": [
      "Assistant(id='asst_Abwp8ElqaPEflM58kxYfYv9n', created_at=1715937787, description=None, instructions='You are a helpful assistant.', metadata={'holds_threads': 'True', 'likes_threads': 'True', 'holds_messages': 'True', 'likes_messages': 'True'}, model='gpt-4o', name='Run Step Friendly Assistant', object='assistant', tools=[], response_format='auto', temperature=1.0, tool_resources=ToolResources(code_interpreter=None, file_search=None), top_p=1.0)\n",
      "\n",
      "\n",
      "\n",
      "Run Step Friendly Assistant\n",
      "{'holds_threads': 'True', 'likes_threads': 'True', 'holds_messages': 'True', 'likes_messages': 'True'}\n"
     ]
    }
   ],
   "source": [
    "\n",
    "# Create an assistant using the client library.\n",
    "assistant = client.beta.assistants.create(\n",
    "    model=\"gpt-4o\",  # Specify the model to be used.\n",
    "    instructions=\"You are a helpful assistant.\",  # Set the instructions for the assistant.\n",
    "    name=\"Run Step Friendly Assistant\",  # Give the assistant a name.\n",
    "    metadata={  # Add metadata about the assistant's capabilities.\n",
    "        \"holds_threads\": \"True\",\n",
    "        \"likes_threads\": \"True\",\n",
    "        \"holds_messages\": \"True\",\n",
    "        \"likes_messages\": \"True\",\n",
    "    },\n",
    "    temperature=1,  # Set the temperature for response variability.\n",
    "    top_p=1,  # Set the top_p for nucleus sampling.\n",
    ")\n",
    "\n",
    "# Print the details of the created assistant to check its properties.\n",
    "print(assistant)  # Print the full assistant object.\n",
    "print(\"\\n\\n\")\n",
    "print(assistant.name)  # Print the name of the assistant.\n",
    "print(assistant.metadata)  # Print the metadata of the assistant.\n"
   ]
  },
  {
   "cell_type": "markdown",
   "metadata": {},
   "source": [
    "### Creating a Thread\n",
    "Now, let's create a Thread that can be used to hold our messages."
   ]
  },
  {
   "cell_type": "code",
   "execution_count": 5,
   "metadata": {},
   "outputs": [
    {
     "name": "stdout",
     "output_type": "stream",
     "text": [
      "Thread(id='thread_eW4SF8ECCL3ca2A876qQF2gL', created_at=1715937787, metadata={'user': 'abc123'}, object='thread', tool_resources=ToolResources(code_interpreter=None, file_search=None))\n"
     ]
    }
   ],
   "source": [
    "# Create a thread using the OpenAI API and store it in a variable.\n",
    "# The metadata specifies a user identifier.\n",
    "thread = client.beta.threads.create(\n",
    "    metadata={\n",
    "        \"user\": \"abc123\"\n",
    "    }\n",
    ")\n",
    "\n",
    "# Output the result of the thread creation to the console.\n",
    "print(thread)"
   ]
  },
  {
   "cell_type": "markdown",
   "metadata": {},
   "source": [
    "### Creating a Message\n",
    "Finally, let's create a Message that we can go into the Thread for use later."
   ]
  },
  {
   "cell_type": "code",
   "execution_count": 6,
   "metadata": {},
   "outputs": [
    {
     "name": "stdout",
     "output_type": "stream",
     "text": [
      "Message(id='msg_jUo2cnlhiWq0pIi3qAhd2KYb', assistant_id=None, attachments=[], completed_at=None, content=[TextContentBlock(text=Text(annotations=[], value='Tell me what a penguin is in 100 words or less.'), type='text')], created_at=1715937787, incomplete_at=None, incomplete_details=None, metadata={'key': 'value'}, object='thread.message', role='user', run_id=None, status=None, thread_id='thread_eW4SF8ECCL3ca2A876qQF2gL')\n",
      "\n",
      "\n",
      "msg_jUo2cnlhiWq0pIi3qAhd2KYb\n",
      "[TextContentBlock(text=Text(annotations=[], value='Tell me what a penguin is in 100 words or less.'), type='text')]\n",
      "Tell me what a penguin is in 100 words or less.\n",
      "user\n"
     ]
    }
   ],
   "source": [
    "# Create a message in a specific thread using the client's message creation method.\n",
    "message = client.beta.threads.messages.create(\n",
    "    thread_id=thread.id,  # ID of the thread where the message will be posted\n",
    "    role=\"user\",  # Role of the entity posting the message\n",
    "    content=\"Tell me what a penguin is in 100 words or less.\",  # The textual content of the message\n",
    "    metadata={\"key\": \"value\"}  # Additional data associated with the message in key-value pairs\n",
    ")\n",
    "\n",
    "# Print the entire message object to view its details.\n",
    "print(message)\n",
    "\n",
    "# Print a blank line for better readability of the output.\n",
    "print(\"\\n\")\n",
    "\n",
    "# Print specific attributes of the message.\n",
    "print(message.id)  # The unique identifier of the message\n",
    "print(message.content)  # The content of the message\n",
    "print(message.content[0].text.value)  # Assuming 'content' is a list of text objects, print the value of the first one\n",
    "print(message.role)  # The role associated with the message"
   ]
  },
  {
   "cell_type": "markdown",
   "metadata": {},
   "source": [
    "### Creating Streaming Run\n",
    "Let's create a run and get some output!"
   ]
  },
  {
   "cell_type": "code",
   "execution_count": 7,
   "metadata": {},
   "outputs": [],
   "source": [
    "class EventHandler(AssistantEventHandler):\n",
    "    \"\"\"Custom event handler for processing assistant events.\"\"\"\n",
    "\n",
    "    def __init__(self):\n",
    "        super().__init__()\n",
    "        self.results = []  # Initialize the results list\n",
    "\n",
    "    @override\n",
    "    def on_text_created(self, text) -> None:\n",
    "        \"\"\"Handle the event when text is first created.\"\"\"\n",
    "        print(\"\\nassistant text > \", end=\"\", flush=True)\n",
    "        self.results.append(text)\n",
    "\n",
    "    @override\n",
    "    def on_text_delta(self, delta, snapshot):\n",
    "        \"\"\"Handle the event when there is a text delta (partial text).\"\"\"\n",
    "        print(delta.value, end=\"\", flush=True)\n",
    "        self.results.append(delta.value)\n",
    "\n",
    "    def on_tool_call_created(self, tool_call):\n",
    "        \"\"\"Handle the event when a tool call is created.\"\"\"\n",
    "        print(f\"\\nassistant tool > {tool_call.type}\\n\", flush=True)\n",
    "\n",
    "    def on_tool_call_delta(self, delta, snapshot):\n",
    "        \"\"\"Handle the event when there is a delta (update) in a tool call.\"\"\"\n",
    "        if delta.type == 'code_interpreter':\n",
    "            if delta.code_interpreter.input:\n",
    "                print(delta.code_interpreter.input, end=\"\", flush=True)\n",
    "                self.results.append(delta.code_interpreter.input)\n",
    "            if delta.code_interpreter.outputs:\n",
    "                print(\"\\n\\noutput >\", flush=True)\n",
    "            for output in delta.code_interpreter.outputs:\n",
    "                if output.type == \"logs\":\n",
    "                    print(f\"\\n{output.logs}\", flush=True)\n",
    "                    self.results.append(output.logs)\n"
   ]
  },
  {
   "cell_type": "code",
   "execution_count": 8,
   "metadata": {},
   "outputs": [
    {
     "name": "stdout",
     "output_type": "stream",
     "text": [
      "\n",
      "assistant text > A penguin is a flightless seabird primarily found in the Southern Hemisphere, especially Antarctica. Recognizable by their black and white plumage, penguins have adapted flippers for swimming. They primarily feed on fish, squid, and krill. Penguins are social animals, often living in large colonies. Species vary in size from the small Little Blue Penguin to the large Emperor Penguin. Adaptations like a thick layer of blubber and tightly packed feathers provide insulation against the cold. Despite their inability to fly, penguins are agile swimmers, capable of diving deep and traveling long distances in search of food.\n",
      "\n",
      "\n",
      "Collected results: [Text(annotations=[], value='A'), 'A', ' peng', 'uin', ' is', ' a', ' flight', 'less', ' seab', 'ird', ' primarily', ' found', ' in', ' the', ' Southern', ' Hemisphere', ',', ' especially', ' Antarctica', '.', ' Recogn', 'izable', ' by', ' their', ' black', ' and', ' white', ' plum', 'age', ',', ' peng', 'uins', ' have', ' adapted', ' fl', 'ippers', ' for', ' swimming', '.', ' They', ' primarily', ' feed', ' on', ' fish', ',', ' squid', ',', ' and', ' kr', 'ill', '.', ' Penguins', ' are', ' social', ' animals', ',', ' often', ' living', ' in', ' large', ' colonies', '.', ' Species', ' vary', ' in', ' size', ' from', ' the', ' small', ' Little', ' Blue', ' Penguin', ' to', ' the', ' large', ' Emperor', ' Penguin', '.', ' Adapt', 'ations', ' like', ' a', ' thick', ' layer', ' of', ' bl', 'ubber', ' and', ' tightly', ' packed', ' feathers', ' provide', ' insulation', ' against', ' the', ' cold', '.', ' Despite', ' their', ' inability', ' to', ' fly', ',', ' peng', 'uins', ' are', ' agile', ' swimmers', ',', ' capable', ' of', ' diving', ' deep', ' and', ' traveling', ' long', ' distances', ' in', ' search', ' of', ' food', '.']\n"
     ]
    }
   ],
   "source": [
    "event_handler = EventHandler()\n",
    "\n",
    "with client.beta.threads.runs.stream(\n",
    "    thread_id=thread.id,         # ID of the thread to run.\n",
    "    assistant_id=assistant.id,   # ID of the assistant to use.\n",
    "    event_handler=event_handler,  # Custom event handler for processing events.\n",
    ") as stream:\n",
    "    # Process the stream until it is complete.\n",
    "    stream.until_done()\n",
    "\n",
    "# Retrieve the results after the context manager block\n",
    "results = event_handler.results\n",
    "\n",
    "# Process or print the results as needed\n",
    "print(\"\\n\\n\")\n",
    "print(\"Collected results:\", results)\n",
    "\n"
   ]
  },
  {
   "cell_type": "markdown",
   "metadata": {},
   "source": [
    "## Listing Run Steps\n",
    "\n",
    "thread_id\n",
    "(string)\n",
    "\n",
    "Required\n",
    "The ID of the thread the run and run steps belong to.\n",
    "\n",
    "run_id\n",
    "(string)\n",
    "\n",
    "Required\n",
    "The ID of the run the run steps belong to.\n",
    "\n",
    "limit\n",
    "(integer)\n",
    "\n",
    "Optional\n",
    "Defaults to 20\n",
    "A limit on the number of objects to be returned. Limit can range between 1 and 100, and the default is 20.\n",
    "\n",
    "order\n",
    "(string)\n",
    "\n",
    "Optional\n",
    "Defaults to desc\n",
    "Sort order by the created_at timestamp of the objects. asc for ascending order and desc for descending order.\n",
    "\n",
    "after\n",
    "(string)\n",
    "\n",
    "Optional\n",
    "A cursor for use in pagination. after is an object ID that defines your place in the list. For instance, if you make a list request and receive 100 objects, ending with obj_foo, your subsequent call can include after=obj_foo in order to fetch the next page of the list.\n",
    "\n",
    "before\n",
    "(string)\n",
    "\n",
    "Optional\n",
    "A cursor for use in pagination. before is an object ID that defines your place in the list. For instance, if you make a list request and receive 100 objects, ending with obj_foo, your subsequent call can include before=obj_foo in order to fetch the previous page of the list."
   ]
  },
  {
   "cell_type": "code",
   "execution_count": 9,
   "metadata": {},
   "outputs": [
    {
     "name": "stdout",
     "output_type": "stream",
     "text": [
      "SyncCursorPage[RunStep](data=[RunStep(id='step_OcROfiTb35M8tUUpv96gQzEf', assistant_id='asst_Abwp8ElqaPEflM58kxYfYv9n', cancelled_at=None, completed_at=1715937791, created_at=1715937788, expired_at=None, failed_at=None, last_error=None, metadata=None, object='thread.run.step', run_id='run_yzAtma8KXC9hdclO0k7bYBZs', status='completed', step_details=MessageCreationStepDetails(message_creation=MessageCreation(message_id='msg_3bsVE1ED4yk7s9CkjTEXiYkS'), type='message_creation'), thread_id='thread_eW4SF8ECCL3ca2A876qQF2gL', type='message_creation', usage=Usage(completion_tokens=123, prompt_tokens=44, total_tokens=167), expires_at=None)], object='list', first_id='step_OcROfiTb35M8tUUpv96gQzEf', last_id='step_OcROfiTb35M8tUUpv96gQzEf', has_more=False)\n",
      "\n",
      "\n",
      "step_OcROfiTb35M8tUUpv96gQzEf\n",
      "completed\n",
      "Usage(completion_tokens=123, prompt_tokens=44, total_tokens=167)\n",
      "MessageCreationStepDetails(message_creation=MessageCreation(message_id='msg_3bsVE1ED4yk7s9CkjTEXiYkS'), type='message_creation')\n",
      "\n",
      "\n"
     ]
    }
   ],
   "source": [
    "\n",
    "all_run_steps = client.beta.threads.runs.steps.list(\n",
    "    thread_id=thread.id,\n",
    "    run_id=stream.get_final_run().id\n",
    ")\n",
    "\n",
    "print(all_run_steps)\n",
    "print(\"\\n\")\n",
    "\n",
    "\n",
    "for run_step in all_run_steps:\n",
    "    print(run_step.id)\n",
    "    print(run_step.status)\n",
    "    print(run_step.usage)\n",
    "    print(run_step.step_details)\n",
    "    print(\"\\n\")\n",
    "\n"
   ]
  },
  {
   "cell_type": "markdown",
   "metadata": {},
   "source": [
    "### Retrieving Run Steps\n",
    "\n",
    "thread_id\n",
    "(string)\n",
    "\n",
    "Required\n",
    "The ID of the thread to which the run and run step belongs.\n",
    "\n",
    "run_id\n",
    "(string)\n",
    "\n",
    "Required\n",
    "The ID of the run to which the run step belongs.\n",
    "\n",
    "step_id\n",
    "(string)\n",
    "\n",
    "Required\n",
    "The ID of the run step to retrieve.\n"
   ]
  },
  {
   "cell_type": "markdown",
   "metadata": {},
   "source": [
    "### Simple Retrieve\n",
    "Let's grab a run step using a relatively simple method for a single step"
   ]
  },
  {
   "cell_type": "code",
   "execution_count": 20,
   "metadata": {},
   "outputs": [
    {
     "name": "stdout",
     "output_type": "stream",
     "text": [
      "RunStep(id='step_OcROfiTb35M8tUUpv96gQzEf', assistant_id='asst_Abwp8ElqaPEflM58kxYfYv9n', cancelled_at=None, completed_at=1715937791, created_at=1715937788, expired_at=None, failed_at=None, last_error=None, metadata=None, object='thread.run.step', run_id='run_yzAtma8KXC9hdclO0k7bYBZs', status='completed', step_details=MessageCreationStepDetails(message_creation=MessageCreation(message_id='msg_3bsVE1ED4yk7s9CkjTEXiYkS'), type='message_creation'), thread_id='thread_eW4SF8ECCL3ca2A876qQF2gL', type='message_creation', usage=Usage(completion_tokens=123, prompt_tokens=44, total_tokens=167), expires_at=None)\n",
      "\n",
      "\n",
      "step_OcROfiTb35M8tUUpv96gQzEf\n",
      "completed\n",
      "Usage(completion_tokens=123, prompt_tokens=44, total_tokens=167)\n",
      "MessageCreation(message_id='msg_3bsVE1ED4yk7s9CkjTEXiYkS')\n",
      "\n",
      "\n",
      "A penguin is a flightless seabird primarily found in the Southern Hemisphere, especially Antarctica. Recognizable by their black and white plumage, penguins have adapted flippers for swimming. They primarily feed on fish, squid, and krill. Penguins are social animals, often living in large colonies. Species vary in size from the small Little Blue Penguin to the large Emperor Penguin. Adaptations like a thick layer of blubber and tightly packed feathers provide insulation against the cold. Despite their inability to fly, penguins are agile swimmers, capable of diving deep and traveling long distances in search of food.\n"
     ]
    }
   ],
   "source": [
    "# Retrieve the list of steps\n",
    "steps_page = client.beta.threads.runs.steps.list(thread_id=thread.id, run_id=stream.get_final_run().id)\n",
    "\n",
    "# Check if steps_page has an attribute or method to get the first step\n",
    "first_step = steps_page[0] if isinstance(steps_page, list) else next(iter(steps_page))\n",
    "\n",
    "# Retrieve the run step\n",
    "run_step = client.beta.threads.runs.steps.retrieve(\n",
    "    thread_id=thread.id,\n",
    "    run_id=stream.get_final_run().id,\n",
    "    step_id=first_step.id\n",
    ")\n",
    "\n",
    "print(run_step)\n",
    "print(\"\\n\")\n",
    "print(run_step.id)\n",
    "print(run_step.status)\n",
    "print(run_step.usage)\n",
    "print(run_step.step_details.message_creation)\n",
    "print(\"\\n\")\n",
    "\n",
    "# Get the message associated with the run step\n",
    "message = client.beta.threads.messages.retrieve(\n",
    "    thread_id=thread.id, \n",
    "    message_id=run_step.step_details.message_creation.message_id\n",
    ")\n",
    "\n",
    "# Print the message content\n",
    "print(message.content[0].text.value)\n",
    "\n"
   ]
  },
  {
   "cell_type": "code",
   "execution_count": 22,
   "metadata": {},
   "outputs": [
    {
     "name": "stdout",
     "output_type": "stream",
     "text": [
      "\n",
      "====== Begin Run Step ======\n",
      "\n",
      "thread_eW4SF8ECCL3ca2A876qQF2gL\n",
      "\n",
      "\n",
      "run_yzAtma8KXC9hdclO0k7bYBZs\n",
      "\n",
      "\n",
      "step_OcROfiTb35M8tUUpv96gQzEf\n",
      "completed\n",
      "Usage(completion_tokens=123, prompt_tokens=44, total_tokens=167)\n",
      "MessageCreationStepDetails(message_creation=MessageCreation(message_id='msg_3bsVE1ED4yk7s9CkjTEXiYkS'), type='message_creation')\n",
      "\n",
      "\n",
      "A penguin is a flightless seabird primarily found in the Southern Hemisphere, especially Antarctica. Recognizable by their black and white plumage, penguins have adapted flippers for swimming. They primarily feed on fish, squid, and krill. Penguins are social animals, often living in large colonies. Species vary in size from the small Little Blue Penguin to the large Emperor Penguin. Adaptations like a thick layer of blubber and tightly packed feathers provide insulation against the cold. Despite their inability to fly, penguins are agile swimmers, capable of diving deep and traveling long distances in search of food.\n",
      "\n",
      "====== End Run Step ======\n",
      "\n"
     ]
    }
   ],
   "source": [
    "# Show all the run steps for every run and the message content\n",
    "\n",
    "# Get a list of runs\n",
    "runs = client.beta.threads.runs.list(\n",
    "    thread_id=thread.id,\n",
    "    order=\"desc\",  # Order runs in descending order\n",
    ")\n",
    "\n",
    "# start our runs loop\n",
    "for run in runs:\n",
    "    # now list our run steps\n",
    "    run_steps = client.beta.threads.runs.steps.list(\n",
    "        thread_id=thread.id,\n",
    "        run_id=run.id\n",
    "    )\n",
    "    \n",
    "    # start our run steps loop\n",
    "    for run_step in run_steps:\n",
    "        print(\"\\n====== Begin Run Step ======\\n\")\n",
    "        print(thread.id)\n",
    "        print(\"\\n\")\n",
    "        print(run.id)\n",
    "        print(\"\\n\")\n",
    "        print(run_step.id)\n",
    "        print(run_step.status)\n",
    "        print(run_step.usage)\n",
    "        print(run_step.step_details)\n",
    "        print(\"\\n\")\n",
    "        message = client.beta.threads.messages.retrieve(\n",
    "            thread_id=thread.id,\n",
    "            message_id=run_step.step_details.message_creation.message_id\n",
    "        )\n",
    "        print(message.content[0].text.value)\n",
    "\n",
    "        print(\"\\n====== End Run Step ======\\n\")"
   ]
  }
 ],
 "metadata": {
  "kernelspec": {
   "display_name": "NormalProgramming",
   "language": "python",
   "name": "python3"
  },
  "language_info": {
   "codemirror_mode": {
    "name": "ipython",
    "version": 3
   },
   "file_extension": ".py",
   "mimetype": "text/x-python",
   "name": "python",
   "nbconvert_exporter": "python",
   "pygments_lexer": "ipython3",
   "version": "3.11.4"
  }
 },
 "nbformat": 4,
 "nbformat_minor": 2
}
