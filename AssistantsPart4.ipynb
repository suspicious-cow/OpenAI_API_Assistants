{
 "cells": [
  {
   "cell_type": "markdown",
   "metadata": {},
   "source": [
    "# Managing Threads\n",
    "An Assistant represents an entity that can be configured to respond to a user's messages using several parameters like model, instructions, and tools. \n",
    "\n",
    "A Thread represents a conversation between a user and one or many Assistants. You can create a Thread when a user (or your AI application) starts a conversation with your Assistant.\n",
    "\n",
    "**Cleaning Up Our Assistants**\n",
    "Uncomment and run the below code if you want to delete ALL your Assistants. \n",
    "\n",
    "WARNING: THIS WILL DELETE ALL YOUR ASSISTANTS\n",
    "\n",
    "SERIOUSLY\n",
    "\n",
    "NOT KIDDING\n",
    "\n",
    "GONE!\n",
    "\n",
    "YOU BETTER BE SURE"
   ]
  },
  {
   "cell_type": "code",
   "execution_count": 2,
   "metadata": {},
   "outputs": [
    {
     "name": "stdout",
     "output_type": "stream",
     "text": [
      "Number of Assistants: 12\n",
      "\n",
      "\n",
      "asst_DKhbAUsalVJT7mGtqjYdNZup\n",
      "Code Interpreter Assistant that is Doomed to Be Deleted Soon\n",
      "\n",
      "\n",
      "asst_wvZH0YdJHx1HsP0RLOgNsUBA\n",
      "Code Interpreter Assistant\n",
      "\n",
      "\n",
      "asst_WUedegb2r56SruQ4mYerGdXs\n",
      "Extra Arguments Assistant\n",
      "\n",
      "\n",
      "asst_kbKfTPUYcDaRYNXEKoRcDftx\n",
      "Extra Arguments Assistant\n",
      "\n",
      "\n",
      "asst_pmBVVKeAfY9ka1GA5CVlhPxL\n",
      "Seriously Cool Assistant\n",
      "\n",
      "\n",
      "asst_Yn1nYwZUaTKcboLOqAj94eGf\n",
      "None\n",
      "\n",
      "\n",
      "asst_qGjXPL02tdAXzPyaWzNKtWdv\n",
      "SonOfAnotherAssistant\n",
      "\n",
      "\n",
      "asst_13I9T9OHsZVIx9G2Ja7AKXVc\n",
      "YetAnotherAssistant\n",
      "\n",
      "\n",
      "asst_jrcAIIKpz1O8s5GKuMMKawAx\n",
      "Function Fun\n",
      "\n",
      "\n",
      "asst_sZiMAv1OmVpN464k2JoxyjdB\n",
      "Code Brutha\n",
      "\n",
      "\n",
      "asst_hlsbSbcxUitk2IF36G5KOi0H\n",
      "File Search Assistant\n",
      "\n",
      "\n",
      "asst_2Y9kU1ZtaqtHNbNm83s78CV1\n",
      "Vox Antiqua\n",
      "\n",
      "\n"
     ]
    }
   ],
   "source": [
    "# Let's get a list of Assistants so we can be sure we want to blow them away\n",
    "\n",
    "# Import the OpenAI library to use its API functionalities\n",
    "from openai import OpenAI\n",
    "\n",
    "# Create an instance of the OpenAI class for API interactions\n",
    "client = OpenAI()\n",
    "\n",
    "# List all the assistants available under the current OpenAI account\n",
    "my_assistants = client.beta.assistants.list()\n",
    "\n",
    "# Print the number of assistants retrieved\n",
    "print(\"Number of Assistants: \" + str(len(my_assistants.data)))\n",
    "print(\"\\n\")\n",
    "\n",
    "# Iterate through each assistant object in the data list\n",
    "for assistant in my_assistants.data:\n",
    "    # Print the unique identifier of the assistant\n",
    "    print(assistant.id)\n",
    "    # Print the name of the assistant\n",
    "    print(assistant.name)\n",
    "    # Print a newline for better readability between entries\n",
    "    print(\"\\n\")"
   ]
  },
  {
   "cell_type": "code",
   "execution_count": 4,
   "metadata": {},
   "outputs": [
    {
     "name": "stdout",
     "output_type": "stream",
     "text": [
      "Deleted assistant: asst_DKhbAUsalVJT7mGtqjYdNZup\n",
      "\n",
      "\n",
      "Deleted assistant: asst_wvZH0YdJHx1HsP0RLOgNsUBA\n",
      "\n",
      "\n",
      "Deleted assistant: asst_WUedegb2r56SruQ4mYerGdXs\n",
      "\n",
      "\n",
      "Deleted assistant: asst_kbKfTPUYcDaRYNXEKoRcDftx\n",
      "\n",
      "\n",
      "Deleted assistant: asst_pmBVVKeAfY9ka1GA5CVlhPxL\n",
      "\n",
      "\n",
      "Deleted assistant: asst_Yn1nYwZUaTKcboLOqAj94eGf\n",
      "\n",
      "\n",
      "Deleted assistant: asst_qGjXPL02tdAXzPyaWzNKtWdv\n",
      "\n",
      "\n",
      "Deleted assistant: asst_13I9T9OHsZVIx9G2Ja7AKXVc\n",
      "\n",
      "\n",
      "Deleted assistant: asst_jrcAIIKpz1O8s5GKuMMKawAx\n",
      "\n",
      "\n",
      "Deleted assistant: asst_sZiMAv1OmVpN464k2JoxyjdB\n",
      "\n",
      "\n",
      "Deleted assistant: asst_hlsbSbcxUitk2IF36G5KOi0H\n",
      "\n",
      "\n",
      "Deleted assistant: asst_2Y9kU1ZtaqtHNbNm83s78CV1\n",
      "\n",
      "\n"
     ]
    }
   ],
   "source": [
    "# This code WILL DELETE ALL YOUR ASSISTANTS if you uncomment it AND run it\n",
    "# for assistant in my_assistants.data:\n",
    "#     client.beta.assistants.delete(assistant.id)\n",
    "#     print(\"Deleted assistant: \" + assistant.id)\n",
    "#     print(\"\\n\")\n"
   ]
  },
  {
   "cell_type": "code",
   "execution_count": 5,
   "metadata": {},
   "outputs": [
    {
     "name": "stdout",
     "output_type": "stream",
     "text": [
      "Number of Assistants: 0\n",
      "\n",
      "\n"
     ]
    }
   ],
   "source": [
    "# Verify that all assistants have been deleted\n",
    "\n",
    "# Import the OpenAI library to use its API functionalities\n",
    "from openai import OpenAI\n",
    "\n",
    "# Create an instance of the OpenAI class for API interactions\n",
    "client = OpenAI()\n",
    "\n",
    "# List all the assistants available under the current OpenAI account\n",
    "my_assistants = client.beta.assistants.list()\n",
    "\n",
    "# Print the number of assistants retrieved\n",
    "print(\"Number of Assistants: \" + str(len(my_assistants.data)))\n",
    "print(\"\\n\")\n",
    "\n",
    "# Iterate through each assistant object in the data list\n",
    "for assistant in my_assistants.data:\n",
    "    # Print the unique identifier of the assistant\n",
    "    print(assistant.id)\n",
    "    # Print the name of the assistant\n",
    "    print(assistant.name)\n",
    "    # Print a newline for better readability between entries\n",
    "    print(\"\\n\")"
   ]
  },
  {
   "cell_type": "markdown",
   "metadata": {},
   "source": [
    "## Creating Assistants Review\n",
    "Let's take a quick look at how to create an assistant that we can use to learn about managing assistants."
   ]
  },
  {
   "cell_type": "code",
   "execution_count": 6,
   "metadata": {},
   "outputs": [
    {
     "name": "stdout",
     "output_type": "stream",
     "text": [
      "Assistant(id='asst_oPjVwRSqKTuaNH8f36bEuffK', created_at=1715299986, description=None, instructions='You are a helpful assistant.', metadata={'likes_threads': 'True'}, model='gpt-4-turbo', name='I Like Talking To Threads', object='assistant', tools=[], response_format='auto', temperature=1.0, tool_resources=ToolResources(code_interpreter=None, file_search=None), top_p=1.0)\n",
      "\n",
      "\n",
      "\n",
      "I Like Talking To Threads\n",
      "[]\n"
     ]
    }
   ],
   "source": [
    "from openai import OpenAI\n",
    "\n",
    "# Create an instance of the OpenAI class.\n",
    "client = OpenAI()\n",
    "\n",
    "# Create an assistant that uses code interpreter.\n",
    "assistant = client.beta.assistants.create(\n",
    "    model=\"gpt-4-turbo\",\n",
    "    instructions=\"You are a helpful assistant.\",\n",
    "    name=\"I Like Talking To Threads\",\n",
    "    metadata={\n",
    "        \"likes_threads\": \"True\",\n",
    "    },\n",
    "    temperature=1,\n",
    "    top_p=1,\n",
    ")\n",
    "\n",
    "# Print the details of the created assistant to check the properties.\n",
    "print(assistant)\n",
    "print(\"\\n\\n\")\n",
    "print(assistant.name)\n",
    "print(assistant.tools)"
   ]
  },
  {
   "cell_type": "markdown",
   "metadata": {},
   "source": [
    "## Creating Threads\n",
    "To see the code needed to create a thread, let's start by creating an emtpty thread we can use later, if we want, to put messages into."
   ]
  },
  {
   "cell_type": "code",
   "execution_count": 7,
   "metadata": {},
   "outputs": [
    {
     "name": "stdout",
     "output_type": "stream",
     "text": [
      "Thread(id='thread_e0Z7XiS6QicKys24sjjbGL1n', created_at=1715300095, metadata={}, object='thread', tool_resources=ToolResources(code_interpreter=None, file_search=None))\n"
     ]
    }
   ],
   "source": [
    "from openai import OpenAI\n",
    "client = OpenAI()\n",
    "\n",
    "empty_thread = client.beta.threads.create()\n",
    "print(empty_thread)\n"
   ]
  },
  {
   "cell_type": "markdown",
   "metadata": {},
   "source": [
    "Now let's create a thread with some sample messages in it."
   ]
  },
  {
   "cell_type": "code",
   "execution_count": 3,
   "metadata": {},
   "outputs": [
    {
     "name": "stdout",
     "output_type": "stream",
     "text": [
      "Thread(id='thread_9lqvHkNQsAfPSNQYFY1KFMIr', created_at=1715300478, metadata={}, object='thread', tool_resources=ToolResources(code_interpreter=None, file_search=None))\n",
      "\n",
      "\n",
      "thread_9lqvHkNQsAfPSNQYFY1KFMIr\n",
      "thread\n",
      "1715300478\n",
      "ToolResources(code_interpreter=None, file_search=None)\n",
      "{}\n"
     ]
    }
   ],
   "source": [
    "from openai import OpenAI\n",
    "client = OpenAI()\n",
    "\n",
    "message_thread = client.beta.threads.create(\n",
    "  messages=[\n",
    "    {\n",
    "      \"role\": \"user\",\n",
    "      \"content\": \"Hello, what is AI?\"\n",
    "    },\n",
    "    {\n",
    "      \"role\": \"user\",\n",
    "      \"content\": \"How does AI work? Explain it in simple terms.\"\n",
    "    },\n",
    "  ]\n",
    ")\n",
    "\n",
    "print(message_thread)\n",
    "print(\"\\n\")\n",
    "print(message_thread.id)\n",
    "print(message_thread.object)\n",
    "print(message_thread.created_at)\n",
    "print(message_thread.tool_resources)\n",
    "print(message_thread.metadata)\n",
    "\n",
    "\n"
   ]
  },
  {
   "cell_type": "markdown",
   "metadata": {},
   "source": [
    "## Listing Threads\n",
    "Can't be done currently. "
   ]
  },
  {
   "cell_type": "markdown",
   "metadata": {},
   "source": [
    "## Retrieving Threads\n",
    "Now we want to get our threads back once created. Make sure you have your thread ID."
   ]
  },
  {
   "cell_type": "code",
   "execution_count": 7,
   "metadata": {},
   "outputs": [
    {
     "name": "stdout",
     "output_type": "stream",
     "text": [
      "Thread(id='thread_9lqvHkNQsAfPSNQYFY1KFMIr', created_at=1715300478, metadata={}, object='thread', tool_resources=ToolResources(code_interpreter=ToolResourcesCodeInterpreter(file_ids=[]), file_search=None))\n"
     ]
    }
   ],
   "source": [
    "from openai import OpenAI\n",
    "client = OpenAI()\n",
    "\n",
    "my_thread = client.beta.threads.retrieve(\"thread_9lqvHkNQsAfPSNQYFY1KFMIr\")\n",
    "print(my_thread)\n"
   ]
  }
 ],
 "metadata": {
  "kernelspec": {
   "display_name": "NormalProgramming",
   "language": "python",
   "name": "python3"
  },
  "language_info": {
   "codemirror_mode": {
    "name": "ipython",
    "version": 3
   },
   "file_extension": ".py",
   "mimetype": "text/x-python",
   "name": "python",
   "nbconvert_exporter": "python",
   "pygments_lexer": "ipython3",
   "version": "3.11.4"
  }
 },
 "nbformat": 4,
 "nbformat_minor": 2
}
