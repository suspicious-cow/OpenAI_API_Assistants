{
 "cells": [
  {
   "cell_type": "markdown",
   "metadata": {},
   "source": [
    "# Managing Threads\n",
    "An Assistant represents an entity that can be configured to respond to a user's messages using several parameters like model, instructions, and tools. \n",
    "\n",
    "A Thread represents a conversation between a user and one or many Assistants. You can create a Thread when a user (or your AI application) starts a conversation with your Assistant.\n",
    "\n",
    "**Cleaning Up Our Assistants**\n",
    "Uncomment and run the below code if you want to delete ALL your Assistants. \n",
    "\n",
    "WARNING: THIS WILL DELETE ALL YOUR ASSISTANTS\n",
    "\n",
    "SERIOUSLY\n",
    "\n",
    "NOT KIDDING\n",
    "\n",
    "GONE!\n",
    "\n",
    "YOU BETTER BE SURE"
   ]
  },
  {
   "cell_type": "code",
   "execution_count": null,
   "metadata": {},
   "outputs": [],
   "source": [
    "# Let's get a list of Assistants so we can be sure we want to blow them away\n",
    "\n",
    "# Import the OpenAI library to use its API functionalities\n",
    "from openai import OpenAI\n",
    "\n",
    "# Create an instance of the OpenAI class for API interactions\n",
    "client = OpenAI()\n",
    "\n",
    "# List all the assistants available under the current OpenAI account\n",
    "my_assistants = client.beta.assistants.list()\n",
    "\n",
    "# Print the number of assistants retrieved\n",
    "print(\"Number of Assistants: \" + str(len(my_assistants.data)))\n",
    "print(\"\\n\")\n",
    "\n",
    "# Iterate through each assistant object in the data list\n",
    "for assistant in my_assistants.data:\n",
    "    # Print the unique identifier of the assistant\n",
    "    print(assistant.id)\n",
    "    # Print the name of the assistant\n",
    "    print(assistant.name)\n",
    "    # Print a newline for better readability between entries\n",
    "    print(\"\\n\")"
   ]
  },
  {
   "cell_type": "code",
   "execution_count": null,
   "metadata": {},
   "outputs": [],
   "source": [
    "# This code WILL DELETE ALL YOUR ASSISTANTS if you uncomment it AND run it\n",
    "# for assistant in my_assistants.data:\n",
    "#     client.beta.assistants.delete(assistant.id)\n",
    "#     print(\"Deleted assistant: \" + assistant.id)\n",
    "#     print(\"\\n\")\n"
   ]
  },
  {
   "cell_type": "code",
   "execution_count": null,
   "metadata": {},
   "outputs": [],
   "source": [
    "# Verify that all assistants have been deleted\n",
    "\n",
    "# Import the OpenAI library to use its API functionalities\n",
    "from openai import OpenAI\n",
    "\n",
    "# Create an instance of the OpenAI class for API interactions\n",
    "client = OpenAI()\n",
    "\n",
    "# List all the assistants available under the current OpenAI account\n",
    "my_assistants = client.beta.assistants.list()\n",
    "\n",
    "# Print the number of assistants retrieved\n",
    "print(\"Number of Assistants: \" + str(len(my_assistants.data)))\n",
    "print(\"\\n\")\n",
    "\n",
    "# Iterate through each assistant object in the data list\n",
    "for assistant in my_assistants.data:\n",
    "    # Print the unique identifier of the assistant\n",
    "    print(assistant.id)\n",
    "    # Print the name of the assistant\n",
    "    print(assistant.name)\n",
    "    # Print a newline for better readability between entries\n",
    "    print(\"\\n\")"
   ]
  },
  {
   "cell_type": "markdown",
   "metadata": {},
   "source": [
    "## Creating Assistants Review\n",
    "Let's take a quick look at how to create an assistant that we can use to learn about managing assistants."
   ]
  },
  {
   "cell_type": "code",
   "execution_count": null,
   "metadata": {},
   "outputs": [],
   "source": [
    "from openai import OpenAI\n",
    "\n",
    "# Create an instance of the OpenAI class.\n",
    "client = OpenAI()\n",
    "\n",
    "# Create an assistant that uses code interpreter.\n",
    "assistant = client.beta.assistants.create(\n",
    "    model=\"gpt-4-turbo\",\n",
    "    instructions=\"You are a helpful assistant.\",\n",
    "    name=\"I Like Talking To Threads\",\n",
    "    metadata={\n",
    "        \"likes_threads\": \"True\",\n",
    "    },\n",
    "    temperature=1,\n",
    "    top_p=1,\n",
    ")\n",
    "\n",
    "# Print the details of the created assistant to check the properties.\n",
    "print(assistant)\n",
    "print(\"\\n\\n\")\n",
    "print(assistant.name)\n",
    "print(assistant.tools)"
   ]
  },
  {
   "cell_type": "markdown",
   "metadata": {},
   "source": [
    "## Creating Threads\n",
    "To see the code needed to create a thread, let's start by creating an emtpty thread we can use later, if we want, to put messages into."
   ]
  },
  {
   "cell_type": "code",
   "execution_count": null,
   "metadata": {},
   "outputs": [],
   "source": [
    "from openai import OpenAI\n",
    "client = OpenAI()\n",
    "\n",
    "empty_thread = client.beta.threads.create()\n",
    "print(empty_thread)\n"
   ]
  },
  {
   "cell_type": "markdown",
   "metadata": {},
   "source": [
    "Now let's create a thread with some sample messages in it."
   ]
  },
  {
   "cell_type": "code",
   "execution_count": null,
   "metadata": {},
   "outputs": [],
   "source": [
    "from openai import OpenAI\n",
    "client = OpenAI()\n",
    "\n",
    "message_thread = client.beta.threads.create(\n",
    "  messages=[\n",
    "    {\n",
    "      \"role\": \"user\",\n",
    "      \"content\": \"Hello, what is AI?\"\n",
    "    },\n",
    "    {\n",
    "      \"role\": \"user\",\n",
    "      \"content\": \"How does AI work? Explain it in simple terms.\"\n",
    "    },\n",
    "  ]\n",
    ")\n",
    "\n",
    "print(message_thread)\n",
    "print(\"\\n\")\n",
    "print(message_thread.id)\n",
    "print(message_thread.object)\n",
    "print(message_thread.created_at)\n",
    "print(message_thread.tool_resources)\n",
    "print(message_thread.metadata)\n",
    "\n",
    "\n"
   ]
  },
  {
   "cell_type": "markdown",
   "metadata": {},
   "source": [
    "## Listing Threads\n",
    "Can't be done currently. "
   ]
  },
  {
   "cell_type": "markdown",
   "metadata": {},
   "source": [
    "## Retrieving Threads\n",
    "Now we want to get our threads back once created. Make sure you have your thread ID."
   ]
  },
  {
   "cell_type": "code",
   "execution_count": null,
   "metadata": {},
   "outputs": [],
   "source": [
    "from openai import OpenAI\n",
    "client = OpenAI()\n",
    "\n",
    "my_thread = client.beta.threads.retrieve(\"thread_9lqvHkNQsAfPSNQYFY1KFMIr\")\n",
    "print(my_thread)\n"
   ]
  },
  {
   "cell_type": "markdown",
   "metadata": {},
   "source": [
    "## Modifying Threads\n",
    "We can make changes to any thread as long as we have the thread id."
   ]
  },
  {
   "cell_type": "code",
   "execution_count": null,
   "metadata": {},
   "outputs": [],
   "source": [
    "from openai import OpenAI\n",
    "client = OpenAI()\n",
    "\n",
    "my_updated_thread = client.beta.threads.update(\n",
    "  \"thread_9lqvHkNQsAfPSNQYFY1KFMIr\",\n",
    "  tool_resources=None,\n",
    "  metadata={\n",
    "    \"modified\": \"True\",\n",
    "    \"user\": \"abc123\"\n",
    "  }\n",
    ")\n",
    "print(my_updated_thread)\n"
   ]
  },
  {
   "cell_type": "markdown",
   "metadata": {},
   "source": [
    "## Deleting Threads\n",
    "Inevitably, when you are done, you will want to delete threads as part of your clean up process. Let's look at how to delete threads."
   ]
  },
  {
   "cell_type": "code",
   "execution_count": null,
   "metadata": {},
   "outputs": [],
   "source": [
    "from openai import OpenAI\n",
    "client = OpenAI()\n",
    "\n",
    "response = client.beta.threads.delete(\"thread_9lqvHkNQsAfPSNQYFY1KFMIr\")\n",
    "print(response)\n"
   ]
  }
 ],
 "metadata": {
  "kernelspec": {
   "display_name": "NormalProgramming",
   "language": "python",
   "name": "python3"
  },
  "language_info": {
   "codemirror_mode": {
    "name": "ipython",
    "version": 3
   },
   "file_extension": ".py",
   "mimetype": "text/x-python",
   "name": "python",
   "nbconvert_exporter": "python",
   "pygments_lexer": "ipython3",
   "version": "3.11.4"
  }
 },
 "nbformat": 4,
 "nbformat_minor": 2
}
