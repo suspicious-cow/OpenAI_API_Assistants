{
 "cells": [
  {
   "cell_type": "markdown",
   "metadata": {},
   "source": [
    "# Part 12\n",
    "\n",
    "# Using File Search\n",
    "\n",
    "Universal code for the entire notebook"
   ]
  },
  {
   "cell_type": "code",
   "execution_count": 1,
   "metadata": {},
   "outputs": [
    {
     "name": "stdout",
     "output_type": "stream",
     "text": [
      "Requirement already satisfied: openai==1.28.1 in e:\\programfiles\\anaconda3\\envs\\normalprogramming\\lib\\site-packages (from -r requirements.txt (line 4)) (1.28.1)\n",
      "Requirement already satisfied: pytz==2023.3 in e:\\programfiles\\anaconda3\\envs\\normalprogramming\\lib\\site-packages (from -r requirements.txt (line 5)) (2023.3)\n",
      "Requirement already satisfied: anyio<5,>=3.5.0 in e:\\programfiles\\anaconda3\\envs\\normalprogramming\\lib\\site-packages (from openai==1.28.1->-r requirements.txt (line 4)) (4.2.0)\n",
      "Requirement already satisfied: distro<2,>=1.7.0 in e:\\programfiles\\anaconda3\\envs\\normalprogramming\\lib\\site-packages (from openai==1.28.1->-r requirements.txt (line 4)) (1.9.0)\n",
      "Requirement already satisfied: httpx<1,>=0.23.0 in e:\\programfiles\\anaconda3\\envs\\normalprogramming\\lib\\site-packages (from openai==1.28.1->-r requirements.txt (line 4)) (0.26.0)\n",
      "Requirement already satisfied: pydantic<3,>=1.9.0 in e:\\programfiles\\anaconda3\\envs\\normalprogramming\\lib\\site-packages (from openai==1.28.1->-r requirements.txt (line 4)) (1.10.12)\n",
      "Requirement already satisfied: sniffio in e:\\programfiles\\anaconda3\\envs\\normalprogramming\\lib\\site-packages (from openai==1.28.1->-r requirements.txt (line 4)) (1.3.0)\n",
      "Requirement already satisfied: tqdm>4 in e:\\programfiles\\anaconda3\\envs\\normalprogramming\\lib\\site-packages (from openai==1.28.1->-r requirements.txt (line 4)) (4.66.1)\n",
      "Requirement already satisfied: typing-extensions<5,>=4.7 in e:\\programfiles\\anaconda3\\envs\\normalprogramming\\lib\\site-packages (from openai==1.28.1->-r requirements.txt (line 4)) (4.7.1)\n",
      "Requirement already satisfied: idna>=2.8 in e:\\programfiles\\anaconda3\\envs\\normalprogramming\\lib\\site-packages (from anyio<5,>=3.5.0->openai==1.28.1->-r requirements.txt (line 4)) (3.4)\n",
      "Requirement already satisfied: certifi in e:\\programfiles\\anaconda3\\envs\\normalprogramming\\lib\\site-packages (from httpx<1,>=0.23.0->openai==1.28.1->-r requirements.txt (line 4)) (2023.7.22)\n",
      "Requirement already satisfied: httpcore==1.* in e:\\programfiles\\anaconda3\\envs\\normalprogramming\\lib\\site-packages (from httpx<1,>=0.23.0->openai==1.28.1->-r requirements.txt (line 4)) (1.0.2)\n",
      "Requirement already satisfied: h11<0.15,>=0.13 in e:\\programfiles\\anaconda3\\envs\\normalprogramming\\lib\\site-packages (from httpcore==1.*->httpx<1,>=0.23.0->openai==1.28.1->-r requirements.txt (line 4)) (0.14.0)\n",
      "Requirement already satisfied: colorama in e:\\programfiles\\anaconda3\\envs\\normalprogramming\\lib\\site-packages (from tqdm>4->openai==1.28.1->-r requirements.txt (line 4)) (0.4.6)\n",
      "Note: you may need to restart the kernel to use updated packages.\n"
     ]
    }
   ],
   "source": [
    "# make sure we all the packages we need\n",
    "%pip install -r requirements.txt"
   ]
  },
  {
   "cell_type": "code",
   "execution_count": 2,
   "metadata": {},
   "outputs": [],
   "source": [
    "# Import necessary libraries\n",
    "from openai import OpenAI  # Used for interacting with OpenAI's API\n",
    "from typing_extensions import override  # Used for overriding methods in subclasses\n",
    "from openai import AssistantEventHandler  # Used for handling events related to OpenAI assistants\n",
    "\n",
    "# Additional libraries for time and date manipulation\n",
    "import time\n",
    "import pytz\n",
    "import datetime\n"
   ]
  },
  {
   "cell_type": "code",
   "execution_count": 3,
   "metadata": {},
   "outputs": [],
   "source": [
    "# Create an instance of the OpenAI class to interact with the API.\n",
    "# This assumes you have set the OPENAI_API_KEY environment variable.\n",
    "client = OpenAI() "
   ]
  },
  {
   "cell_type": "code",
   "execution_count": 4,
   "metadata": {},
   "outputs": [],
   "source": [
    "# Event handler class to handle events related to streaming output from the assistant\n",
    "class EventHandler(AssistantEventHandler):\n",
    "    @override\n",
    "    def on_text_created(self, text) -> None:\n",
    "        print(f\"\\nassistant > \", end=\"\", flush=True)\n",
    "\n",
    "    @override\n",
    "    def on_tool_call_created(self, tool_call):\n",
    "        print(f\"\\nassistant > {tool_call.type}\\n\", flush=True)\n",
    "\n",
    "    @override\n",
    "    def on_message_done(self, message) -> None:\n",
    "        # print a citation to the file searched\n",
    "        message_content = message.content[0].text\n",
    "        annotations = message_content.annotations\n",
    "        citations = []\n",
    "        for index, annotation in enumerate(annotations):\n",
    "            message_content.value = message_content.value.replace(\n",
    "                annotation.text, f\"[{index}]\"\n",
    "            )\n",
    "            if file_citation := getattr(annotation, \"file_citation\", None):\n",
    "                cited_file = client.files.retrieve(file_citation.file_id)\n",
    "                citations.append(f\"[{index}] {cited_file.filename}\")\n",
    "\n",
    "        print(message_content.value)\n",
    "        print(\"\\n\".join(citations))"
   ]
  },
  {
   "cell_type": "markdown",
   "metadata": {},
   "source": [
    "### Creating an Assistant with File Search enabled\n",
    "\n",
    "Our first step is to create an Assistant that can do file searching regardless of where the vector store resides (Assistant or Thread)"
   ]
  },
  {
   "cell_type": "code",
   "execution_count": 5,
   "metadata": {},
   "outputs": [
    {
     "name": "stdout",
     "output_type": "stream",
     "text": [
      "Assistant(id='asst_EfJEoy9jvTaBfj6UcGzUMOW6', created_at=1717504193, description=None, instructions=' \\n        You are a helpful assistant that answers questions about the stories in your files. The stories are from a variety of authors. \\n        You will answer questions from the user about the stories. All you will do is answer questions about the stories in the files and provide related information.\\n        If the user asks you a question that is not related to the stories in the files, you should let them know that you can only answer questions about the stories.\\n    ', metadata={'can_be_used_for_file_search': 'True', 'can_hold_vector_store': 'True'}, model='gpt-4o', name='File Search Demo Assistant - Stories', object='assistant', tools=[FileSearchTool(type='file_search')], response_format='auto', temperature=1.0, tool_resources=ToolResources(code_interpreter=None, file_search=ToolResourcesFileSearch(vector_store_ids=[])), top_p=1.0)\n",
      "\n",
      "\n",
      "\n",
      "File Search Demo Assistant - Stories\n",
      "{'can_be_used_for_file_search': 'True', 'can_hold_vector_store': 'True'}\n"
     ]
    }
   ],
   "source": [
    "# Create an assistant using the client library.\n",
    "assistant = client.beta.assistants.create(\n",
    "    model=\"gpt-4o\",  # Specify the model to be used.\n",
    "    \n",
    "    instructions=\"\"\" \n",
    "        You are a helpful assistant that answers questions about the stories in your files. The stories are from a variety of authors. \n",
    "        You will answer questions from the user about the stories. All you will do is answer questions about the stories in the files and provide related information.\n",
    "        If the user asks you a question that is not related to the stories in the files, you should let them know that you can only answer questions about the stories.\n",
    "    \"\"\",\n",
    "    \n",
    "    name=\"File Search Demo Assistant - Stories\",  # Give the assistant a name.\n",
    "    \n",
    "    tools=[{\"type\": \"file_search\"}], # Add the file search capability to the assistant.\n",
    "    \n",
    "    metadata={  # Add metadata about the assistant's capabilities.\n",
    "        \"can_be_used_for_file_search\": \"True\",\n",
    "        \"can_hold_vector_store\": \"True\",\n",
    "    },\n",
    "    temperature=1,  # Set the temperature for response variability.\n",
    "    top_p=1,  # Set the top_p for nucleus sampling.\n",
    ")\n",
    "\n",
    "# Print the details of the created assistant to check its properties.\n",
    "print(assistant)  # Print the full assistant object.\n",
    "print(\"\\n\\n\")\n",
    "print(assistant.name)  # Print the name of the assistant.\n",
    "print(assistant.metadata)  # Print the metadata of the assistant."
   ]
  },
  {
   "cell_type": "markdown",
   "metadata": {},
   "source": [
    "## Creating a Vector Store\n",
    "\n",
    "Now we will create our vector store to hold our files and add files at the same time."
   ]
  },
  {
   "cell_type": "code",
   "execution_count": 6,
   "metadata": {},
   "outputs": [
    {
     "name": "stdout",
     "output_type": "stream",
     "text": [
      "Great Fiction Stories\n",
      "vs_pNAfDuyGKVmllX2o5tCYhhax\n",
      "completed\n",
      "FileCounts(cancelled=0, completed=2, failed=0, in_progress=0, total=2)\n"
     ]
    }
   ],
   "source": [
    "from contextlib import ExitStack\n",
    "\n",
    "# Create a vector store with a name for the store.\n",
    "vector_store = client.beta.vector_stores.create(name=\"Great Fiction Stories\")\n",
    "\n",
    "# Ready the files for upload to the vector store.\n",
    "file_paths = [\"./artifacts/I_Am_Legend.pdf\", \"./artifacts/The_Veldt.pdf\"]\n",
    "\n",
    "# Using ExitStack to manage multiple context managers and ensure they are properly closed.\n",
    "with ExitStack() as stack:\n",
    "    # Open each file in binary read mode and add the file stream to the list\n",
    "    file_streams = [stack.enter_context(open(path, \"rb\")) for path in file_paths]\n",
    "\n",
    "    # Use the upload and poll helper method to upload the files, add them to the vector store,\n",
    "    # and poll the status of the file batch for completion.\n",
    "    file_batch = client.beta.vector_stores.file_batches.upload_and_poll(\n",
    "        vector_store_id=vector_store.id, files=file_streams\n",
    "    )\n",
    "\n",
    "    # Print the vector store information\n",
    "    print(vector_store.name)\n",
    "    print(vector_store.id)\n",
    "    \n",
    "    # Print the status and the file counts of the batch to see the results\n",
    "    print(file_batch.status)\n",
    "    print(file_batch.file_counts)\n"
   ]
  },
  {
   "cell_type": "markdown",
   "metadata": {},
   "source": [
    "### Attaching the Vector Store to the Assistant\n",
    "\n",
    "We have an Assistant that has File Search enabled and we have a Vector Store with files in them. It's time to join the two up. "
   ]
  },
  {
   "cell_type": "code",
   "execution_count": 7,
   "metadata": {},
   "outputs": [
    {
     "name": "stdout",
     "output_type": "stream",
     "text": [
      "Assistant Tools:\n",
      " - FileSearchTool(type='file_search')\n",
      "\n",
      "Assistant Tool Resources:\n",
      " - code_interpreter: None\n",
      " - file_search: ToolResourcesFileSearch(vector_store_ids=['vs_pNAfDuyGKVmllX2o5tCYhhax'])\n"
     ]
    }
   ],
   "source": [
    "try:\n",
    "    # Attach the vector store to the assistant to enable file search capabilities.\n",
    "    assistant = client.beta.assistants.update(\n",
    "        assistant_id=assistant.id,\n",
    "        tool_resources={\"file_search\": {\"vector_store_ids\": [vector_store.id]}},\n",
    "    )\n",
    "\n",
    "    # Print the assistant's tools and tool resources to verify the attachment of the vector store.\n",
    "    print(\"Assistant Tools:\")\n",
    "    for tool in assistant.tools:\n",
    "        print(f\" - {tool}\")\n",
    "\n",
    "    # Print the assistant's tool resources to verify the attachment of the vector store\n",
    "    print(\"\\nAssistant Tool Resources:\")\n",
    "    for resource, details in assistant.tool_resources:\n",
    "        print(f\" - {resource}: {details}\")\n",
    "\n",
    "except Exception as e:\n",
    "    print(f\"An error occurred while updating the assistant: {e}\")\n"
   ]
  },
  {
   "cell_type": "markdown",
   "metadata": {},
   "source": [
    "### Creating an Assistant and Vector Store at the Same Time\n",
    "\n",
    "If we have file id's we can just feed them in when creating an assistant to get the Assistant and the Vector Store at the same time using the vector_stores option."
   ]
  },
  {
   "cell_type": "code",
   "execution_count": 8,
   "metadata": {},
   "outputs": [
    {
     "name": "stdout",
     "output_type": "stream",
     "text": [
      "Assistant(id='asst_ZoSIF8bPLQgsasNAwnwWFWbK', created_at=1717504198, description=None, instructions='You are a helpful assistant that answers questions about the stories in your files. The stories are from a variety of authors. You will answer questions from the user about the stories. All you will do is answer questions about the stories in the files and provide related information. If the user asks you a question that is not related to the stories in the files, you should let them know that you can only answer questions about the stories.', metadata={'can_be_used_for_file_search': 'True', 'has_vector_store': 'True'}, model='gpt-4o', name='Quick Assistant and Vector Store at Once', object='assistant', tools=[FileSearchTool(type='file_search')], response_format='auto', temperature=1.0, tool_resources=ToolResources(code_interpreter=None, file_search=ToolResourcesFileSearch(vector_store_ids=['vs_CWOoi3og998iGaUat85hLOol'])), top_p=1.0)\n",
      "\n",
      "\n",
      "\n",
      "Assistant Name: Quick Assistant and Vector Store at Once\n",
      "\n",
      "\n",
      "Vector Store Name: None\n",
      "Vector Store Id: vs_CWOoi3og998iGaUat85hLOol\n",
      "Vector Store Metadata: {'Book1': 'Wizard of Oz', 'Book2': 'Alice in Wonderland'}\n"
     ]
    }
   ],
   "source": [
    "\n",
    "# Create an assistant using the client library.\n",
    "try:\n",
    "    assistant_with_vector_store = client.beta.assistants.create(\n",
    "        model=\"gpt-4o\",  # Specify the model to be used.\n",
    "        instructions=(\n",
    "            \"You are a helpful assistant that answers questions about the stories in your files. \"\n",
    "            \"The stories are from a variety of authors. \"\n",
    "            \"You will answer questions from the user about the stories. All you will do is answer questions about the stories in the files and provide related information. \"\n",
    "            \"If the user asks you a question that is not related to the stories in the files, you should let them know that you can only answer questions about the stories.\"\n",
    "        ),\n",
    "        name=\"Quick Assistant and Vector Store at Once\",  # Give the assistant a name.\n",
    "        tools=[{\"type\": \"file_search\"}],  # Add the file search capability to the assistant.\n",
    "        # Create a vector store and attach it to the assistant in one step.\n",
    "        tool_resources={\n",
    "            \"file_search\": {\n",
    "                \"vector_stores\": [\n",
    "                    {\n",
    "                        \"file_ids\": [\n",
    "                            \"file-UY7uzH3SMK0ALbwQeRk5OE0i\",\n",
    "                            \"file-ZN71rhzhlvLQWiU5ZWEf3WP0\"\n",
    "                        ],\n",
    "                        \"metadata\": {\n",
    "                            \"Book1\": \"Wizard of Oz\", \n",
    "                            \"Book2\": \"Alice in Wonderland\"\n",
    "                        }\n",
    "                    }\n",
    "                ]\n",
    "            }\n",
    "        },\n",
    "        metadata={  # Add metadata about the assistant's capabilities.\n",
    "            \"can_be_used_for_file_search\": \"True\",\n",
    "            \"has_vector_store\": \"True\",\n",
    "        },\n",
    "        temperature=1,  # Set the temperature for response variability.\n",
    "        top_p=1,  # Set the top_p for nucleus sampling.\n",
    "    )\n",
    "except Exception as e:\n",
    "    print(f\"An error occurred while creating the assistant: {e}\")\n",
    "else:\n",
    "    # Print the details of the created assistant to check its properties.\n",
    "    print(assistant_with_vector_store)  # Print the full assistant object.\n",
    "    print(\"\\n\\n\")\n",
    "    print(\"Assistant Name: \" + assistant_with_vector_store.name)  # Print the name of the assistant.\n",
    "    print(\"\\n\")\n",
    "    \n",
    "    # get the vector store information\n",
    "    unnamed_assistant_vector_store = client.beta.vector_stores.retrieve(assistant_with_vector_store.tool_resources.file_search.vector_store_ids[0])\n",
    "    print(\"Vector Store Name: \" + str(unnamed_assistant_vector_store.name))\n",
    "    print(\"Vector Store Id: \" + unnamed_assistant_vector_store.id)\n",
    "    print(\"Vector Store Metadata: \" + str(unnamed_assistant_vector_store.metadata))\n"
   ]
  },
  {
   "cell_type": "markdown",
   "metadata": {},
   "source": [
    "## Creating Threads with Vector Stores\n",
    "\n",
    "### Creating Vector Stores with Thread Messages\n",
    "\n",
    "You can create a vector store in threads with one of two ways: messages or during thread creation. If you create a thread with a vector store then it will also be searched when looking for information during the run. First, let's take a look at the most common scenario, vector stores created with messages in the thread."
   ]
  },
  {
   "cell_type": "code",
   "execution_count": 9,
   "metadata": {},
   "outputs": [
    {
     "name": "stdout",
     "output_type": "stream",
     "text": [
      "vs_UJHfkOTWcnuHd1MFMlQhcF8F\n"
     ]
    }
   ],
   "source": [
    "# We assume that the user has given us a file to upload\n",
    "message_file = client.files.create(\n",
    "    file=open(\"./artifacts/War_of_the_Worlds.txt\", \"rb\"), purpose=\"assistants\"\n",
    ")\n",
    "\n",
    "# Create a thread and attach the file to the message\n",
    "thread_with_file_attachment = client.beta.threads.create(\n",
    "    messages=[\n",
    "    {\n",
    "    \"role\": \"user\",\n",
    "    \"content\": \"What is the name of the main character in War of the Worlds?\",\n",
    "    \n",
    "    # Attach the new file to the message.\n",
    "    \"attachments\": [\n",
    "        { \"file_id\": message_file.id, \"tools\": [{\"type\": \"file_search\"}] }\n",
    "    ],\n",
    "    }\n",
    "]\n",
    ")\n",
    "\n",
    "# The thread now has a vector store with that file in its tool resources.\n",
    "print(thread_with_file_attachment.tool_resources.file_search.vector_store_ids[0])\n"
   ]
  },
  {
   "cell_type": "markdown",
   "metadata": {},
   "source": [
    "### Creating Vector Stores at Thread Creation Time\n",
    "\n",
    "Now, let's look at creating a vector store when we create our thread. "
   ]
  },
  {
   "cell_type": "code",
   "execution_count": 10,
   "metadata": {},
   "outputs": [
    {
     "name": "stdout",
     "output_type": "stream",
     "text": [
      "Thread(id='thread_og68yr2b4s7zG8wwXKtGN6aD', created_at=1717504200, metadata={'can_be_used_for_file_search': 'True', 'has_vector_store': 'True'}, object='thread', tool_resources=ToolResources(code_interpreter=None, file_search=ToolResourcesFileSearch(vector_store_ids=['vs_rjFwhVZisM88vLt5Tt201yVn'])))\n",
      "\n",
      "\n",
      "Thread ID: thread_og68yr2b4s7zG8wwXKtGN6aD\n",
      "Thread Metadata: {'can_be_used_for_file_search': 'True', 'has_vector_store': 'True'}\n",
      "Thread Tool Resources: ToolResources(code_interpreter=None, file_search=ToolResourcesFileSearch(vector_store_ids=['vs_rjFwhVZisM88vLt5Tt201yVn']))\n"
     ]
    }
   ],
   "source": [
    "thread_with_vector_store = client.beta.threads.create(\n",
    "    tool_resources={\n",
    "            \"file_search\": {\n",
    "                \"vector_stores\": [\n",
    "                    {\n",
    "                        \"file_ids\": [\n",
    "                            \"file-fHR8COgusTxv2fy5paVHJmWW\",\n",
    "                            \"file-EJecfCFkiHefsYQOJO7FOb8I\"\n",
    "                        ],\n",
    "                        \"metadata\": {\n",
    "                            \"Book1\": \"Dracula\", \n",
    "                            \"Book2\": \"Frankenstein\"\n",
    "                        }\n",
    "                    }\n",
    "                ]\n",
    "            }\n",
    "        },\n",
    "        metadata={  # Add metadata about the assistant's capabilities.\n",
    "            \"can_be_used_for_file_search\": \"True\",\n",
    "            \"has_vector_store\": \"True\",\n",
    "        },\n",
    ")\n",
    "\n",
    "# Print the details of the created thread to check its properties\n",
    "print(thread_with_vector_store)  # Print the full thread object.\n",
    "print(\"\\n\")\n",
    "print(\"Thread ID: \" + thread_with_vector_store.id)  # Print the ID of the thread.\n",
    "print(\"Thread Metadata: \" + str(thread_with_vector_store.metadata))  # Print the metadata of the thread.\n",
    "print(\"Thread Tool Resources: \" + str(thread_with_vector_store.tool_resources))  # Print the tool resources of the thread."
   ]
  },
  {
   "cell_type": "markdown",
   "metadata": {},
   "source": [
    "## Getting the Results\n",
    "\n",
    "We have built up Assistants and Threads with vector stores and now we want to use them. We need to set up a run to make this happen. Recall there are two approaches: streaming or non-streaming. We will do both.\n",
    "\n",
    "### Streaming Run\n",
    "\n",
    "First, let's do the, more common, streaming run to get our output."
   ]
  },
  {
   "cell_type": "code",
   "execution_count": 11,
   "metadata": {},
   "outputs": [
    {
     "name": "stdout",
     "output_type": "stream",
     "text": [
      "\n",
      "assistant > file_search\n",
      "\n",
      "\n",
      "assistant > Here are the books I have access to in your files:\n",
      "\n",
      "1. \"Frankenstein\" by Mary Wollstonecraft Shelley       \n",
      "2. \"Dracula\" by Bram Stoker         \n",
      "3. \"The Veldt\" by Ray Bradbury    \n",
      "\n"
     ]
    }
   ],
   "source": [
    "with client.beta.threads.runs.stream(\n",
    "    thread_id=thread_with_vector_store.id,\n",
    "    assistant_id=assistant.id,\n",
    "    instructions=\"List all the books you have access to in your files.\",\n",
    "    event_handler=EventHandler(),\n",
    ") as stream:\n",
    "    stream.until_done()"
   ]
  }
 ],
 "metadata": {
  "kernelspec": {
   "display_name": "NormalProgramming",
   "language": "python",
   "name": "python3"
  },
  "language_info": {
   "codemirror_mode": {
    "name": "ipython",
    "version": 3
   },
   "file_extension": ".py",
   "mimetype": "text/x-python",
   "name": "python",
   "nbconvert_exporter": "python",
   "pygments_lexer": "ipython3",
   "version": "3.11.4"
  }
 },
 "nbformat": 4,
 "nbformat_minor": 2
}
