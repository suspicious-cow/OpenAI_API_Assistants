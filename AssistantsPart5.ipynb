{
 "cells": [
  {
   "cell_type": "markdown",
   "metadata": {},
   "source": [
    "# Creating and Managing Messages\n",
    "An Assistant represents an entity that can be configured to respond to a user's messages using several parameters like model, instructions, and tools. \n",
    "\n",
    "A Thread represents a conversation between a user and one or many Assistants. You can create a Thread when a user (or your AI application) starts a conversation with your Assistant.\n",
    "\n",
    "The contents of the messages your users or applications create are added as Message objects to the Thread. Messages can contain both text and files. There is no limit to the number of Messages you can add to Threads — we smartly truncate any context that does not fit into the model's context window.\n",
    "\n",
    "## Creating an Assistant and a Thread Review\n",
    "Let's create an Assistant and Thread to get us set up for success with our Messages. \n",
    "\n",
    "We begin with an Assistant. "
   ]
  },
  {
   "cell_type": "code",
   "execution_count": 4,
   "metadata": {},
   "outputs": [
    {
     "name": "stdout",
     "output_type": "stream",
     "text": [
      "Assistant(id='asst_sfNDj5MsHypnXwrpQkV2gR2F', created_at=1715466848, description=None, instructions='You are a helpful assistant.', metadata={'holds_messages': 'True', 'likes_messages': 'True'}, model='gpt-4-turbo', name='Message Holder', object='assistant', tools=[], response_format='auto', temperature=1.0, tool_resources=ToolResources(code_interpreter=None, file_search=None), top_p=1.0)\n",
      "\n",
      "\n",
      "\n",
      "Message Holder\n",
      "{'holds_messages': 'True', 'likes_messages': 'True'}\n"
     ]
    }
   ],
   "source": [
    "from openai import OpenAI\n",
    "\n",
    "# Create an instance of the OpenAI class\n",
    "# This assumes you have the OPENAI_API_KEY environment variable set\n",
    "client = OpenAI()\n",
    "\n",
    "# Create an assistant that uses code interpreter.\n",
    "assistant = client.beta.assistants.create(\n",
    "    model=\"gpt-4-turbo\",\n",
    "    instructions=\"You are a helpful assistant.\",\n",
    "    name=\"Message Holder\",\n",
    "    metadata={\n",
    "        \"holds_messages\": \"True\",\n",
    "        \"likes_messages\": \"True\",\n",
    "    },\n",
    "    temperature=1,\n",
    "    top_p=1,\n",
    ")\n",
    "\n",
    "# Print the details of the created assistant to check the properties.\n",
    "print(assistant)\n",
    "print(\"\\n\\n\")\n",
    "print(assistant.name)\n",
    "print(assistant.metadata)"
   ]
  },
  {
   "cell_type": "markdown",
   "metadata": {},
   "source": [
    "Now we create an empty thread that will hold our messages. Remember to hang on to that thread ID."
   ]
  },
  {
   "cell_type": "code",
   "execution_count": 13,
   "metadata": {},
   "outputs": [
    {
     "name": "stdout",
     "output_type": "stream",
     "text": [
      "Thread(id='thread_Sm0jLjJVquSIk4kdMg2hdJPl', created_at=1715467151, metadata={'user': 'abc123'}, object='thread', tool_resources=ToolResources(code_interpreter=None, file_search=None))\n"
     ]
    }
   ],
   "source": [
    "from openai import OpenAI\n",
    "\n",
    "# Initialize a client instance of the OpenAI API\n",
    "client = OpenAI()\n",
    "\n",
    "# Create a thread using the OpenAI API and store it in a variable\n",
    "# The metadata specifies a user identifier\n",
    "thread_holding_messages = client.beta.threads.create(\n",
    "    metadata={\n",
    "        \"user\": \"abc123\"\n",
    "    }\n",
    ")\n",
    "\n",
    "# Output the result of the thread creation to the console\n",
    "print(thread_holding_messages)\n"
   ]
  },
  {
   "cell_type": "markdown",
   "metadata": {},
   "source": [
    "## Creating Messages\n",
    "To create a message we need to determine which thread to add the message to, the role for the message, and the actual message itself. \n",
    "\n",
    "### Simple Message\n",
    "Here is a simple message with some metadata."
   ]
  },
  {
   "cell_type": "code",
   "execution_count": 40,
   "metadata": {},
   "outputs": [
    {
     "name": "stdout",
     "output_type": "stream",
     "text": [
      "Message(id='msg_LdoGTZudKp1EwqyECL7L0wYF', assistant_id=None, attachments=[], completed_at=None, content=[TextContentBlock(text=Text(annotations=[], value='What is a penguin?'), type='text')], created_at=1715470869, incomplete_at=None, incomplete_details=None, metadata={'key': 'value'}, object='thread.message', role='user', run_id=None, status=None, thread_id='thread_Sm0jLjJVquSIk4kdMg2hdJPl')\n",
      "\n",
      "\n",
      "msg_LdoGTZudKp1EwqyECL7L0wYF\n",
      "[TextContentBlock(text=Text(annotations=[], value='What is a penguin?'), type='text')]\n",
      "What is a penguin?\n",
      "user\n"
     ]
    }
   ],
   "source": [
    "# Create a message in a specific thread using the client's message creation method.\n",
    "message = client.beta.threads.messages.create(\n",
    "    thread_id=thread_holding_messages.id,  # ID of the thread where the message will be posted\n",
    "    role=\"user\",  # Role of the entity posting the message\n",
    "    content=\"What is a penguin?\",  # The textual content of the message\n",
    "    metadata={\"key\": \"value\"}  # Additional data associated with the message in key-value pairs\n",
    ")\n",
    "\n",
    "# Print the entire message object to view its details.\n",
    "print(message)\n",
    "\n",
    "# Print a blank line for better readability of the output.\n",
    "print(\"\\n\")\n",
    "\n",
    "# Print specific attributes of the message.\n",
    "print(message.id)  # The unique identifier of the message\n",
    "print(message.content)  # The content of the message\n",
    "print(message.content[0].text.value)  # Assuming 'content' is a list of text objects, print the value of the first one\n",
    "print(message.role)  # The role associated with the message\n"
   ]
  },
  {
   "cell_type": "markdown",
   "metadata": {},
   "source": [
    "### Message with Vision\n",
    "Now let's create a more complex message that passes in images."
   ]
  },
  {
   "cell_type": "code",
   "execution_count": 41,
   "metadata": {},
   "outputs": [
    {
     "name": "stdout",
     "output_type": "stream",
     "text": [
      "Message(id='msg_j1vyzAxG3HJwqmyEFT2kkHMz', assistant_id=None, attachments=[], completed_at=None, content=[TextContentBlock(text=Text(annotations=[], value='What is the difference between these images?'), type='text'), ImageFileContentBlock(image_file=None, type='image_url', image_url={'url': 'https://en.wikipedia.org/wiki/File:Cat_August_2010-4.jpg', 'detail': 'auto'}), ImageFileContentBlock(image_file=ImageFile(file_id='file-ZpXKj2U1pGZID1p6uIdDQha1', detail='auto'), type='image_file')], created_at=1715470903, incomplete_at=None, incomplete_details=None, metadata={}, object='thread.message', role='user', run_id=None, status=None, thread_id='thread_Sm0jLjJVquSIk4kdMg2hdJPl')\n"
     ]
    }
   ],
   "source": [
    "# Create a file in the system by uploading an image, for vision processing purposes.\n",
    "vision_file = client.files.create(\n",
    "    file=open(\"./artifacts/PuppyDog.jpg\", \"rb\"),  # Opens the image file in binary read mode\n",
    "    purpose=\"vision\"  # Indicates that the file's purpose is for vision-related processing\n",
    ")\n",
    "\n",
    "# Create a message that includes both text and images, asking about differences between them.\n",
    "message_vision = client.beta.threads.messages.create(\n",
    "    thread_id=thread_holding_messages.id,  # ID of the thread to post the message in\n",
    "    role=\"user\",  # Role of the poster (e.g., 'user')\n",
    "    content=[  # Content list that includes text and images\n",
    "        {\n",
    "            \"type\": \"text\",\n",
    "            \"text\": \"What is the difference between these images?\"\n",
    "        },\n",
    "        {\n",
    "            \"type\": \"image_url\",\n",
    "            \"image_url\": {\"url\": \"https://en.wikipedia.org/wiki/File:Cat_August_2010-4.jpg\"}\n",
    "        },\n",
    "        {\n",
    "            \"type\": \"image_file\",\n",
    "            \"image_file\": {\"file_id\": vision_file.id}  # References the uploaded file by its ID\n",
    "        },\n",
    "    ],\n",
    ")\n",
    "\n",
    "# Print the message object to output its details.\n",
    "print(message_vision)\n"
   ]
  },
  {
   "cell_type": "markdown",
   "metadata": {},
   "source": [
    "### Message for Tool Use\n",
    "Finally, let's pass in a file for Code Interpreter to use."
   ]
  },
  {
   "cell_type": "code",
   "execution_count": 44,
   "metadata": {},
   "outputs": [
    {
     "name": "stdout",
     "output_type": "stream",
     "text": [
      "Message(id='msg_cwBu1KHuocLtvnCxadmaRSnB', assistant_id=None, attachments=[Attachment(file_id='file-x0aEKXRsLqm1Niw5eCuFdO4M', tools=[CodeInterpreterTool(type='code_interpreter')])], completed_at=None, content=[TextContentBlock(text=Text(annotations=[], value='Create three visualizations based on the data in this file.'), type='text')], created_at=1715471138, incomplete_at=None, incomplete_details=None, metadata={}, object='thread.message', role='user', run_id=None, status=None, thread_id='thread_Sm0jLjJVquSIk4kdMg2hdJPl')\n"
     ]
    }
   ],
   "source": [
    "# Create a file object by uploading a data file for use with assistant tools.\n",
    "data_file = client.files.create(\n",
    "    file=open(\"./artifacts/penguins_size.csv\", \"rb\"),  # Open the CSV file in binary read mode\n",
    "    purpose=\"assistants\"  # Specify the purpose of the file for assistant tool use\n",
    ")\n",
    "\n",
    "# Create a message that instructs to create visualizations from the attached data file.\n",
    "message_code_interpreter = client.beta.threads.messages.create(\n",
    "    thread_id=thread_holding_messages.id,  # ID of the thread where the message will be posted\n",
    "    role=\"user\",  # Role of the entity posting the message\n",
    "    content=\"Create three visualizations based on the data in this file.\",  # Content detailing what needs to be done with the data\n",
    "    attachments=[  # Attachments that include the file and tools for processing\n",
    "        {\n",
    "            \"file_id\": data_file.id,  # The ID of the uploaded data file\n",
    "            \"tools\": [{\"type\": \"code_interpreter\"}]  # Tools specified to interpret the code\n",
    "        }\n",
    "    ]\n",
    ")\n",
    "\n",
    "# Print the message object to output its details.\n",
    "print(message_code_interpreter)\n"
   ]
  },
  {
   "cell_type": "markdown",
   "metadata": {},
   "source": [
    "## Listing Messages\n",
    "Let's see what messages we have in our thread at this point."
   ]
  },
  {
   "cell_type": "code",
   "execution_count": 47,
   "metadata": {},
   "outputs": [
    {
     "name": "stdout",
     "output_type": "stream",
     "text": [
      "[Message(id='msg_cwBu1KHuocLtvnCxadmaRSnB', assistant_id=None, attachments=[Attachment(file_id='file-x0aEKXRsLqm1Niw5eCuFdO4M', tools=[CodeInterpreterTool(type='code_interpreter')])], completed_at=None, content=[TextContentBlock(text=Text(annotations=[], value='Create three visualizations based on the data in this file.'), type='text')], created_at=1715471138, incomplete_at=None, incomplete_details=None, metadata={}, object='thread.message', role='user', run_id=None, status=None, thread_id='thread_Sm0jLjJVquSIk4kdMg2hdJPl'), Message(id='msg_KQbiPs4tpex7Vdu8y87OkXmK', assistant_id=None, attachments=[Attachment(file_id='file-OOjsJ3J29zNNr1AXChuTsJ1j', tools=[CodeInterpreterTool(type='code_interpreter')])], completed_at=None, content=[TextContentBlock(text=Text(annotations=[], value='Create three visualizations based on the data in this file.'), type='text')], created_at=1715471048, incomplete_at=None, incomplete_details=None, metadata={}, object='thread.message', role='user', run_id=None, status=None, thread_id='thread_Sm0jLjJVquSIk4kdMg2hdJPl'), Message(id='msg_j1vyzAxG3HJwqmyEFT2kkHMz', assistant_id=None, attachments=[], completed_at=None, content=[TextContentBlock(text=Text(annotations=[], value='What is the difference between these images?'), type='text'), ImageFileContentBlock(image_file=None, type='image_url', image_url={'url': 'https://en.wikipedia.org/wiki/File:Cat_August_2010-4.jpg', 'detail': 'auto'}), ImageFileContentBlock(image_file=ImageFile(file_id='file-ZpXKj2U1pGZID1p6uIdDQha1', detail='auto'), type='image_file')], created_at=1715470903, incomplete_at=None, incomplete_details=None, metadata={}, object='thread.message', role='user', run_id=None, status=None, thread_id='thread_Sm0jLjJVquSIk4kdMg2hdJPl'), Message(id='msg_LdoGTZudKp1EwqyECL7L0wYF', assistant_id=None, attachments=[], completed_at=None, content=[TextContentBlock(text=Text(annotations=[], value='What is a penguin?'), type='text')], created_at=1715470869, incomplete_at=None, incomplete_details=None, metadata={'key': 'value'}, object='thread.message', role='user', run_id=None, status=None, thread_id='thread_Sm0jLjJVquSIk4kdMg2hdJPl'), Message(id='msg_B9qosMvtfgqDSx97Vz18RVet', assistant_id=None, attachments=[Attachment(file_id='file-kB7dCrhkdjLJCHQlCWjSMN5h', tools=[CodeInterpreterTool(type='code_interpreter')])], completed_at=None, content=[TextContentBlock(text=Text(annotations=[], value='Create three visualizations based on the data in this file.'), type='text')], created_at=1715470124, incomplete_at=None, incomplete_details=None, metadata={}, object='thread.message', role='user', run_id=None, status=None, thread_id='thread_Sm0jLjJVquSIk4kdMg2hdJPl'), Message(id='msg_MakvVeVuwboQQS4ksJDyvJt1', assistant_id=None, attachments=[], completed_at=None, content=[TextContentBlock(text=Text(annotations=[], value='What is the difference between these images?'), type='text'), ImageFileContentBlock(image_file=None, type='image_url', image_url={'url': 'https://en.wikipedia.org/wiki/File:Cat_August_2010-4.jpg', 'detail': 'auto'}), ImageFileContentBlock(image_file=ImageFile(file_id='file-zki4nNn50D5bX87ipL1benge', detail='auto'), type='image_file')], created_at=1715470120, incomplete_at=None, incomplete_details=None, metadata={}, object='thread.message', role='user', run_id=None, status=None, thread_id='thread_Sm0jLjJVquSIk4kdMg2hdJPl'), Message(id='msg_f0jNEkHwKCLzWZCuOgknZ1NL', assistant_id=None, attachments=[Attachment(file_id='file-g15YfdCLiWLWqiALVmT9ELak', tools=[CodeInterpreterTool(type='code_interpreter')])], completed_at=None, content=[TextContentBlock(text=Text(annotations=[], value='Create three visualizations based on the data in this file.'), type='text')], created_at=1715470102, incomplete_at=None, incomplete_details=None, metadata={}, object='thread.message', role='user', run_id=None, status=None, thread_id='thread_Sm0jLjJVquSIk4kdMg2hdJPl'), Message(id='msg_pbBIeqYWVbL29KlzHgRhIH3h', assistant_id=None, attachments=[Attachment(file_id='file-z8NtuUL7TKGaFl18m7qKzqfB', tools=[CodeInterpreterTool(type='code_interpreter')])], completed_at=None, content=[TextContentBlock(text=Text(annotations=[], value='Create three visualizations based on the data in this file.'), type='text')], created_at=1715470074, incomplete_at=None, incomplete_details=None, metadata={}, object='thread.message', role='user', run_id=None, status=None, thread_id='thread_Sm0jLjJVquSIk4kdMg2hdJPl'), Message(id='msg_tgMFdqmyu2P5OojJRlbqrMpA', assistant_id=None, attachments=[], completed_at=None, content=[TextContentBlock(text=Text(annotations=[], value='What is the difference between these images?'), type='text'), ImageFileContentBlock(image_file=None, type='image_url', image_url={'url': 'https://en.wikipedia.org/wiki/File:Cat_August_2010-4.jpg', 'detail': 'auto'}), ImageFileContentBlock(image_file=ImageFile(file_id='file-4KCm9C4s2P7XyGziqxOOvNoP', detail='auto'), type='image_file')], created_at=1715469909, incomplete_at=None, incomplete_details=None, metadata={}, object='thread.message', role='user', run_id=None, status=None, thread_id='thread_Sm0jLjJVquSIk4kdMg2hdJPl'), Message(id='msg_i53YmxivVg4eNtzmyPLzEZuP', assistant_id=None, attachments=[], completed_at=None, content=[TextContentBlock(text=Text(annotations=[], value='What is the difference between these images?'), type='text'), ImageFileContentBlock(image_file=None, type='image_url', image_url={'url': 'https://en.wikipedia.org/wiki/File:Cat_August_2010-4.jpg', 'detail': 'auto'}), ImageFileContentBlock(image_file=ImageFile(file_id='file-MYo7UjJY0DK195SKPvNAFKsr', detail='auto'), type='image_file')], created_at=1715469412, incomplete_at=None, incomplete_details=None, metadata={}, object='thread.message', role='user', run_id=None, status=None, thread_id='thread_Sm0jLjJVquSIk4kdMg2hdJPl'), Message(id='msg_TNpWGVgSJhLoTEyyO9TslTVl', assistant_id=None, attachments=[], completed_at=None, content=[TextContentBlock(text=Text(annotations=[], value='What is the difference between these images?'), type='text'), ImageFileContentBlock(image_file=None, type='image_url', image_url={'url': 'https://example.com/image.png', 'detail': 'auto'}), ImageFileContentBlock(image_file=ImageFile(file_id='file-E6mrkVPmJgJJpR8oPiu4ZHAz', detail='auto'), type='image_file')], created_at=1715469243, incomplete_at=None, incomplete_details=None, metadata={}, object='thread.message', role='user', run_id=None, status=None, thread_id='thread_Sm0jLjJVquSIk4kdMg2hdJPl'), Message(id='msg_mWtF7z47eNkOVoA5j4RkAsL4', assistant_id=None, attachments=[], completed_at=None, content=[TextContentBlock(text=Text(annotations=[], value='What is a penguin?'), type='text')], created_at=1715467481, incomplete_at=None, incomplete_details=None, metadata={'key': 'value'}, object='thread.message', role='user', run_id=None, status=None, thread_id='thread_Sm0jLjJVquSIk4kdMg2hdJPl'), Message(id='msg_7s4SixT3xm76ZGkutK5YjCBB', assistant_id=None, attachments=[], completed_at=None, content=[TextContentBlock(text=Text(annotations=[], value='What is a penguin?'), type='text')], created_at=1715467381, incomplete_at=None, incomplete_details=None, metadata={}, object='thread.message', role='user', run_id=None, status=None, thread_id='thread_Sm0jLjJVquSIk4kdMg2hdJPl'), Message(id='msg_dwVIISB8Wz7XtHijLMjzfRsN', assistant_id=None, attachments=[], completed_at=None, content=[TextContentBlock(text=Text(annotations=[], value='What is a penguin?'), type='text')], created_at=1715467368, incomplete_at=None, incomplete_details=None, metadata={}, object='thread.message', role='user', run_id=None, status=None, thread_id='thread_Sm0jLjJVquSIk4kdMg2hdJPl'), Message(id='msg_NcpI9LBG168SqS2zSkRzyF01', assistant_id=None, attachments=[], completed_at=None, content=[TextContentBlock(text=Text(annotations=[], value='What is a penguin?'), type='text')], created_at=1715467349, incomplete_at=None, incomplete_details=None, metadata={}, object='thread.message', role='user', run_id=None, status=None, thread_id='thread_Sm0jLjJVquSIk4kdMg2hdJPl'), Message(id='msg_mLzTyRcZppxfkUUWKGec9Ngk', assistant_id=None, attachments=[], completed_at=None, content=[TextContentBlock(text=Text(annotations=[], value='What is a penguin?'), type='text')], created_at=1715467312, incomplete_at=None, incomplete_details=None, metadata={}, object='thread.message', role='user', run_id=None, status=None, thread_id='thread_Sm0jLjJVquSIk4kdMg2hdJPl'), Message(id='msg_fLO5dMq4wS2o5Ssl8Xk55QiM', assistant_id=None, attachments=[], completed_at=None, content=[TextContentBlock(text=Text(annotations=[], value='What is a penguin?'), type='text')], created_at=1715467302, incomplete_at=None, incomplete_details=None, metadata={}, object='thread.message', role='user', run_id=None, status=None, thread_id='thread_Sm0jLjJVquSIk4kdMg2hdJPl'), Message(id='msg_ZUjRqLBFPltQ8kYT8W395zPM', assistant_id=None, attachments=[], completed_at=None, content=[TextContentBlock(text=Text(annotations=[], value='What is a penguin?'), type='text')], created_at=1715467294, incomplete_at=None, incomplete_details=None, metadata={}, object='thread.message', role='user', run_id=None, status=None, thread_id='thread_Sm0jLjJVquSIk4kdMg2hdJPl'), Message(id='msg_youKvxG3KWoxXvRVxIKlePIj', assistant_id=None, attachments=[], completed_at=None, content=[TextContentBlock(text=Text(annotations=[], value='What is a penguin?'), type='text')], created_at=1715467272, incomplete_at=None, incomplete_details=None, metadata={}, object='thread.message', role='user', run_id=None, status=None, thread_id='thread_Sm0jLjJVquSIk4kdMg2hdJPl'), Message(id='msg_sUsIZ9YCrVSMSpIWPeT2cA9d', assistant_id=None, attachments=[], completed_at=None, content=[TextContentBlock(text=Text(annotations=[], value='What is a penguin?'), type='text')], created_at=1715467244, incomplete_at=None, incomplete_details=None, metadata={}, object='thread.message', role='user', run_id=None, status=None, thread_id='thread_Sm0jLjJVquSIk4kdMg2hdJPl')]\n",
      "\n",
      "\n",
      "msg_cwBu1KHuocLtvnCxadmaRSnB\n",
      "user\n",
      "[TextContentBlock(text=Text(annotations=[], value='Create three visualizations based on the data in this file.'), type='text')]\n",
      "\n",
      "\n",
      "msg_KQbiPs4tpex7Vdu8y87OkXmK\n",
      "user\n",
      "[TextContentBlock(text=Text(annotations=[], value='Create three visualizations based on the data in this file.'), type='text')]\n",
      "\n",
      "\n",
      "msg_j1vyzAxG3HJwqmyEFT2kkHMz\n",
      "user\n",
      "[TextContentBlock(text=Text(annotations=[], value='What is the difference between these images?'), type='text'), ImageFileContentBlock(image_file=None, type='image_url', image_url={'url': 'https://en.wikipedia.org/wiki/File:Cat_August_2010-4.jpg', 'detail': 'auto'}), ImageFileContentBlock(image_file=ImageFile(file_id='file-ZpXKj2U1pGZID1p6uIdDQha1', detail='auto'), type='image_file')]\n",
      "\n",
      "\n",
      "msg_LdoGTZudKp1EwqyECL7L0wYF\n",
      "user\n",
      "[TextContentBlock(text=Text(annotations=[], value='What is a penguin?'), type='text')]\n",
      "\n",
      "\n",
      "msg_B9qosMvtfgqDSx97Vz18RVet\n",
      "user\n",
      "[TextContentBlock(text=Text(annotations=[], value='Create three visualizations based on the data in this file.'), type='text')]\n",
      "\n",
      "\n",
      "msg_MakvVeVuwboQQS4ksJDyvJt1\n",
      "user\n",
      "[TextContentBlock(text=Text(annotations=[], value='What is the difference between these images?'), type='text'), ImageFileContentBlock(image_file=None, type='image_url', image_url={'url': 'https://en.wikipedia.org/wiki/File:Cat_August_2010-4.jpg', 'detail': 'auto'}), ImageFileContentBlock(image_file=ImageFile(file_id='file-zki4nNn50D5bX87ipL1benge', detail='auto'), type='image_file')]\n",
      "\n",
      "\n",
      "msg_f0jNEkHwKCLzWZCuOgknZ1NL\n",
      "user\n",
      "[TextContentBlock(text=Text(annotations=[], value='Create three visualizations based on the data in this file.'), type='text')]\n",
      "\n",
      "\n",
      "msg_pbBIeqYWVbL29KlzHgRhIH3h\n",
      "user\n",
      "[TextContentBlock(text=Text(annotations=[], value='Create three visualizations based on the data in this file.'), type='text')]\n",
      "\n",
      "\n",
      "msg_tgMFdqmyu2P5OojJRlbqrMpA\n",
      "user\n",
      "[TextContentBlock(text=Text(annotations=[], value='What is the difference between these images?'), type='text'), ImageFileContentBlock(image_file=None, type='image_url', image_url={'url': 'https://en.wikipedia.org/wiki/File:Cat_August_2010-4.jpg', 'detail': 'auto'}), ImageFileContentBlock(image_file=ImageFile(file_id='file-4KCm9C4s2P7XyGziqxOOvNoP', detail='auto'), type='image_file')]\n",
      "\n",
      "\n",
      "msg_i53YmxivVg4eNtzmyPLzEZuP\n",
      "user\n",
      "[TextContentBlock(text=Text(annotations=[], value='What is the difference between these images?'), type='text'), ImageFileContentBlock(image_file=None, type='image_url', image_url={'url': 'https://en.wikipedia.org/wiki/File:Cat_August_2010-4.jpg', 'detail': 'auto'}), ImageFileContentBlock(image_file=ImageFile(file_id='file-MYo7UjJY0DK195SKPvNAFKsr', detail='auto'), type='image_file')]\n",
      "\n",
      "\n",
      "msg_TNpWGVgSJhLoTEyyO9TslTVl\n",
      "user\n",
      "[TextContentBlock(text=Text(annotations=[], value='What is the difference between these images?'), type='text'), ImageFileContentBlock(image_file=None, type='image_url', image_url={'url': 'https://example.com/image.png', 'detail': 'auto'}), ImageFileContentBlock(image_file=ImageFile(file_id='file-E6mrkVPmJgJJpR8oPiu4ZHAz', detail='auto'), type='image_file')]\n",
      "\n",
      "\n",
      "msg_mWtF7z47eNkOVoA5j4RkAsL4\n",
      "user\n",
      "[TextContentBlock(text=Text(annotations=[], value='What is a penguin?'), type='text')]\n",
      "\n",
      "\n",
      "msg_7s4SixT3xm76ZGkutK5YjCBB\n",
      "user\n",
      "[TextContentBlock(text=Text(annotations=[], value='What is a penguin?'), type='text')]\n",
      "\n",
      "\n",
      "msg_dwVIISB8Wz7XtHijLMjzfRsN\n",
      "user\n",
      "[TextContentBlock(text=Text(annotations=[], value='What is a penguin?'), type='text')]\n",
      "\n",
      "\n",
      "msg_NcpI9LBG168SqS2zSkRzyF01\n",
      "user\n",
      "[TextContentBlock(text=Text(annotations=[], value='What is a penguin?'), type='text')]\n",
      "\n",
      "\n",
      "msg_mLzTyRcZppxfkUUWKGec9Ngk\n",
      "user\n",
      "[TextContentBlock(text=Text(annotations=[], value='What is a penguin?'), type='text')]\n",
      "\n",
      "\n",
      "msg_fLO5dMq4wS2o5Ssl8Xk55QiM\n",
      "user\n",
      "[TextContentBlock(text=Text(annotations=[], value='What is a penguin?'), type='text')]\n",
      "\n",
      "\n",
      "msg_ZUjRqLBFPltQ8kYT8W395zPM\n",
      "user\n",
      "[TextContentBlock(text=Text(annotations=[], value='What is a penguin?'), type='text')]\n",
      "\n",
      "\n",
      "msg_youKvxG3KWoxXvRVxIKlePIj\n",
      "user\n",
      "[TextContentBlock(text=Text(annotations=[], value='What is a penguin?'), type='text')]\n",
      "\n",
      "\n",
      "msg_sUsIZ9YCrVSMSpIWPeT2cA9d\n",
      "user\n",
      "[TextContentBlock(text=Text(annotations=[], value='What is a penguin?'), type='text')]\n",
      "\n",
      "\n",
      "Total number of messages: 20\n"
     ]
    }
   ],
   "source": [
    "from openai import OpenAI\n",
    "\n",
    "# Initialize the client using the OpenAI library.\n",
    "client = OpenAI()\n",
    "\n",
    "# Retrieve a list of messages from a specific thread using its ID.\n",
    "thread_messages = client.beta.threads.messages.list(thread_holding_messages.id)\n",
    "print(thread_messages.data)  # Print the raw data of messages\n",
    "print(\"\\n\")  # Print a newline for better readability of output\n",
    "\n",
    "# Initialize a counter to keep track of the number of messages.\n",
    "message_count = 0\n",
    "\n",
    "# Iterate over each message in the list, printing details and counting them.\n",
    "for message in thread_messages.data:\n",
    "    print(message.id)  # Print the unique identifier of each message\n",
    "    print(message.role)  # Print the role of the message sender\n",
    "    print(message.content)  # Print the content of the message\n",
    "    print(\"\\n\")  # Print a newline for separation between messages\n",
    "    message_count += 1  # Increment the message count\n",
    "\n",
    "# Print the total number of messages processed.\n",
    "print(f\"Total number of messages: {message_count}\")\n"
   ]
  },
  {
   "cell_type": "markdown",
   "metadata": {},
   "source": [
    "## Retrieving a Message\n",
    "We can always fetch a message if we need to from the thread."
   ]
  },
  {
   "cell_type": "code",
   "execution_count": 39,
   "metadata": {},
   "outputs": [
    {
     "name": "stdout",
     "output_type": "stream",
     "text": [
      "Message(id='msg_9c1YiVpTICD9Rlgjga59ScRJ', assistant_id=None, attachments=[], completed_at=None, content=[TextContentBlock(text=Text(annotations=[], value='What is a penguin?'), type='text')], created_at=1715467169, incomplete_at=None, incomplete_details=None, metadata={}, object='thread.message', role='user', run_id=None, status=None, thread_id='thread_Sm0jLjJVquSIk4kdMg2hdJPl')\n"
     ]
    }
   ],
   "source": [
    "from openai import OpenAI\n",
    "\n",
    "# Initialize the OpenAI client.\n",
    "client = OpenAI()\n",
    "\n",
    "# Retrieve a specific message by its ID from a given thread.\n",
    "fetched_message = client.beta.threads.messages.retrieve(\n",
    "    message_id=message.id,  # ID of the message to retrieve\n",
    "    thread_id=thread_holding_messages.id,  # ID of the thread containing the message\n",
    ")\n",
    "\n",
    "# Print the retrieved message object to see its details.\n",
    "print(fetched_message)\n",
    "\n"
   ]
  },
  {
   "cell_type": "markdown",
   "metadata": {},
   "source": [
    "## Modify Messsages\n",
    "Making changes to messages is easy. Just call the update method."
   ]
  },
  {
   "cell_type": "code",
   "execution_count": 50,
   "metadata": {},
   "outputs": [
    {
     "name": "stdout",
     "output_type": "stream",
     "text": [
      "Message(id='msg_sUsIZ9YCrVSMSpIWPeT2cA9d', assistant_id=None, attachments=None, completed_at=None, content=[TextContentBlock(text=Text(annotations=[], value='What is a penguin?'), type='text')], created_at=1715467244, incomplete_at=None, incomplete_details=None, metadata={'modified': 'true', 'user': 'abc123'}, object='thread.message', role='user', run_id=None, status=None, thread_id='thread_Sm0jLjJVquSIk4kdMg2hdJPl', file_ids=[])\n"
     ]
    }
   ],
   "source": [
    "from openai import OpenAI\n",
    "\n",
    "# Initialize the OpenAI client.\n",
    "client = OpenAI()\n",
    "\n",
    "# Update a specific message by its ID within a given thread.\n",
    "modified_message = client.beta.threads.messages.update(\n",
    "    message_id=message.id,  # ID of the message to update\n",
    "    thread_id=thread_holding_messages.id,  # ID of the thread containing the message\n",
    "    metadata={  # Metadata to add or update for the message\n",
    "        \"modified\": \"true\",\n",
    "        \"user\": \"abc123\",\n",
    "    },\n",
    ")\n",
    "\n",
    "# Print the modified message object to view its updated details.\n",
    "print(modified_message)\n",
    "\n"
   ]
  },
  {
   "cell_type": "markdown",
   "metadata": {},
   "source": [
    "## Delete Messages\n",
    "Finally, let's clean up after ourselves and delete any messages we don't need any more."
   ]
  },
  {
   "cell_type": "code",
   "execution_count": null,
   "metadata": {},
   "outputs": [],
   "source": [
    "from openai import OpenAI\n",
    "\n",
    "# Initialize the OpenAI client.\n",
    "client = OpenAI()\n",
    "\n",
    "# Delete a specific message by its ID within a given thread.\n",
    "deleted_message = client.beta.threads.messages.delete(\n",
    "    message_id=message.id,  # ID of the message to be deleted\n",
    "    thread_id=thread_holding_messages.id,  # ID of the thread containing the message\n",
    ")\n",
    "\n",
    "# Print the result of the delete operation to verify its success.\n",
    "print(deleted_message)\n"
   ]
  }
 ],
 "metadata": {
  "kernelspec": {
   "display_name": "NormalProgramming",
   "language": "python",
   "name": "python3"
  },
  "language_info": {
   "codemirror_mode": {
    "name": "ipython",
    "version": 3
   },
   "file_extension": ".py",
   "mimetype": "text/x-python",
   "name": "python",
   "nbconvert_exporter": "python",
   "pygments_lexer": "ipython3",
   "version": "3.11.4"
  }
 },
 "nbformat": 4,
 "nbformat_minor": 2
}
