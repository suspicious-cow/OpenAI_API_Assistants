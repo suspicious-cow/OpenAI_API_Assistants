{
 "cells": [
  {
   "cell_type": "markdown",
   "metadata": {},
   "source": [
    "# Creating and Managing Messages\n",
    "An Assistant represents an entity that can be configured to respond to a user's messages using several parameters like model, instructions, and tools. \n",
    "\n",
    "A Thread represents a conversation between a user and one or many Assistants. You can create a Thread when a user (or your AI application) starts a conversation with your Assistant.\n",
    "\n",
    "The contents of the messages your users or applications create are added as Message objects to the Thread. Messages can contain both text and files. There is no limit to the number of Messages you can add to Threads — we smartly truncate any context that does not fit into the model's context window.\n",
    "\n",
    "## Creating an Assistant and a Thread Review\n",
    "Let's create an Assistant and Thread to get us set up for success with our Messages. \n",
    "\n",
    "We begin with an Assistant. "
   ]
  },
  {
   "cell_type": "code",
   "execution_count": 4,
   "metadata": {},
   "outputs": [
    {
     "name": "stdout",
     "output_type": "stream",
     "text": [
      "Assistant(id='asst_sfNDj5MsHypnXwrpQkV2gR2F', created_at=1715466848, description=None, instructions='You are a helpful assistant.', metadata={'holds_messages': 'True', 'likes_messages': 'True'}, model='gpt-4-turbo', name='Message Holder', object='assistant', tools=[], response_format='auto', temperature=1.0, tool_resources=ToolResources(code_interpreter=None, file_search=None), top_p=1.0)\n",
      "\n",
      "\n",
      "\n",
      "Message Holder\n",
      "{'holds_messages': 'True', 'likes_messages': 'True'}\n"
     ]
    }
   ],
   "source": [
    "from openai import OpenAI\n",
    "\n",
    "# Create an instance of the OpenAI class\n",
    "# This assumes you have the OPENAI_API_KEY environment variable set\n",
    "client = OpenAI()\n",
    "\n",
    "# Create an assistant that uses code interpreter.\n",
    "assistant = client.beta.assistants.create(\n",
    "    model=\"gpt-4-turbo\",\n",
    "    instructions=\"You are a helpful assistant.\",\n",
    "    name=\"Message Holder\",\n",
    "    metadata={\n",
    "        \"holds_messages\": \"True\",\n",
    "        \"likes_messages\": \"True\",\n",
    "    },\n",
    "    temperature=1,\n",
    "    top_p=1,\n",
    ")\n",
    "\n",
    "# Print the details of the created assistant to check the properties.\n",
    "print(assistant)\n",
    "print(\"\\n\\n\")\n",
    "print(assistant.name)\n",
    "print(assistant.metadata)"
   ]
  },
  {
   "cell_type": "markdown",
   "metadata": {},
   "source": [
    "Now we create an empty thread that will hold our messages. Remember to hang on to that thread ID."
   ]
  },
  {
   "cell_type": "code",
   "execution_count": 13,
   "metadata": {},
   "outputs": [
    {
     "name": "stdout",
     "output_type": "stream",
     "text": [
      "Thread(id='thread_Sm0jLjJVquSIk4kdMg2hdJPl', created_at=1715467151, metadata={'user': 'abc123'}, object='thread', tool_resources=ToolResources(code_interpreter=None, file_search=None))\n"
     ]
    }
   ],
   "source": [
    "from openai import OpenAI\n",
    "\n",
    "# Initialize a client instance of the OpenAI API\n",
    "client = OpenAI()\n",
    "\n",
    "# Create a thread using the OpenAI API and store it in a variable\n",
    "# The metadata specifies a user identifier\n",
    "thread_holding_messages = client.beta.threads.create(\n",
    "    metadata={\n",
    "        \"user\": \"abc123\"\n",
    "    }\n",
    ")\n",
    "\n",
    "# Output the result of the thread creation to the console\n",
    "print(thread_holding_messages)\n"
   ]
  },
  {
   "cell_type": "markdown",
   "metadata": {},
   "source": [
    "## Creating Messages\n",
    "To create a message we need to determine which thread to add the message to, the role for the message, and the actual message itself. "
   ]
  },
  {
   "cell_type": "code",
   "execution_count": 14,
   "metadata": {},
   "outputs": [],
   "source": [
    "message = client.beta.threads.messages.create(\n",
    "  thread_id=thread_holding_messages.id,\n",
    "  role=\"user\",\n",
    "  content=\"What is a penguin?\"\n",
    ")"
   ]
  }
 ],
 "metadata": {
  "kernelspec": {
   "display_name": "NormalProgramming",
   "language": "python",
   "name": "python3"
  },
  "language_info": {
   "codemirror_mode": {
    "name": "ipython",
    "version": 3
   },
   "file_extension": ".py",
   "mimetype": "text/x-python",
   "name": "python",
   "nbconvert_exporter": "python",
   "pygments_lexer": "ipython3",
   "version": "3.11.4"
  }
 },
 "nbformat": 4,
 "nbformat_minor": 2
}
