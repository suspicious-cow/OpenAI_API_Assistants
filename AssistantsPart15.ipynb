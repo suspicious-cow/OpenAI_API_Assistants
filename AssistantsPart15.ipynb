{
 "cells": [
  {
   "cell_type": "markdown",
   "metadata": {},
   "source": [
    "# Part 15\n",
    "\n",
    "# File Search Annotations\n",
    "\n",
    "Universal code for the entire notebook"
   ]
  },
  {
   "cell_type": "code",
   "execution_count": 1,
   "metadata": {},
   "outputs": [],
   "source": [
    "# Uncomment the line below to make sure you have all the packages needed\n",
    "# %pip install -r requirements.txt"
   ]
  },
  {
   "cell_type": "code",
   "execution_count": 2,
   "metadata": {},
   "outputs": [],
   "source": [
    "# Import necessary libraries\n",
    "from openai import OpenAI  # Used for interacting with OpenAI's API\n",
    "from typing_extensions import override  # Used for overriding methods in subclasses\n",
    "from openai import AssistantEventHandler  # Used for handling events related to OpenAI assistants"
   ]
  },
  {
   "cell_type": "code",
   "execution_count": 3,
   "metadata": {},
   "outputs": [],
   "source": [
    "# Create an instance of the OpenAI class to interact with the API.\n",
    "# This assumes you have set the OPENAI_API_KEY environment variable.\n",
    "client = OpenAI() "
   ]
  },
  {
   "cell_type": "markdown",
   "metadata": {},
   "source": [
    "### Special Event Handler (Doesn't Work Properly)\n",
    "\n",
    "Ironically, the example for streaming, at the time of this writing, doesn't actually stream. You can see the post I made in the dev forum:\n",
    "[Streaming Example for Assistants in Documentation Doesn’t Stream](https://community.openai.com/t/streaming-example-for-assistants-in-documentation-doesnt-stream/834370) "
   ]
  },
  {
   "cell_type": "code",
   "execution_count": 4,
   "metadata": {},
   "outputs": [],
   "source": [
    "# Event handler class that will be used to handle events related to the assistant\n",
    "# This version doesn't actually stream and is supposed to according to the documentation\n",
    "# I'm putting it here for reference and to show how it would be implemented later\n",
    "# https://platform.openai.com/docs/assistants/tools/file-search/step-5-create-a-run-and-check-the-output\n",
    "class EventHandler(AssistantEventHandler):\n",
    "    @override\n",
    "    def on_text_created(self, text) -> None:\n",
    "        print(f\"\\nassistant > \", end=\"\", flush=True)\n",
    "\n",
    "    @override\n",
    "    def on_tool_call_created(self, tool_call):\n",
    "        print(f\"\\nassistant > {tool_call.type}\\n\", flush=True)\n",
    "\n",
    "    @override\n",
    "    def on_message_done(self, message) -> None:\n",
    "        # print a citation to the file searched\n",
    "        message_content = message.content[0].text\n",
    "        annotations = message_content.annotations\n",
    "        citations = []\n",
    "        for index, annotation in enumerate(annotations):\n",
    "            message_content.value = message_content.value.replace(\n",
    "                annotation.text, f\"[{index}]\"\n",
    "            )\n",
    "            if file_citation := getattr(annotation, \"file_citation\", None):\n",
    "                cited_file = client.files.retrieve(file_citation.file_id)\n",
    "                citations.append(f\"[{index}] {cited_file.filename}\")\n",
    "\n",
    "        print(message_content.value)\n",
    "        print(\"\\n\".join(citations))\n"
   ]
  },
  {
   "cell_type": "markdown",
   "metadata": {},
   "source": [
    "### Creating an Assistant with a Vector Store Already Attached\n",
    "\n",
    "Now we will get a file reference and then create an assistant with a vector store that we will use for the rest of this notebook. It's a straightforward approach that we have seen before. "
   ]
  },
  {
   "cell_type": "code",
   "execution_count": 5,
   "metadata": {},
   "outputs": [
    {
     "name": "stdout",
     "output_type": "stream",
     "text": [
      "Assistant(id='asst_dJpS9UHkUw888923s6W70Uao', created_at=1719069260, description=None, instructions='You are a helpful assistant that answers questions about the stories in your files. The stories are from a variety of authors. You will answer questions from the user about the stories. All you will do is answer questions about the stories in the files and provide related information. If the user asks you a question that is not related to the stories in the files, you should let them know that you can only answer questions about the stories.', metadata={'can_be_used_for_file_search': 'True', 'has_vector_store': 'True'}, model='gpt-4o', name='Quick Assistant and Vector Store at Once', object='assistant', tools=[FileSearchTool(type='file_search', file_search=None)], response_format='auto', temperature=1.0, tool_resources=ToolResources(code_interpreter=None, file_search=ToolResourcesFileSearch(vector_store_ids=['vs_jRqr0FIGOLC4DtHpu7LfhvHb'])), top_p=1.0)\n",
      "\n",
      "\n",
      "\n",
      "Assistant Name: Quick Assistant and Vector Store at Once\n",
      "\n",
      "\n",
      "Vector Store Name: Vector Store Auto Attached to Assistant\n",
      "Vector Store Id: vs_jRqr0FIGOLC4DtHpu7LfhvHb\n",
      "Vector Store Metadata: {'Book1': 'Dracula'}\n"
     ]
    }
   ],
   "source": [
    "drac_file = client.files.create(file=open(\"./artifacts/Dracula.pdf\",\"rb\"), purpose=\"assistants\")\n",
    "\n",
    "# Create an assistant using the client library.\n",
    "try:\n",
    "    assistant = client.beta.assistants.create(\n",
    "        model=\"gpt-4o\",  # Specify the model to be used.\n",
    "        instructions=(\n",
    "            \"You are a helpful assistant that answers questions about the stories in your files. \"\n",
    "            \"The stories are from a variety of authors. \"\n",
    "            \"You will answer questions from the user about the stories. All you will do is answer questions about the stories in the files and provide related information. \"\n",
    "            \"If the user asks you a question that is not related to the stories in the files, you should let them know that you can only answer questions about the stories.\"\n",
    "        ),\n",
    "        name=\"Quick Assistant and Vector Store at Once\",  # Give the assistant a name.\n",
    "        tools=[{\"type\": \"file_search\"}],  # Add the file search capability to the assistant.\n",
    "        # Create a vector store and attach it to the assistant in one step.\n",
    "        tool_resources={\n",
    "            \"file_search\": {\n",
    "                \"vector_stores\": [\n",
    "                    {\n",
    "                        \"name\": \"Vector Store Auto Attached to Assistant\",\n",
    "                        \"file_ids\": [\n",
    "                            drac_file.id,\n",
    "                        ],\n",
    "                        \"metadata\": {\n",
    "                            \"Book1\": \"Dracula\", \n",
    "                        }\n",
    "                    }\n",
    "                ]\n",
    "            }\n",
    "        },\n",
    "        metadata={  # Add metadata about the assistant's capabilities.\n",
    "            \"can_be_used_for_file_search\": \"True\",\n",
    "            \"has_vector_store\": \"True\",\n",
    "        },\n",
    "        temperature=1,  # Set the temperature for response variability.\n",
    "        top_p=1,  # Set the top_p for nucleus sampling.\n",
    "    )\n",
    "except Exception as e:\n",
    "    print(f\"An error occurred while creating the assistant: {e}\")\n",
    "else:\n",
    "    # Print the details of the created assistant to check its properties.\n",
    "    print(assistant)  # Print the full assistant object.\n",
    "    print(\"\\n\\n\")\n",
    "    print(\"Assistant Name: \" + assistant.name)  # Print the name of the assistant.\n",
    "    print(\"\\n\")\n",
    "    \n",
    "    # get the vector store information\n",
    "    unnamed_assistant_vector_store = client.beta.vector_stores.retrieve(assistant.tool_resources.file_search.vector_store_ids[0])\n",
    "    print(\"Vector Store Name: \" + str(unnamed_assistant_vector_store.name))\n",
    "    print(\"Vector Store Id: \" + unnamed_assistant_vector_store.id)\n",
    "    print(\"Vector Store Metadata: \" + str(unnamed_assistant_vector_store.metadata))"
   ]
  },
  {
   "cell_type": "code",
   "execution_count": 6,
   "metadata": {},
   "outputs": [
    {
     "name": "stdout",
     "output_type": "stream",
     "text": [
      "Vector Store Name: Dracula Vector Store\n",
      "Vector Store Id: vs_jRqr0FIGOLC4DtHpu7LfhvHb\n",
      "Vector Store Metadata: {'Book1': 'Dracula'}\n"
     ]
    }
   ],
   "source": [
    "# Always name your vector stores\n",
    "updated_vector_store = client.beta.vector_stores.update(\n",
    "    vector_store_id=unnamed_assistant_vector_store.id,\n",
    "    name=\"Dracula Vector Store\",\n",
    "    metadata={\"Book1\": \"Dracula\"}\n",
    ")\n",
    "\n",
    "print(\"Vector Store Name: \" + str(updated_vector_store.name))\n",
    "print(\"Vector Store Id: \" + updated_vector_store.id)\n",
    "print(\"Vector Store Metadata: \" + str(updated_vector_store.metadata))"
   ]
  },
  {
   "cell_type": "markdown",
   "metadata": {},
   "source": [
    "### Create a Thread and Run the Stream\n",
    "\n",
    "Finally, we create a thread that we will use for the entire notebook and stream the output using the OLD event handler that doesn't really stream. "
   ]
  },
  {
   "cell_type": "code",
   "execution_count": 7,
   "metadata": {},
   "outputs": [],
   "source": [
    "# Create a thread and attach the file to the message\n",
    "thread = client.beta.threads.create(\n",
    "    messages=[\n",
    "    {\n",
    "    \"role\": \"user\",\n",
    "    \"content\": \"Who are all the main characters in Dracula? Cite the location they are first introduced in the book. Every character should have a separate citation.\",\n",
    "    }\n",
    "]\n",
    ")"
   ]
  },
  {
   "cell_type": "code",
   "execution_count": 8,
   "metadata": {},
   "outputs": [
    {
     "name": "stdout",
     "output_type": "stream",
     "text": [
      "\n",
      "assistant > file_search\n",
      "\n",
      "\n",
      "assistant > Here are the main characters in *Dracula* along with citations of where they are first introduced in the book:\n",
      "\n",
      "1. **Jonathan Harker** - First introduced in his own journal as he arrives at Count Dracula's castle.\n",
      "   - Citation: \"In the chapters describing his journey to Transylvania and arrival at the castle.\" [0]\n",
      "\n",
      "2. **Mina Murray (later Mina Harker)** - First introduced in a letter to Lucy Westenra.\n",
      "   - Citation: \"Letter from Miss Mina Murray to Miss Lucy Westenra.\" [1]\n",
      "\n",
      "3. **Lucy Westenra** - First introduced in Mina Murray’s letter.\n",
      "   - Citation: \"Letter from Miss Mina Murray to Miss Lucy Westenra.\" [1]\n",
      "\n",
      "4. **Dr. John Seward** - First introduced in his own diary.\n",
      "   - Citation: \"Dr. Seward's Diary.\" [3]\n",
      "\n",
      "5. **Arthur Holmwood (Lord Godalming)** - First introduced in Dr. Seward's records.\n",
      "   - Citation: \"Dr. Seward's Diary, mentioning his involvement and their meetings.\" [4]\n",
      "\n",
      "6. **Quincey Morris** - First introduced in Dr. Seward's accounts interacting with other characters.\n",
      "   - Citation: \"Dr. Seward's Diary.\" [3]\n",
      "\n",
      "7. **Renfield** - First introduced in Dr. Seward's observations at the asylum.\n",
      "   - Citation: \"Dr. Seward's Diary.\" [4]\n",
      "\n",
      "8. **Professor Abraham Van Helsing** - First introduced in Dr. Seward's correspondence with Van Helsing regarding Lucy's condition.\n",
      "   - Citation: \"Letter, Van Helsing to Dr. Seward.\" [7]\n",
      "\n",
      "9. **Count Dracula** - First introduced in Jonathan Harker's journal upon arrival at Dracula's castle.\n",
      "   - Citation: \"Jonathan Harker's Journal.\" [0]\n",
      "[0] Dracula.pdf\n",
      "[1] Dracula.pdf\n",
      "[2] Dracula.pdf\n",
      "[3] Dracula.pdf\n",
      "[4] Dracula.pdf\n",
      "[5] Dracula.pdf\n",
      "[6] Dracula.pdf\n",
      "[7] Dracula.pdf\n",
      "[8] Dracula.pdf\n"
     ]
    }
   ],
   "source": [
    "# Using our first assistant\n",
    "with client.beta.threads.runs.stream(\n",
    "    thread_id=thread.id,\n",
    "    assistant_id=assistant.id,\n",
    "    event_handler=EventHandler(),\n",
    ") as stream:\n",
    "    stream.until_done()"
   ]
  },
  {
   "cell_type": "markdown",
   "metadata": {},
   "source": [
    "### New Event Handler that Actually Streams\n",
    "\n",
    "Having seen how the old event handler worked, or didn't in this case, we will create a new event handler to actually stream the output and then stream it"
   ]
  },
  {
   "cell_type": "code",
   "execution_count": 9,
   "metadata": {},
   "outputs": [],
   "source": [
    "class EventHandler(AssistantEventHandler):\n",
    "    \"\"\"Custom event handler for processing assistant events.\"\"\"\n",
    "\n",
    "    def __init__(self):\n",
    "        super().__init__()\n",
    "        self.results = []  # Initialize the results list\n",
    "\n",
    "    @override\n",
    "    def on_text_created(self, text) -> None:\n",
    "        \"\"\"Handle the event when text is first created.\"\"\"\n",
    "        # Print the created text to the console\n",
    "        print(\"\\nassistant text > \", end=\"\", flush=True)\n",
    "        # Append the created text to the results list\n",
    "        self.results.append(text)\n",
    "\n",
    "    @override\n",
    "    def on_text_delta(self, delta, snapshot):\n",
    "        \"\"\"Handle the event when there is a text delta (partial text).\"\"\"\n",
    "        # Print the delta value (partial text) to the console\n",
    "        print(delta.value, end=\"\", flush=True)\n",
    "        # Append the delta value to the results list\n",
    "        self.results.append(delta.value)\n",
    "\n",
    "    def on_tool_call_created(self, tool_call):\n",
    "        \"\"\"Handle the event when a tool call is created.\"\"\"\n",
    "        # Print the type of the tool call to the console\n",
    "        print(f\"\\nassistant tool > {tool_call.type}\\n\", flush=True)\n",
    "\n",
    "    def on_tool_call_delta(self, delta, snapshot):\n",
    "        \"\"\"Handle the event when there is a delta (update) in a tool call.\"\"\"\n",
    "        if delta.type == 'code_interpreter':\n",
    "            # Check if there is an input in the code interpreter delta\n",
    "            if delta.code_interpreter.input:\n",
    "                # Print the input to the console\n",
    "                print(delta.code_interpreter.input, end=\"\", flush=True)\n",
    "                # Append the input to the results list\n",
    "                self.results.append(delta.code_interpreter.input)\n",
    "            # Check if there are outputs in the code interpreter delta\n",
    "            if delta.code_interpreter.outputs:\n",
    "                # Print a label for outputs to the console\n",
    "                print(\"\\n\\noutput >\", flush=True)\n",
    "                # Iterate over each output and handle logs specifically\n",
    "                for output in delta.code_interpreter.outputs or []:\n",
    "                    if output.type == \"logs\":\n",
    "                        # Print the logs to the console\n",
    "                        print(f\"\\n{output.logs}\", flush=True)\n",
    "                        # Append the logs to the results list\n",
    "                        self.results.append(output.logs)"
   ]
  },
  {
   "cell_type": "code",
   "execution_count": 10,
   "metadata": {},
   "outputs": [
    {
     "name": "stdout",
     "output_type": "stream",
     "text": [
      "\n",
      "assistant tool > file_search\n",
      "\n",
      "\n",
      "assistant text > Here are the main characters in *Dracula* along with citations of where they are first introduced in the book:\n",
      "\n",
      "1. **Jonathan Harker** – First introduced in his own journal as he arrives at Count Dracula's castle.\n",
      "   - Citation: \"Jonathan Harker's Journal\" 【4:2†source】\n",
      "\n",
      "2. **Mina Murray (later Mina Harker)** – First introduced in a letter to Lucy Westenra.\n",
      "   - Citation: \"Letter from Miss Mina Murray to Miss Lucy Westenra\" 【4:18†source】\n",
      "\n",
      "3. **Lucy Westenra** – First introduced in Mina Murray’s letter.\n",
      "   - Citation: \"Letter from Miss Mina Murray to Miss Lucy Westenra\" 【4:18†source】\n",
      "\n",
      "4. **Dr. John Seward** – First introduced in his own diary.\n",
      "   - Citation: \"Dr. Seward's Diary\" 【4:4†source】\n",
      "\n",
      "5. **Arthur Holmwood (Lord Godalming)** – First introduced in Dr. Seward's records.\n",
      "   - Citation: \"Dr. Seward's Diary\" 【7:0†source】\n",
      "\n",
      "6. **Quincey Morris** – First introduced in interaction with other characters in Dr. Seward's diary.\n",
      "   - Citation: \"Dr. Seward's Diary\" 【7:0†source】\n",
      "\n",
      "7. **Renfield** – First introduced in Dr. Seward's observations at the asylum.\n",
      "   - Citation: \"Dr. Seward's Diary\" 【7:0†source】\n",
      "\n",
      "8. **Professor Abraham Van Helsing** – First introduced in Dr. Seward's correspondence with Van Helsing regarding Lucy's condition.\n",
      "   - Citation: \"Dr. Seward's Diary\" 【4:10†source】\n",
      "\n",
      "9. **Count Dracula** – First introduced in Jonathan Harker's journal upon arrival at Dracula's castle.\n",
      "   - Citation: \"Jonathan Harker's Journal\" 【4:2†source】"
     ]
    }
   ],
   "source": [
    "# Using our first assistant\n",
    "with client.beta.threads.runs.stream(\n",
    "    thread_id=thread.id,\n",
    "    assistant_id=assistant.id,\n",
    "    event_handler=EventHandler(),\n",
    ") as stream:\n",
    "    stream.until_done()"
   ]
  },
  {
   "cell_type": "markdown",
   "metadata": {},
   "source": [
    "### Final Notes\n",
    "You can see we get the list of characters and a quote from where they are first introduced so that is a good thing. However, as of the time of this writing, dealing with annotations like 【4:13†Dracula.pdf】are still a challenge. That said, the API changes almost daily so, by the time you read this, there may be a fix. You can look at this topic in the dev forum to see if it can provide insight. \n",
    "\n",
    "[How can I access the specific text of the file that the annotation is referencing?](https://community.openai.com/t/how-can-i-access-the-specific-text-of-the-file-that-the-annotation-is-referencing/726723) \n",
    "\n",
    "\n"
   ]
  }
 ],
 "metadata": {
  "kernelspec": {
   "display_name": "NormalProgramming",
   "language": "python",
   "name": "python3"
  },
  "language_info": {
   "codemirror_mode": {
    "name": "ipython",
    "version": 3
   },
   "file_extension": ".py",
   "mimetype": "text/x-python",
   "name": "python",
   "nbconvert_exporter": "python",
   "pygments_lexer": "ipython3",
   "version": "3.11.4"
  }
 },
 "nbformat": 4,
 "nbformat_minor": 2
}
