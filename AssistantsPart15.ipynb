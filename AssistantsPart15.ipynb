{
 "cells": [
  {
   "cell_type": "markdown",
   "metadata": {},
   "source": [
    "# Part 15\n",
    "\n",
    "# Using Code Interpreter\n",
    "\n",
    "Universal code for the entire notebook"
   ]
  },
  {
   "cell_type": "code",
   "execution_count": 2,
   "metadata": {},
   "outputs": [],
   "source": [
    "# Uncomment the line below to make sure you have all the packages needed\n",
    "# %pip install -r requirements.txt"
   ]
  },
  {
   "cell_type": "code",
   "execution_count": 3,
   "metadata": {},
   "outputs": [],
   "source": [
    "# Import necessary libraries\n",
    "from openai import OpenAI  # Used for interacting with OpenAI's API\n",
    "from typing_extensions import override  # Used for overriding methods in subclasses\n",
    "from openai import AssistantEventHandler  # Used for handling events related to OpenAI assistants\n",
    "from IPython.display import display, Markdown, clear_output\n",
    "\n",
    "import time\n",
    "import threading"
   ]
  },
  {
   "cell_type": "code",
   "execution_count": 4,
   "metadata": {},
   "outputs": [],
   "source": [
    "# Create an instance of the OpenAI class to interact with the API.\n",
    "# This assumes you have set the OPENAI_API_KEY environment variable.\n",
    "client = OpenAI() "
   ]
  },
  {
   "cell_type": "code",
   "execution_count": 5,
   "metadata": {},
   "outputs": [],
   "source": [
    "class EventHandler(AssistantEventHandler):\n",
    "    \"\"\"Custom event handler for processing assistant events.\"\"\"\n",
    "\n",
    "    def __init__(self):\n",
    "        super().__init__()\n",
    "        self.results = []  # Initialize the results list\n",
    "\n",
    "    @override\n",
    "    def on_text_created(self, text) -> None:\n",
    "        \"\"\"Handle the event when text is first created.\"\"\"\n",
    "        print(\"\\nassistant text > \", end=\"\", flush=True)\n",
    "        self.results.append(text)\n",
    "\n",
    "    @override\n",
    "    def on_text_delta(self, delta, snapshot):\n",
    "        \"\"\"Handle the event when there is a text delta (partial text).\"\"\"\n",
    "        print(delta.value, end=\"\", flush=True)\n",
    "        self.results.append(delta.value)\n",
    "\n",
    "    def on_tool_call_created(self, tool_call):\n",
    "        \"\"\"Handle the event when a tool call is created.\"\"\"\n",
    "        print(f\"\\nassistant tool > {tool_call.type}\\n\", flush=True)\n",
    "\n",
    "    def on_tool_call_delta(self, delta, snapshot):\n",
    "        \"\"\"Handle the event when there is a delta (update) in a tool call.\"\"\"\n",
    "        if delta.type == 'code_interpreter':\n",
    "            if delta.code_interpreter.input:\n",
    "                print(delta.code_interpreter.input, end=\"\", flush=True)\n",
    "                self.results.append(delta.code_interpreter.input)\n",
    "            if delta.code_interpreter.outputs:\n",
    "                print(\"\\n\\noutput >\", flush=True)\n",
    "                for output in delta.code_interpreter.outputs or []:  # Adding a safeguard\n",
    "                    if output.type == \"logs\":\n",
    "                        print(f\"\\n{output.logs}\", flush=True)\n",
    "                        self.results.append(output.logs)\n"
   ]
  },
  {
   "cell_type": "markdown",
   "metadata": {},
   "source": [
    "## Creating an Assistant with Code Interpreter Enabled\n",
    "\n",
    "Our first step is to create an Assistant that can use Code Interpreter"
   ]
  },
  {
   "cell_type": "code",
   "execution_count": 6,
   "metadata": {},
   "outputs": [
    {
     "name": "stdout",
     "output_type": "stream",
     "text": [
      "Assistant(id='asst_58kps00XoHy4gSGHxFv5CZzN', created_at=1718813614, description=None, instructions=' \\n        You are a helpful assistant.\\n    ', metadata={'can_be_used_for_code_analysis': 'True', 'can_do_python': 'True'}, model='gpt-4o', name='Code Interpreter Assistant', object='assistant', tools=[CodeInterpreterTool(type='code_interpreter')], response_format='auto', temperature=1.0, tool_resources=ToolResources(code_interpreter=ToolResourcesCodeInterpreter(file_ids=[]), file_search=None), top_p=1.0)\n",
      "\n",
      "\n",
      "\n",
      "Code Interpreter Assistant\n",
      "{'can_be_used_for_code_analysis': 'True', 'can_do_python': 'True'}\n"
     ]
    }
   ],
   "source": [
    "# Create an assistant using the client library.\n",
    "assistant = client.beta.assistants.create(\n",
    "    model=\"gpt-4o\",  # Specify the model to be used.\n",
    "    \n",
    "    instructions=\"\"\" \n",
    "        You are a helpful assistant.\n",
    "    \"\"\",\n",
    "    \n",
    "    name=\"Code Interpreter Assistant\",  # Give the assistant a name.\n",
    "    \n",
    "    tools=[{\"type\": \"code_interpreter\"}], # Add the code interpreter capability to the assistant.\n",
    "    \n",
    "    metadata={  # Add metadata about the assistant's capabilities.\n",
    "        \"can_be_used_for_code_analysis\": \"True\",\n",
    "        \"can_do_python\": \"True\",\n",
    "    },\n",
    "    temperature=1,  # Set the temperature for response variability.\n",
    "    top_p=1,  # Set the top_p for nucleus sampling.\n",
    ")\n",
    "\n",
    "# Print the details of the created assistant to check its properties.\n",
    "print(assistant)  # Print the full assistant object.\n",
    "print(\"\\n\\n\")\n",
    "print(assistant.name)  # Print the name of the assistant.\n",
    "print(assistant.metadata)  # Print the metadata of the assistant."
   ]
  },
  {
   "cell_type": "markdown",
   "metadata": {},
   "source": [
    "## Passing Files to Code Interpreter\n",
    "\n",
    "There are a variety of ways to get files for Code Interpreter to use. \n",
    "- Assistant files - viewable by all runs that use the assistant.\n",
    "- Thread files - only viewable by runs that use the thread. \n",
    "\n",
    "Let's review the code for the two main approaches.\n",
    "\n",
    "### Getting Files to the Assistant\n",
    "\n",
    "First, you have to have a file that has been uploaded so we can pass it to our assistant."
   ]
  },
  {
   "cell_type": "code",
   "execution_count": 7,
   "metadata": {},
   "outputs": [
    {
     "name": "stdout",
     "output_type": "stream",
     "text": [
      "FileObject(id='file-En7sSp5e4jJO6GS1pVZPm1o1', bytes=13519, created_at=1718813614, filename='penguins_size.csv', object='file', purpose='assistants', status='processed', status_details=None)\n"
     ]
    }
   ],
   "source": [
    "# Upload a file with an \"assistants\" purpose\n",
    "assistant_file = client.files.create(\n",
    "    file=open(\"./artifacts/penguins_size.csv\", \"rb\"),\n",
    "    purpose='assistants'\n",
    ")\n",
    "\n",
    "print(assistant_file)"
   ]
  },
  {
   "cell_type": "markdown",
   "metadata": {},
   "source": [
    "Next, we need to modify our Assistant with the new file information. "
   ]
  },
  {
   "cell_type": "code",
   "execution_count": 8,
   "metadata": {},
   "outputs": [
    {
     "name": "stdout",
     "output_type": "stream",
     "text": [
      "Assistant(id='asst_58kps00XoHy4gSGHxFv5CZzN', created_at=1718813614, description=None, instructions=' \\n        You are a helpful assistant.\\n    ', metadata={'can_be_used_for_code_analysis': 'True', 'can_do_python': 'True'}, model='gpt-4o', name='Code Interpreter Assistant', object='assistant', tools=[CodeInterpreterTool(type='code_interpreter')], response_format='auto', temperature=1.0, tool_resources=ToolResources(code_interpreter=ToolResourcesCodeInterpreter(file_ids=['file-En7sSp5e4jJO6GS1pVZPm1o1']), file_search=None), top_p=1.0)\n"
     ]
    }
   ],
   "source": [
    "assistant = client.beta.assistants.update(\n",
    "    assistant_id=assistant.id,\n",
    "    tools=[{\"type\": \"code_interpreter\"}],\n",
    "    tool_resources={\n",
    "        \"code_interpreter\": {\n",
    "            \"file_ids\": [assistant_file.id]\n",
    "        }\n",
    "    }\n",
    ")\n",
    "\n",
    "print(assistant)"
   ]
  },
  {
   "cell_type": "markdown",
   "metadata": {},
   "source": [
    "Finally, let's run a message and see if it is working."
   ]
  },
  {
   "cell_type": "code",
   "execution_count": 9,
   "metadata": {},
   "outputs": [
    {
     "name": "stdout",
     "output_type": "stream",
     "text": [
      "\n",
      "assistant tool > code_interpreter\n",
      "\n",
      "import pandas as pd\n",
      "\n",
      "# Load the file\n",
      "file_path = '/mnt/data/file-En7sSp5e4jJO6GS1pVZPm1o1'\n",
      "penguins_data = pd.read_csv(file_path)\n",
      "\n",
      "# Display the first few rows of the dataset and some summary statistics\n",
      "penguins_data.head(), penguins_data.describe()\n",
      "assistant text > The dataset **penguins_size.csv** contains information about penguins across different islands, with the following columns:\n",
      "\n",
      "1. **species**: The species of the penguin (e.g., Adelie).\n",
      "2. **island**: The island where the penguin was observed (e.g., Torgersen).\n",
      "3. **culmen_length_mm**: The length of the culmen (the upper ridge of the bird's beak) in millimeters.\n",
      "4. **culmen_depth_mm**: The depth of the culmen in millimeters.\n",
      "5. **flipper_length_mm**: The length of the flipper in millimeters.\n",
      "6. **body_mass_g**: The body mass of the penguin in grams.\n",
      "7. **sex**: The sex of the penguin (e.g., MALE, FEMALE).\n",
      "\n",
      "Here are some summary statistics for the numerical columns:\n",
      "\n",
      "- **Culmen Length (mm)**:\n",
      "  - Mean: 43.92 mm\n",
      "  - Std: 5.46 mm\n",
      "  - Min: 32.1 mm\n",
      "  - Max: 59.6 mm\n",
      "  \n",
      "- **Culmen Depth (mm)**:\n",
      "  - Mean: 17.15 mm\n",
      "  - Std: 1.97 mm\n",
      "  - Min: 13.1 mm\n",
      "  - Max: 21.5 mm\n",
      "  \n",
      "- **Flipper Length (mm)**:\n",
      "  - Mean: 200.92 mm\n",
      "  - Std: 14.06 mm\n",
      "  - Min: 172 mm\n",
      "  - Max: 231 mm\n",
      "  \n",
      "- **Body Mass (g)**:\n",
      "  - Mean: 4201.75 g\n",
      "  - Std: 801.96 g\n",
      "  - Min: 2700 g\n",
      "  - Max: 6300 g\n",
      "\n",
      "The dataset contains a total of 342 rows, although some rows have missing values in different columns (e.g., data for culmen length, culmen depth, flipper length, body mass, sex, etc.)."
     ]
    }
   ],
   "source": [
    "\n",
    "# Your assistant code remains unchanged\n",
    "assistant_thread = client.beta.threads.create(\n",
    "    messages=[\n",
    "        {\n",
    "            \"role\": \"user\",\n",
    "            \"content\": \"Give me a summary of the file penguins_size.csv.\"\n",
    "        },\n",
    "    ]\n",
    ")\n",
    "\n",
    "with client.beta.threads.runs.stream(\n",
    "    thread_id=assistant_thread.id,\n",
    "    assistant_id=assistant.id,\n",
    "    instructions=\"\"\"\n",
    "    You are a helpful assistant.\n",
    "    \"\"\",\n",
    "    event_handler=EventHandler(),\n",
    ") as stream:\n",
    "    stream.until_done()\n"
   ]
  },
  {
   "cell_type": "markdown",
   "metadata": {},
   "source": [
    "### Formatting the Output\n",
    "What if we want to format the markdown output? There are two ways to do it. The \"easy\" way is to just let the output render without streaming and format it afterward."
   ]
  },
  {
   "cell_type": "code",
   "execution_count": 21,
   "metadata": {},
   "outputs": [
    {
     "data": {
      "text/markdown": [
       "The file `penguins_size.csv` contains data about penguins and has the following characteristics:\n",
       "\n",
       "- **Shape:** The dataset has 344 rows and 7 columns.\n",
       "- **Columns:**\n",
       "  1. `species`: The species of the penguins (e.g., Adelie).\n",
       "  2. `island`: The island where the penguin was observed (e.g., Torgersen).\n",
       "  3. `culmen_length_mm`: The length of the culmen (beak) in millimeters.\n",
       "  4. `culmen_depth_mm`: The depth of the culmen in millimeters.\n",
       "  5. `flipper_length_mm`: The length of the flipper in millimeters.\n",
       "  6. `body_mass_g`: The body mass of the penguin in grams.\n",
       "  7. `sex`: The sex of the penguin (e.g., MALE, FEMALE).\n",
       "\n",
       "- **Data Information:**\n",
       "  - There are missing values in the `culmen_length_mm`, `culmen_depth_mm`, `flipper_length_mm`, `body_mass_g`, and `sex` columns.\n",
       "  - The data types of the columns are:\n",
       "    - `species`, `island`, and `sex` are of type object (string).\n",
       "    - `culmen_length_mm`, `culmen_depth_mm`, `flipper_length_mm`, and `body_mass_g` are of type float64.\n",
       "\n",
       "- **First Few Rows of Data:**\n",
       "  | species | island    | culmen_length_mm | culmen_depth_mm | flipper_length_mm | body_mass_g | sex   |\n",
       "  |---------|-----------|------------------|-----------------|-------------------|-------------|-------|\n",
       "  | Adelie  | Torgersen | 39.1             | 18.7            | 181.0             | 3750.0      | MALE  |\n",
       "  | Adelie  | Torgersen | 39.5             | 17.4            | 186.0             | 3800.0      | FEMALE|\n",
       "  | Adelie  | Torgersen | 40.3             | 18.0            | 195.0             | 3250.0      | FEMALE|\n",
       "  | Adelie  | Torgersen | NaN              | NaN             | NaN               | NaN         | NaN   |\n",
       "  | Adelie  | Torgersen | 36.7             | 19.3            | 193.0             | 3450.0      | FEMALE|\n",
       "\n",
       "If you need any specific analysis or additional details, please let me know!"
      ],
      "text/plain": [
       "<IPython.core.display.Markdown object>"
      ]
     },
     "metadata": {},
     "output_type": "display_data"
    }
   ],
   "source": [
    "# Need a thread to send message and get output\n",
    "assistant_thread = client.beta.threads.create(\n",
    "    messages=[\n",
    "        {\n",
    "            \"role\": \"user\",\n",
    "            \"content\": \"Give me a summary of the file penguins_size.csv.\"\n",
    "        },\n",
    "    ]\n",
    ")\n",
    "\n",
    "run = client.beta.threads.runs.create_and_poll(\n",
    "    thread_id=assistant_thread.id, assistant_id=assistant.id\n",
    ")\n",
    "\n",
    "messages = list(client.beta.threads.messages.list(thread_id=assistant_thread.id, run_id=run.id))\n",
    "\n",
    "message_content = messages[0].content[0].text\n",
    "annotations = message_content.annotations\n",
    "citations = []\n",
    "for index, annotation in enumerate(annotations):\n",
    "    message_content.value = message_content.value.replace(annotation.text, f\"[{index}]\")\n",
    "    if file_citation := getattr(annotation, \"file_citation\", None):\n",
    "        cited_file = client.files.retrieve(file_citation.file_id)\n",
    "        citations.append(f\"[{index}] {cited_file.filename}\")\n",
    "\n",
    "display(Markdown(message_content.value))"
   ]
  },
  {
   "cell_type": "markdown",
   "metadata": {},
   "source": [
    "The \"hard\" way is to stream the output and update the display while streaming to show the formatted text. This is what ChatGPT does when you use it. This will require modifying our event handler to be more streamlined, formatting output, and updating our display."
   ]
  },
  {
   "cell_type": "code",
   "execution_count": 11,
   "metadata": {},
   "outputs": [
    {
     "data": {
      "text/markdown": [
       "### Penguins Size Dataset Summary\n",
       "\n",
       "The dataset contains various attributes measured from different penguin species. Below is a summary of the data:\n",
       "\n",
       "#### Summary Statistics\n",
       "\n",
       "| Attribute            | Count | Unique | Top      | Frequency | Mean    | Std Dev | Min    | 25%    | 50%    | 75%    | Max    |\n",
       "|----------------------|-------|--------|----------|-----------|---------|---------|--------|--------|--------|--------|--------|\n",
       "| **Species**          | 344   | 3      | Adelie   | 152       | -       | -       | -      | -      | -      | -      | -      |\n",
       "| **Island**           | 344   | 3      | Biscoe   | 168       | -       | -       | -      | -      | -      | -      | -      |\n",
       "| **Culmen Length (mm)** | 342   | -      | -        | -         | 43.92   | 5.46    | 32.10  | 39.23  | 44.45  | 48.50  | 59.60  |\n",
       "| **Culmen Depth (mm)** | 342   | -      | -        | -         | 17.15   | 1.97    | 13.10  | 15.60  | 17.30  | 18.70  | 21.50  |\n",
       "| **Flipper Length (mm)**| 342   | -      | -        | -         | 200.92  | 14.06   | 172.00 | 190.00 | 197.00 | 213.00 | 231.00 |\n",
       "| **Body Mass (g)**    | 342   | -      | -        | -         | 4201.75 | 801.95  | 2700.00| 3550.00| 4050.00| 4750.00| 6300.00|\n",
       "| **Sex**              | 334   | 3      | MALE     | 168       | -       | -       | -      | -      | -      | -      | -      |\n",
       "\n",
       "#### Sample Data\n",
       "\n",
       "Here is a small extract from the dataset:\n",
       "\n",
       "| Species | Island | Culmen Length (mm) | Culmen Depth (mm) | Flipper Length (mm) | Body Mass (g) | Sex  |\n",
       "|---------|--------|---------------------|--------------------|----------------------|---------------|------|\n",
       "| Adelie  | Torgersen | 39.1               | 18.7               | 181                  | 3750          | MALE |\n",
       "| Adelie  | Torgersen | 39.5               | 17.4               | 186                  | 3800          | FEMALE |\n",
       "| Adelie  | Torgersen | 40.3               | 18.0               | 195                  | 3250          | FEMALE |\n",
       "| Adelie  | Torgersen | NaN                | NaN                | NaN                  | NaN           | NaN |\n",
       "| Adelie  | Torgersen | 36.7               | 19.3               | 193                  | 3450          | FEMALE |\n",
       "\n",
       "This dataset provides a range of measurements for different penguin species found on islands. Each row corresponds to an individual penguin, featuring measurements such as culmen length, culmen depth, flipper length, body mass, and sex."
      ],
      "text/plain": [
       "<IPython.core.display.Markdown object>"
      ]
     },
     "metadata": {},
     "output_type": "display_data"
    }
   ],
   "source": [
    "\n",
    "class EventHandler(AssistantEventHandler):\n",
    "    \"\"\"Custom event handler for processing assistant events.\"\"\"\n",
    "\n",
    "    def __init__(self):\n",
    "        super().__init__()\n",
    "        self.results = []  # Initialize the results list\n",
    "\n",
    "    @override\n",
    "    def on_text_delta(self, delta, snapshot):\n",
    "        \"\"\"Handle the event when there is a text delta (partial text).\"\"\"\n",
    "        self.results.append(delta.value)\n",
    "        self.update_output()\n",
    "\n",
    "    def update_output(self):\n",
    "        \"\"\"Update the Jupyter Notebook cell with the current markdown content.\"\"\"\n",
    "        clear_output(wait=True)\n",
    "        markdown_content = \"\".join(self.results)\n",
    "        display(Markdown(markdown_content))\n",
    "\n",
    "# Your assistant code remains unchanged\n",
    "assistant_thread = client.beta.threads.create(\n",
    "    messages=[\n",
    "        {\n",
    "            \"role\": \"user\",\n",
    "            \"content\": \"Give me a summary of the file penguins_size.csv. With at least one small table of data. Make the information well formatted and easy to read.\"\n",
    "        },\n",
    "    ]\n",
    ")\n",
    "\n",
    "with client.beta.threads.runs.stream(\n",
    "    thread_id=assistant_thread.id,\n",
    "    assistant_id=assistant.id,\n",
    "    instructions=\"\"\"\n",
    "    You are a helpful assistant.\n",
    "    \"\"\",\n",
    "    event_handler=EventHandler(),\n",
    ") as stream:\n",
    "    stream.until_done()\n"
   ]
  },
  {
   "cell_type": "markdown",
   "metadata": {},
   "source": [
    "### Getting Files to the Thread\n",
    "\n",
    "First, we need a file uploaded.\n"
   ]
  },
  {
   "cell_type": "code",
   "execution_count": 12,
   "metadata": {},
   "outputs": [
    {
     "name": "stdout",
     "output_type": "stream",
     "text": [
      "FileObject(id='file-mXRW8eB92AjK2j2GEhYM3y7E', bytes=43599, created_at=1718813660, filename='daily-bike-share.csv', object='file', purpose='assistants', status='processed', status_details=None)\n"
     ]
    }
   ],
   "source": [
    "# Upload a file with an \"assistants\" purpose\n",
    "thread_file = client.files.create(\n",
    "    file=open(\"./artifacts/daily-bike-share.csv\", \"rb\"),\n",
    "    purpose='assistants'\n",
    ")\n",
    "\n",
    "print(thread_file)"
   ]
  },
  {
   "cell_type": "markdown",
   "metadata": {},
   "source": [
    "Second, we need a thread to attach the file to"
   ]
  },
  {
   "cell_type": "code",
   "execution_count": 13,
   "metadata": {},
   "outputs": [
    {
     "name": "stdout",
     "output_type": "stream",
     "text": [
      "Thread(id='thread_RnCPF9DkyahJkvBFLiYs0t36', created_at=1718813661, metadata={}, object='thread', tool_resources=ToolResources(code_interpreter=None, file_search=None))\n"
     ]
    }
   ],
   "source": [
    "thread = client.beta.threads.create(\n",
    "    messages=[\n",
    "        {\n",
    "            \"role\": \"user\",\n",
    "            \"content\": \"Give me a summary of the daily-bike-share.csv file.\"\n",
    "        },\n",
    "    ]\n",
    ")\n",
    "\n",
    "print(thread)"
   ]
  },
  {
   "cell_type": "markdown",
   "metadata": {},
   "source": [
    "Third, we can update the thread with the file information"
   ]
  },
  {
   "cell_type": "code",
   "execution_count": 14,
   "metadata": {},
   "outputs": [
    {
     "name": "stdout",
     "output_type": "stream",
     "text": [
      "Thread(id='thread_RnCPF9DkyahJkvBFLiYs0t36', created_at=1718813661, metadata={}, object='thread', tool_resources=ToolResources(code_interpreter=ToolResourcesCodeInterpreter(file_ids=['file-mXRW8eB92AjK2j2GEhYM3y7E']), file_search=None))\n"
     ]
    }
   ],
   "source": [
    "updated_thread = client.beta.threads.update(\n",
    "    thread_id=thread.id,\n",
    "    tool_resources={\n",
    "        \"code_interpreter\": {\n",
    "            \"file_ids\": [thread_file.id]\n",
    "        }\n",
    "    }\n",
    ")\n",
    "\n",
    "print(updated_thread)"
   ]
  },
  {
   "cell_type": "markdown",
   "metadata": {},
   "source": [
    "Finally, let's run it against a new assistant and see the results"
   ]
  },
  {
   "cell_type": "code",
   "execution_count": 15,
   "metadata": {},
   "outputs": [
    {
     "name": "stdout",
     "output_type": "stream",
     "text": [
      "Assistant(id='asst_58kps00XoHy4gSGHxFv5CZzN', created_at=1718813614, description=None, instructions=' \\n        You are a helpful assistant.\\n    ', metadata={'can_be_used_for_code_analysis': 'True', 'can_do_python': 'True'}, model='gpt-4o', name='Code Interpreter Assistant', object='assistant', tools=[CodeInterpreterTool(type='code_interpreter')], response_format='auto', temperature=1.0, tool_resources=ToolResources(code_interpreter=ToolResourcesCodeInterpreter(file_ids=['file-En7sSp5e4jJO6GS1pVZPm1o1']), file_search=None), top_p=1.0)\n",
      "\n",
      "\n",
      "\n",
      "Code Interpreter Assistant\n",
      "{'can_be_used_for_code_analysis': 'True', 'can_do_python': 'True'}\n"
     ]
    }
   ],
   "source": [
    "# Create an assistant using the client library.\n",
    "thread_assistant = client.beta.assistants.create(\n",
    "    model=\"gpt-4o\",  # Specify the model to be used.\n",
    "    \n",
    "    instructions=\"\"\" \n",
    "        You are a helpful assistant.\n",
    "    \"\"\",\n",
    "    \n",
    "    name=\"Code Interpreter Assistant Using Thread Data\",  # Give the assistant a name.\n",
    "    \n",
    "    tools=[{\"type\": \"code_interpreter\"}], # Add the code interpreter capability to the assistant.\n",
    "    \n",
    "    metadata={  # Add metadata about the assistant's capabilities.\n",
    "        \"can_be_used_for_code_analysis\": \"True\",\n",
    "        \"can_do_python\": \"True\",\n",
    "    },\n",
    "    temperature=1,  # Set the temperature for response variability.\n",
    "    top_p=1,  # Set the top_p for nucleus sampling.\n",
    ")\n",
    "\n",
    "# Print the details of the created assistant to check its properties.\n",
    "print(assistant)  # Print the full assistant object.\n",
    "print(\"\\n\\n\")\n",
    "print(assistant.name)  # Print the name of the assistant.\n",
    "print(assistant.metadata)  # Print the metadata of the assistant."
   ]
  },
  {
   "cell_type": "code",
   "execution_count": 16,
   "metadata": {},
   "outputs": [
    {
     "data": {
      "text/markdown": [
       "The dataset, `daily-bike-share.csv`, has 731 entries and 13 columns. Here's a brief summary of the dataset:\n",
       "\n",
       "### Columns and Data Types:\n",
       "1. **day**: integer (day of the month)\n",
       "2. **mnth**: integer (month)\n",
       "3. **year**: integer (year)\n",
       "4. **season**: integer (season)\n",
       "5. **holiday**: integer (whether the day is a holiday, 0: No, 1: Yes)\n",
       "6. **weekday**: integer (day of the week, 0: Sunday to 6: Saturday)\n",
       "7. **workingday**: integer (whether the day is a working day, 0: No, 1: Yes)\n",
       "8. **weathersit**: integer (weather situation, 1: Clear, 2: Mist+Cloudy, 3: Light Snow+Light Rain, etc.)\n",
       "9. **temp**: float (temperature, normalized)\n",
       "10. **atemp**: float (feeling temperature, normalized)\n",
       "11. **hum**: float (humidity, normalized)\n",
       "12. **windspeed**: float (wind speed, normalized)\n",
       "13. **rentals**: integer (number of bike rentals)\n",
       "\n",
       "### Sample Data:\n",
       "|   | day | mnth | year | season | holiday | weekday | workingday | weathersit |  temp  |  atemp |   hum   | windspeed | rentals |\n",
       "|---|-----|------|------|--------|---------|---------|------------|------------|--------|--------|---------|-----------|---------|\n",
       "| 0 | 1   | 1    | 2011 | 1      | 0       | 6       | 0          | 2          | 0.344  | 0.364  | 0.806   | 0.160     | 331     |\n",
       "| 1 | 2   | 1    | 2011 | 1      | 0       | 0       | 0          | 2          | 0.363  | 0.354  | 0.696   | 0.249     | 131     |\n",
       "| 2 | 3   | 1    | 2011 | 1      | 0       | 1       | 1          | 1          | 0.196  | 0.189  | 0.437   | 0.248     | 120     |\n",
       "| 3 | 4   | 1    | 2011 | 1      | 0       | 2       | 1          | 1          | 0.200  | 0.212  | 0.590   | 0.160     | 108     |\n",
       "| 4 | 5   | 1    | 2011 | 1      | 0       | 3       | 1          | 1          | 0.227  | 0.229  | 0.437   | 0.187     | 82      |\n",
       "\n",
       "### Summary Statistics:\n",
       "- **day**: Ranges from 1 to 31.\n",
       "- **mnth**: Ranges from 1 to 12.\n",
       "- **year**: Distributed equally between 2011 and 2012.\n",
       "- **season**: Ranges from 1 to 4.\n",
       "- **holiday**: Mostly 0 (non-holiday days), with few 1 (holiday days).\n",
       "- **weekday**: Spread across 0 (Sunday) through 6 (Saturday).\n",
       "- **workingday**: Majority of the data points are working days (1).\n",
       "- **weathersit**: Mostly clear/mist/cloudy days, with a few rainy/snowy days.\n",
       "- **temp**: Ranges from approximately 0.06 to 0.86.\n",
       "- **atemp**: Ranges from approximately 0.07 to 0.84.\n",
       "- **hum**: Ranges from 0 to about 0.97.\n",
       "- **windspeed**: Ranges from about 0.02 to 0.51.\n",
       "- **rentals**: Ranges from 2 to 3,410 bike rentals per day.\n",
       "\n",
       "If you need further analysis or specific information regarding this dataset, feel free to ask!"
      ],
      "text/plain": [
       "<IPython.core.display.Markdown object>"
      ]
     },
     "metadata": {},
     "output_type": "display_data"
    }
   ],
   "source": [
    "# stream the output from the assistant\n",
    "with client.beta.threads.runs.stream(\n",
    "    thread_id=updated_thread.id,\n",
    "    assistant_id=thread_assistant.id,\n",
    "    event_handler=EventHandler(),\n",
    ") as stream:\n",
    "    stream.until_done()"
   ]
  },
  {
   "cell_type": "markdown",
   "metadata": {},
   "source": [
    "### Text Results from files in Assistants and Threads\n",
    "\n",
    "Let's see what happens if we use an assistant with a file and a thread with a file together"
   ]
  },
  {
   "cell_type": "code",
   "execution_count": 17,
   "metadata": {},
   "outputs": [
    {
     "name": "stdout",
     "output_type": "stream",
     "text": [
      "Thread(id='thread_ei5VxprpMGDClH6hijZFP69m', created_at=1718813685, metadata={}, object='thread', tool_resources=ToolResources(code_interpreter=None, file_search=None))\n"
     ]
    }
   ],
   "source": [
    "super_thread = client.beta.threads.create(\n",
    "    messages=[\n",
    "        {\n",
    "            \"role\": \"user\",\n",
    "            \"content\": \"Give me a summary of the penguins-size.csv and daily-bike-share.csv files. Make the information well formatted and easy to read.\"\n",
    "        },\n",
    "    ]\n",
    ")\n",
    "\n",
    "print(super_thread)"
   ]
  },
  {
   "cell_type": "code",
   "execution_count": 18,
   "metadata": {},
   "outputs": [
    {
     "name": "stdout",
     "output_type": "stream",
     "text": [
      "Thread(id='thread_ei5VxprpMGDClH6hijZFP69m', created_at=1718813685, metadata={}, object='thread', tool_resources=ToolResources(code_interpreter=ToolResourcesCodeInterpreter(file_ids=['file-mXRW8eB92AjK2j2GEhYM3y7E']), file_search=None))\n"
     ]
    }
   ],
   "source": [
    "super_updated_thread = client.beta.threads.update(\n",
    "    thread_id=super_thread.id,\n",
    "    tool_resources={\n",
    "        \"code_interpreter\": {\n",
    "            \"file_ids\": [thread_file.id]\n",
    "        }\n",
    "    }\n",
    ")\n",
    "\n",
    "print(super_updated_thread)"
   ]
  },
  {
   "cell_type": "code",
   "execution_count": 19,
   "metadata": {},
   "outputs": [
    {
     "data": {
      "text/markdown": [
       "Let's start by loading and summarizing the contents of the files **penguins-size.csv** and **daily-bike-share.csv**. We'll extract key information such as column names, data types, any missing values, and some basic statistics. \n",
       "\n",
       "Let's begin with the **penguins-size.csv** file.### Summary of **penguins-size.csv**\n",
       "\n",
       "**Column Information:**\n",
       "- **species**: Object (Categorical)\n",
       "- **island**: Object (Categorical)\n",
       "- **culmen_length_mm**: Float64\n",
       "- **culmen_depth_mm**: Float64\n",
       "- **flipper_length_mm**: Float64\n",
       "- **body_mass_g**: Float64\n",
       "- **sex**: Object (Categorical)\n",
       "\n",
       "**Missing Values:**\n",
       "- **species**: 0\n",
       "- **island**: 0\n",
       "- **culmen_length_mm**: 2\n",
       "- **culmen_depth_mm**: 2\n",
       "- **flipper_length_mm**: 2\n",
       "- **body_mass_g**: 2\n",
       "- **sex**: 10\n",
       "\n",
       "**Basic Statistics:**\n",
       "\n",
       "| Statistic             | culmen_length_mm | culmen_depth_mm | flipper_length_mm | body_mass_g |\n",
       "|-----------------------|------------------|-----------------|-------------------|-------------|\n",
       "| **Count**             | 342              | 342             | 342               | 342         |\n",
       "| **Mean**              | 43.92            | 17.15           | 200.92            | 4201.75     |\n",
       "| **Standard Deviation**| 5.46             | 1.97            | 14.06             | 801.95      |\n",
       "| **Minimum**           | 32.1             | 13.1            | 172.0             | 2700.0      |\n",
       "| **25th Percentile**   | 39.23            | 15.6            | 190.0             | 3550.0      |\n",
       "| **50th Percentile**   | 44.45            | 17.3            | 197.0             | 4050.0      |\n",
       "| **75th Percentile**   | 48.5             | 18.7            | 213.0             | 4750.0      |\n",
       "| **Maximum**           | 59.6             | 21.5            | 231.0             | 6300.0      |\n",
       "\n",
       "Next, let's load and summarize the contents of the **daily-bike-share.csv** file.### Summary of **daily-bike-share.csv**\n",
       "\n",
       "**Column Information:**\n",
       "- **day**: Int64\n",
       "- **mnth**: Int64\n",
       "- **year**: Int64\n",
       "- **season**: Int64\n",
       "- **holiday**: Int64\n",
       "- **weekday**: Int64\n",
       "- **workingday**: Int64\n",
       "- **weathersit**: Int64\n",
       "- **temp**: Float64\n",
       "- **atemp**: Float64\n",
       "- **hum**: Float64\n",
       "- **windspeed**: Float64\n",
       "- **rentals**: Int64\n",
       "\n",
       "**Missing Values:**\n",
       "- **day**: 0\n",
       "- **mnth**: 0\n",
       "- **year**: 0\n",
       "- **season**: 0\n",
       "- **holiday**: 0\n",
       "- **weekday**: 0\n",
       "- **workingday**: 0\n",
       "- **weathersit**: 0\n",
       "- **temp**: 0\n",
       "- **atemp**: 0\n",
       "- **hum**: 0\n",
       "- **windspeed**: 0\n",
       "- **rentals**: 0\n",
       "\n",
       "**Basic Statistics:**\n",
       "\n",
       "| Statistic             | day   | mnth  | year  | season | holiday | weekday | workingday | weathersit | temp  | atemp | hum   | windspeed | rentals |\n",
       "|-----------------------|-------|-------|-------|--------|---------|---------|------------|------------|-------|-------|-------|-----------|---------|\n",
       "| **Count**             | 731.0 | 731.0 | 731.0 | 731.0  | 731.0   | 731.0   | 731.0      | 731.0      | 731.0 | 731.0 | 731.0 | 731.0     | 731.0   |\n",
       "| **Mean**              | 15.74 | 6.52  | 2011.5| 2.50   | 0.03    | 3.00    | 0.68       | 1.40       | 0.50  | 0.47  | 0.63  | 0.19      | 848.18  |\n",
       "| **Standard Deviation**| 8.81  | 3.45  | 0.50  | 1.11   | 0.17    | 2.00    | 0.47       | 0.54       | 0.18  | 0.16  | 0.14  | 0.08      | 686.62  |\n",
       "| **Minimum**           | 1.0   | 1.0   | 2011.0| 1.0    | 0.0     | 0.0     | 0.0        | 1.0        | 0.06  | 0.08  | 0.00  | 0.02      | 2.0     |\n",
       "| **25th Percentile**   | 8.0   | 4.0   | 2011.0| 2.0    | 0.0     | 1.0     | 0.0        | 1.0        | 0.34  | 0.34  | 0.52  | 0.13      | 315.5   |\n",
       "| **50th Percentile**   | 16.0  | 7.0   | 2012.0| 3.0    | 0.0     | 3.0     | 1.0        | 1.0        | 0.50  | 0.49  | 0.63  | 0.18      | 713.0   |\n",
       "| **75th Percentile**   | 23.0  | 10.0  | 2012.0| 3.0    | 0.0     | 5.0     | 1.0        | 2.0        | 0.66  | 0.61  | 0.73  | 0.23      | 1096.0  |\n",
       "| **Maximum**           | 31.0  | 12.0  | 2012.0| 4.0    | 1.0     | 6.0     | 1.0        | 3.0        | 0.86  | 0.84  | 0.97  | 0.51      | 3410.0  |\n",
       "\n",
       "Thus, both files have been summarized comprehensively with an analysis of their column names, data types, missing values, and basic descriptive statistics."
      ],
      "text/plain": [
       "<IPython.core.display.Markdown object>"
      ]
     },
     "metadata": {},
     "output_type": "display_data"
    }
   ],
   "source": [
    "# stream the output from the assistant\n",
    "with client.beta.threads.runs.stream(\n",
    "    thread_id=super_updated_thread.id,\n",
    "    assistant_id=assistant.id,\n",
    "    event_handler=EventHandler(),\n",
    ") as stream:\n",
    "    stream.until_done()"
   ]
  },
  {
   "cell_type": "markdown",
   "metadata": {},
   "source": [
    "### Full Results Output\n",
    "\n",
    "We may have other things that are produced"
   ]
  },
  {
   "cell_type": "code",
   "execution_count": 20,
   "metadata": {},
   "outputs": [
    {
     "name": "stdout",
     "output_type": "stream",
     "text": [
      "Image File ID: file-gVeNICAG4s7Hg596do5m6c5p\n"
     ]
    },
    {
     "data": {
      "image/png": "[encoded data removed]",
      "text/plain": [
       "<IPython.core.display.Image object>"
      ]
     },
     "metadata": {
      "image/png": {
       "height": 700,
       "width": 700
      }
     },
     "output_type": "display_data"
    },
    {
     "name": "stdout",
     "output_type": "stream",
     "text": [
      "The dataset `penguins_size.csv` consists of various measurements of penguins across different species and islands. Each record includes the penguin's species, the island where it was found, culmen length and depth, flipper length, body mass, and sex. The dataset provides insights into the physical attributes of penguins from different species such as Adelie, Chinstrap, and Gentoo. The summary statistics are included, which show the mean and the distribution of these attributes.\n",
      "\n",
      "Here is a summary of the culmen length distributions across the species:\n",
      "\n",
      "| Species   | Mean Culmen Length (mm) |\n",
      "|-----------|-------------------------|\n",
      "| Adelie    | 39.425                  |\n",
      "| Chinstrap | 48.833                  |\n",
      "| Gentoo    | 47.504                  |\n",
      "\n",
      "The following boxplot visualizes the distribution of culmen lengths for each species in the dataset:\n",
      "\n",
      "![Distribution of Culmen Length by Penguin Species](attachment:boxplot_culmen_length.png)\n",
      "\n",
      "The `penguins_size.csv` file contains data on penguins, with columns representing various attributes such as species, island, culmen length (in mm), culmen depth (in mm), flipper length (in mm), body mass (in grams), and sex. The dataset includes records for multiple penguin species found on different islands. Here are the first few rows of the dataset:\n",
      "\n",
      "| species | island    | culmen_length_mm | culmen_depth_mm | flipper_length_mm | body_mass_g | sex   |\n",
      "|---------|-----------|------------------|-----------------|-------------------|-------------|-------|\n",
      "| Adelie  | Torgersen | 39.1             | 18.7            | 181.0             | 3750.0      | MALE  |\n",
      "| Adelie  | Torgersen | 39.5             | 17.4            | 186.0             | 3800.0      | FEMALE|\n",
      "| Adelie  | Torgersen | 40.3             | 18.0            | 195.0             | 3250.0      | FEMALE|\n",
      "\n",
      "Let's visualize the distribution of culmen length for the different penguin species in the dataset.\n",
      "\n",
      "Let's first examine the contents of the file `penguins_size.csv` to understand its structure and content. Then, I can provide a summary along with a table and visualization.\n",
      "\n"
     ]
    }
   ],
   "source": [
    "import requests\n",
    "from IPython.display import display, Image\n",
    "\n",
    "# Need a thread to send message and get output\n",
    "assistant_thread = client.beta.threads.create(\n",
    "    messages=[\n",
    "        {\n",
    "            \"role\": \"user\",\n",
    "            \"content\": \"Give me a one paragraph summary of the file penguins_size.csv. With at least one small table of data and one visualization.\"\n",
    "        },\n",
    "    ]\n",
    ")\n",
    "\n",
    "run = client.beta.threads.runs.create_and_poll(\n",
    "    thread_id=assistant_thread.id, assistant_id=assistant.id\n",
    ")\n",
    "\n",
    "messages = list(client.beta.threads.messages.list(thread_id=assistant_thread.id, run_id=run.id))\n",
    "\n",
    "# print(messages)\n",
    "# print(\"\\n\\n\")\n",
    "\n",
    "for message in messages:\n",
    "    for content_block in message.content:\n",
    "        if content_block.type == 'text':\n",
    "            text_content = content_block.text\n",
    "            annotations = text_content.annotations\n",
    "            citations = []\n",
    "            for index, annotation in enumerate(annotations):\n",
    "                # Replace the text with a footnote\n",
    "                text_content.value = text_content.value.replace(annotation.text, f' [{index}]')\n",
    "                # Gather citations based on annotation attributes\n",
    "                if (file_citation := getattr(annotation, 'file_citation', None)):\n",
    "                    cited_file = client.files.retrieve(file_citation.file_id)\n",
    "                    citations.append(f'[{index}] {file_citation.quote} from {cited_file.filename}')\n",
    "                elif (file_path := getattr(annotation, 'file_path', None)):\n",
    "                    cited_file = client.files.retrieve(file_path.file_id)\n",
    "                    citations.append(f'[{index}] Click <here> to download {cited_file.filename}')\n",
    "                    # Note: File download functionality not implemented above for brevity\n",
    "            # Add footnotes to the end of the message before displaying to user\n",
    "            text_content.value += '\\n' + '\\n'.join(citations)\n",
    "            print(text_content.value)\n",
    "\n",
    "        elif content_block.type == 'image_file':\n",
    "            image_file = content_block.image_file\n",
    "            print(f\"Image File ID: {image_file.file_id}\")\n",
    "            # Download and display the image\n",
    "            file_info = client.files.retrieve(image_file.file_id)\n",
    "            image_content = client.files.content(file_info.id)\n",
    "            display(Image(image_content.content,width=700,height=700))\n"
   ]
  }
 ],
 "metadata": {
  "kernelspec": {
   "display_name": "NormalProgramming",
   "language": "python",
   "name": "python3"
  },
  "language_info": {
   "codemirror_mode": {
    "name": "ipython",
    "version": 3
   },
   "file_extension": ".py",
   "mimetype": "text/x-python",
   "name": "python",
   "nbconvert_exporter": "python",
   "pygments_lexer": "ipython3",
   "version": "3.11.4"
  }
 },
 "nbformat": 4,
 "nbformat_minor": 2
}
