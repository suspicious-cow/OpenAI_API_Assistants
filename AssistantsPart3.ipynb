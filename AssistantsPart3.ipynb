{
 "cells": [
  {
   "cell_type": "markdown",
   "metadata": {},
   "source": [
    "# Managing Assistants\n",
    "\n",
    "## Creating Assistants Review\n",
    "Let's take a quick look at how to create an assistant that we can use to learn about managing assistants."
   ]
  },
  {
   "cell_type": "code",
   "execution_count": 1,
   "metadata": {},
   "outputs": [
    {
     "name": "stdout",
     "output_type": "stream",
     "text": [
      "Assistant(id='asst_wvZH0YdJHx1HsP0RLOgNsUBA', created_at=1714953373, description=None, instructions='You are a personal data analyst. When asked a question, write and run Python code to answer the question.', metadata={'key': 'value', 'is_awesome': 'True', 'is_beta': 'False'}, model='gpt-4-turbo', name='Code Interpreter Assistant', object='assistant', tools=[CodeInterpreterTool(type='code_interpreter')], response_format='auto', temperature=1.0, tool_resources=ToolResources(code_interpreter=ToolResourcesCodeInterpreter(file_ids=[]), file_search=None), top_p=1.0)\n",
      "\n",
      "\n",
      "\n",
      "Code Interpreter Assistant\n",
      "[CodeInterpreterTool(type='code_interpreter')]\n"
     ]
    }
   ],
   "source": [
    "from openai import OpenAI\n",
    "\n",
    "# Create an instance of the OpenAI class.\n",
    "client = OpenAI()\n",
    "\n",
    "# Create an assistant that uses code interpreter.\n",
    "assistant = client.beta.assistants.create(\n",
    "    model=\"gpt-4-turbo\",\n",
    "    instructions=\"You are a personal data analyst. When asked a question, write and run Python code to answer the question.\",\n",
    "    name=\"Code Interpreter Assistant\",\n",
    "    metadata={\n",
    "        \"key\": \"value\",\n",
    "        \"is_awesome\": \"True\",  # Lowercase dictionary keys\n",
    "        \"is_beta\": \"False\"\n",
    "    },\n",
    "    temperature=1,\n",
    "    top_p=1,\n",
    "    response_format=\"auto\",\n",
    "    tools=[{\"type\": \"code_interpreter\"}],\n",
    "    tool_resources=None,\n",
    ")\n",
    "\n",
    "# Print the details of the created assistant to check the properties.\n",
    "print(assistant)\n",
    "print(\"\\n\\n\")\n",
    "print(assistant.name)\n",
    "print(assistant.tools)"
   ]
  },
  {
   "cell_type": "code",
   "execution_count": null,
   "metadata": {},
   "outputs": [],
   "source": []
  }
 ],
 "metadata": {
  "kernelspec": {
   "display_name": "NormalProgramming",
   "language": "python",
   "name": "python3"
  },
  "language_info": {
   "codemirror_mode": {
    "name": "ipython",
    "version": 3
   },
   "file_extension": ".py",
   "mimetype": "text/x-python",
   "name": "python",
   "nbconvert_exporter": "python",
   "pygments_lexer": "ipython3",
   "version": "3.11.4"
  }
 },
 "nbformat": 4,
 "nbformat_minor": 2
}
