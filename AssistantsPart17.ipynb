{
 "cells": [
  {
   "cell_type": "markdown",
   "metadata": {},
   "source": [
    "# Part 17\n",
    "\n",
    "# Using Functions\n",
    "\n",
    "Universal code for the entire notebook"
   ]
  },
  {
   "cell_type": "code",
   "execution_count": 583,
   "metadata": {},
   "outputs": [],
   "source": [
    "# Uncomment the line below to make sure you have all the packages needed\n",
    "# %pip install -r requirements.txt"
   ]
  },
  {
   "cell_type": "code",
   "execution_count": 584,
   "metadata": {},
   "outputs": [],
   "source": [
    "# Standard library imports\n",
    "\n",
    "# Third-party library imports\n",
    "from openai import OpenAI  # Used for interacting with OpenAI's API\n",
    "from openai import AssistantEventHandler  # Used for handling events related to OpenAI assistants\n",
    "from typing_extensions import override  # Used for overriding methods in subclasses\n",
    "from IPython.display import display, Markdown, clear_output  # Used for displaying content in Jupyter Notebooks\n"
   ]
  },
  {
   "cell_type": "code",
   "execution_count": 585,
   "metadata": {},
   "outputs": [],
   "source": [
    "# Create an instance of the OpenAI class to interact with the API.\n",
    "# This assumes you have set the OPENAI_API_KEY environment variable.\n",
    "client = OpenAI() "
   ]
  },
  {
   "cell_type": "code",
   "execution_count": 586,
   "metadata": {},
   "outputs": [],
   "source": [
    "# Define the functions the assistant will call\n",
    "def get_current_temperature():\n",
    "    # Simulate getting the current temperature\n",
    "    return 57\n",
    "\n",
    "def get_rain_probability():\n",
    "    # Simulate getting the rain probability\n",
    "    return 0.06"
   ]
  },
  {
   "cell_type": "code",
   "execution_count": 587,
   "metadata": {},
   "outputs": [],
   "source": [
    "class EventHandler(AssistantEventHandler):\n",
    "    \"\"\"Custom event handler for processing assistant events.\"\"\"\n",
    "\n",
    "    def __init__(self):\n",
    "        super().__init__()\n",
    "        self.results = []  # Initialize an empty list to store the results\n",
    "\n",
    "    @override\n",
    "    def on_event(self, event):\n",
    "        # Retrieve events that are denoted with 'requires_action'\n",
    "        # since these will have our tool_calls\n",
    "        if event.event == 'thread.run.requires_action':\n",
    "            run_id = event.data.id  # Retrieve the run ID from the event data\n",
    "            self.handle_requires_action(event.data, run_id)\n",
    "    \n",
    "    def handle_requires_action(self, data, run_id):\n",
    "        tool_outputs = []\n",
    "            \n",
    "        for tool in data.required_action.submit_tool_outputs.tool_calls:\n",
    "            if tool.function.name == \"get_current_temperature\":\n",
    "                tool_outputs.append({\"tool_call_id\": tool.id, \"output\": str(get_current_temperature)})\n",
    "            elif tool.function.name == \"get_rain_probability\":\n",
    "                tool_outputs.append({\"tool_call_id\": tool.id, \"output\": str(get_rain_probability)})\n",
    "        # Submit all tool_outputs at the same time\n",
    "        self.submit_tool_outputs(tool_outputs, run_id)\n",
    "        \n",
    "    def submit_tool_outputs(self, tool_outputs, run_id):\n",
    "        # Use the submit_tool_outputs_stream helper\n",
    "        with client.beta.threads.runs.submit_tool_outputs_stream(\n",
    "            thread_id=self.current_run.thread_id,\n",
    "            run_id=self.current_run.id,\n",
    "            tool_outputs=tool_outputs,\n",
    "            event_handler=EventHandler(),\n",
    "        ) as stream:\n",
    "            for text in stream.text_deltas:\n",
    "                print(text, end=\"\", flush=True)\n",
    "        \n",
    "    @override\n",
    "    def on_text_delta(self, delta, snapshot):\n",
    "        \"\"\"Handle the event when there is a text delta (partial text).\"\"\"\n",
    "        # Append the delta value (partial text) to the results list\n",
    "        self.results.append(delta.value)\n",
    "        # Call the method to update the Jupyter Notebook cell\n",
    "        self.update_output()\n",
    "\n",
    "    def update_output(self):\n",
    "        \"\"\"Update the Jupyter Notebook cell with the current markdown content.\"\"\"\n",
    "        # Clear the current output in the Jupyter Notebook cell\n",
    "        clear_output(wait=True)\n",
    "        # Join all the text fragments stored in results to form the complete markdown content\n",
    "        markdown_content = \"\".join(self.results)\n",
    "        # Display the markdown content in the Jupyter Notebook cell\n",
    "        display(Markdown(markdown_content))"
   ]
  },
  {
   "cell_type": "code",
   "execution_count": 588,
   "metadata": {},
   "outputs": [],
   "source": [
    "\n",
    "assistant = client.beta.assistants.create(\n",
    "    instructions=\"You are a weather bot. Use the provided functions to answer questions.\",\n",
    "    model=\"gpt-4o\",\n",
    "    tools=[\n",
    "    {\n",
    "        \"type\": \"function\",\n",
    "        \"function\": {\n",
    "            \"name\": \"get_current_temperature\",\n",
    "            \"description\": \"Get the current temperature for a specific location\",\n",
    "            \"parameters\": {\n",
    "            \"type\": \"object\",\n",
    "            \"properties\": {\n",
    "                \"location\": {\n",
    "                \"type\": \"string\",\n",
    "                \"description\": \"The city and state, e.g., San Francisco, CA\"\n",
    "                },\n",
    "                \"unit\": {\n",
    "                \"type\": \"string\",\n",
    "                \"enum\": [\"Celsius\", \"Fahrenheit\"],\n",
    "                \"description\": \"The temperature unit to use. Infer this from the user's location.\"\n",
    "                }\n",
    "            },\n",
    "            \"required\": [\"location\", \"unit\"]\n",
    "            }\n",
    "        }\n",
    "        },\n",
    "        {\n",
    "        \"type\": \"function\",\n",
    "        \"function\": {\n",
    "            \"name\": \"get_rain_probability\",\n",
    "            \"description\": \"Get the probability of rain for a specific location\",\n",
    "            \"parameters\": {\n",
    "            \"type\": \"object\",\n",
    "            \"properties\": {\n",
    "                \"location\": {\n",
    "                \"type\": \"string\",\n",
    "                \"description\": \"The city and state, e.g., San Francisco, CA\"\n",
    "                }\n",
    "            },\n",
    "            \"required\": [\"location\"]\n",
    "            }\n",
    "        }\n",
    "        }\n",
    "    ]\n",
    ")\n"
   ]
  },
  {
   "cell_type": "code",
   "execution_count": 589,
   "metadata": {},
   "outputs": [],
   "source": [
    "thread = client.beta.threads.create()\n",
    "message = client.beta.threads.messages.create(\n",
    "    thread_id=thread.id,\n",
    "    role=\"user\",\n",
    "    content=\"What's the weather in San Francisco today and the likelihood it will rain? Give me the results in a little table\",\n",
    ")"
   ]
  },
  {
   "cell_type": "code",
   "execution_count": 590,
   "metadata": {},
   "outputs": [
    {
     "data": {
      "text/markdown": [
       "| Weather Information  | Value                |\n",
       "|----------------------|----------------------|\n",
       "| Current Temperature  | 64°F                 |\n",
       "| Probability of Rain  | 10%                  |"
      ],
      "text/plain": [
       "<IPython.core.display.Markdown object>"
      ]
     },
     "metadata": {},
     "output_type": "display_data"
    },
    {
     "name": "stdout",
     "output_type": "stream",
     "text": [
      " |"
     ]
    }
   ],
   "source": [
    "with client.beta.threads.runs.stream(\n",
    "    thread_id=thread.id,\n",
    "    assistant_id=assistant.id,\n",
    "    event_handler=EventHandler()\n",
    "    ) as stream:\n",
    "    stream.until_done()"
   ]
  },
  {
   "cell_type": "code",
   "execution_count": 591,
   "metadata": {},
   "outputs": [
    {
     "name": "stdout",
     "output_type": "stream",
     "text": [
      "The temperature in New York, New York is 75°F\n"
     ]
    }
   ],
   "source": [
    "import requests\n",
    "\n",
    "def get_lat_lon(city_name, state_name=None):\n",
    "    if state_name:\n",
    "        location = f\"{city_name},{state_name}\"\n",
    "    else:\n",
    "        location = city_name\n",
    "    \n",
    "    geocode_url = f\"https://geocode.xyz/{location}?json=1\"\n",
    "    response = requests.get(geocode_url)\n",
    "    \n",
    "    if response.status_code == 200:\n",
    "        data = response.json()\n",
    "        if 'latt' in data and 'longt' in data:\n",
    "            return float(data['latt']), float(data['longt'])\n",
    "        else:\n",
    "            print(\"Error: Could not find latitude and longitude for the location.\")\n",
    "            return None, None\n",
    "    else:\n",
    "        print(\"Error: Geocoding request failed.\")\n",
    "        return None, None\n",
    "\n",
    "def get_weather_forecast(lat, lon):\n",
    "    points_url = f\"https://api.weather.gov/points/{lat},{lon}\"\n",
    "    response = requests.get(points_url, headers={'User-Agent': 'MyWeatherApp (contact@example.com)'})\n",
    "    \n",
    "    if response.status_code == 200:\n",
    "        data = response.json()\n",
    "        forecast_url = data['properties']['forecast']\n",
    "        \n",
    "        forecast_response = requests.get(forecast_url, headers={'User-Agent': 'MyWeatherApp (contact@example.com)'})\n",
    "        if forecast_response.status_code == 200:\n",
    "            forecast_data = forecast_response.json()\n",
    "            return forecast_data['properties']['periods'][0]['temperature']\n",
    "        else:\n",
    "            print(\"Error: Forecast request failed.\")\n",
    "            return None\n",
    "    else:\n",
    "        print(\"Error: Points request failed.\")\n",
    "        return None\n",
    "\n",
    "def get_temperature(city_name, state_name=None):\n",
    "    lat, lon = get_lat_lon(city_name, state_name)\n",
    "    if lat is not None and lon is not None:\n",
    "        temperature = get_weather_forecast(lat, lon)\n",
    "        return temperature\n",
    "    else:\n",
    "        return None\n",
    "\n",
    "# Example usage:\n",
    "city_name = \"New York\"\n",
    "state_name = \"New York\"\n",
    "temperature = get_temperature(city_name, state_name)\n",
    "\n",
    "if temperature is not None:\n",
    "    print(f\"The temperature in {city_name}, {state_name} is {temperature}°F\")\n",
    "else:\n",
    "    print(f\"Could not get the temperature for {city_name}, {state_name}\")\n"
   ]
  },
  {
   "cell_type": "code",
   "execution_count": 608,
   "metadata": {},
   "outputs": [],
   "source": [
    "class EventHandler(AssistantEventHandler):\n",
    "    \"\"\"Custom event handler for processing assistant events.\"\"\"\n",
    "\n",
    "    def __init__(self):\n",
    "        super().__init__()\n",
    "        self.results = []  # Initialize an empty list to store the results\n",
    "\n",
    "    @override\n",
    "    def on_event(self, event):\n",
    "        # Retrieve events that are denoted with 'requires_action'\n",
    "        # since these will have our tool_calls\n",
    "        if event.event == 'thread.run.requires_action':\n",
    "            run_id = event.data.id  # Retrieve the run ID from the event data\n",
    "            self.handle_requires_action(event.data, run_id)\n",
    "    \n",
    "    def handle_requires_action(self, data, run_id):\n",
    "        tool_outputs = []\n",
    "            \n",
    "        for tool in data.required_action.submit_tool_outputs.tool_calls:\n",
    "            if tool.function.name == \"get_temperature\":\n",
    "                tool_outputs.append({\"tool_call_id\": tool.id, \"output\": str(get_temperature)})\n",
    "        # Submit all tool_outputs at the same time\n",
    "        self.submit_tool_outputs(tool_outputs, run_id)\n",
    "        \n",
    "    def submit_tool_outputs(self, tool_outputs, run_id):\n",
    "        # Use the submit_tool_outputs_stream helper\n",
    "        with client.beta.threads.runs.submit_tool_outputs_stream(\n",
    "            thread_id=self.current_run.thread_id,\n",
    "            run_id=self.current_run.id,\n",
    "            tool_outputs=tool_outputs,\n",
    "            event_handler=EventHandler(),\n",
    "        ) as stream:\n",
    "            for text in stream.text_deltas:\n",
    "                print(text, end=\"\", flush=True)\n",
    "        \n",
    "    @override\n",
    "    def on_text_delta(self, delta, snapshot):\n",
    "        \"\"\"Handle the event when there is a text delta (partial text).\"\"\"\n",
    "        # Append the delta value (partial text) to the results list\n",
    "        self.results.append(delta.value)\n",
    "        # Call the method to update the Jupyter Notebook cell\n",
    "        self.update_output()\n",
    "\n",
    "    def update_output(self):\n",
    "        \"\"\"Update the Jupyter Notebook cell with the current markdown content.\"\"\"\n",
    "        # Clear the current output in the Jupyter Notebook cell\n",
    "        clear_output(wait=True)\n",
    "        # Join all the text fragments stored in results to form the complete markdown content\n",
    "        markdown_content = \"\".join(self.results)\n",
    "        # Display the markdown content in the Jupyter Notebook cell\n",
    "        display(Markdown(markdown_content))"
   ]
  },
  {
   "cell_type": "code",
   "execution_count": 609,
   "metadata": {},
   "outputs": [],
   "source": [
    "current_temperature_assistant = client.beta.assistants.create(\n",
    "    instructions=\"You are a weather bot. To get the temperature, use the get_temperature function.\",\n",
    "    model=\"gpt-4o\",\n",
    "    tools=[\n",
    "    {\n",
    "        \"type\": \"function\",\n",
    "        \"function\": {\n",
    "            \"name\": \"get_temperature\",\n",
    "            \"description\": \"Get the current temperature for a specific location.\",\n",
    "            \"parameters\": {\n",
    "            \"type\": \"object\",\n",
    "            \"properties\": {\n",
    "                \"city_name\": {\n",
    "                \"type\": \"string\",\n",
    "                \"description\": \"The city (e.g. San Francisco)\"\n",
    "                },\n",
    "                \"state_name\": {\n",
    "                \"type\": \"string\",\n",
    "                \"description\": \"The state related to the city (e.g. CA)\"\n",
    "                },\n",
    "            },\n",
    "            \"required\": [\"city_name\"]\n",
    "            }\n",
    "        }\n",
    "        },\n",
    "        \n",
    "    ]\n",
    ")"
   ]
  },
  {
   "cell_type": "code",
   "execution_count": 610,
   "metadata": {},
   "outputs": [],
   "source": [
    "current_temperature_thread = client.beta.threads.create()\n",
    "current_temperature_message = client.beta.threads.messages.create(\n",
    "    thread_id=current_temperature_thread.id,\n",
    "    role=\"user\",\n",
    "    content=\"What's the weather in New York, NY today? Give me the result in a little table.\",\n",
    ")"
   ]
  },
  {
   "cell_type": "code",
   "execution_count": 611,
   "metadata": {},
   "outputs": [
    {
     "data": {
      "text/markdown": [
       "I am currently unable to retrieve the weather information. Please try again later or check a reliable weather website or app for the current conditions in New York, NY."
      ],
      "text/plain": [
       "<IPython.core.display.Markdown object>"
      ]
     },
     "metadata": {},
     "output_type": "display_data"
    },
    {
     "name": "stdout",
     "output_type": "stream",
     "text": [
      "."
     ]
    }
   ],
   "source": [
    "with client.beta.threads.runs.stream(\n",
    "    thread_id=current_temperature_thread.id,\n",
    "    assistant_id=current_temperature_assistant.id,\n",
    "    event_handler=EventHandler()\n",
    "    ) as stream:\n",
    "    stream.until_done()"
   ]
  }
 ],
 "metadata": {
  "kernelspec": {
   "display_name": "NormalProgramming",
   "language": "python",
   "name": "python3"
  },
  "language_info": {
   "codemirror_mode": {
    "name": "ipython",
    "version": 3
   },
   "file_extension": ".py",
   "mimetype": "text/x-python",
   "name": "python",
   "nbconvert_exporter": "python",
   "pygments_lexer": "ipython3",
   "version": "3.11.4"
  }
 },
 "nbformat": 4,
 "nbformat_minor": 2
}
