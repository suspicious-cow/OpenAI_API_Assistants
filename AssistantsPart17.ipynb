{
 "cells": [
  {
   "cell_type": "markdown",
   "metadata": {},
   "source": [
    "# Part 17\n",
    "\n",
    "# Using Functions\n",
    "\n",
    "Universal code for the entire notebook"
   ]
  },
  {
   "cell_type": "code",
   "execution_count": 428,
   "metadata": {},
   "outputs": [],
   "source": [
    "# Uncomment the line below to make sure you have all the packages needed\n",
    "# %pip install -r requirements.txt"
   ]
  },
  {
   "cell_type": "code",
   "execution_count": 429,
   "metadata": {},
   "outputs": [],
   "source": [
    "# Standard library imports\n",
    "\n",
    "# Third-party library imports\n",
    "from openai import OpenAI  # Used for interacting with OpenAI's API\n",
    "from openai import AssistantEventHandler  # Used for handling events related to OpenAI assistants\n",
    "from typing_extensions import override  # Used for overriding methods in subclasses\n",
    "from IPython.display import display, Markdown, clear_output  # Used for displaying content in Jupyter Notebooks\n"
   ]
  },
  {
   "cell_type": "code",
   "execution_count": 430,
   "metadata": {},
   "outputs": [],
   "source": [
    "# Create an instance of the OpenAI class to interact with the API.\n",
    "# This assumes you have set the OPENAI_API_KEY environment variable.\n",
    "client = OpenAI() "
   ]
  },
  {
   "cell_type": "code",
   "execution_count": 431,
   "metadata": {},
   "outputs": [],
   "source": [
    "# Define the functions the assistant will call\n",
    "def get_current_temperature():\n",
    "    # Simulate getting the current temperature\n",
    "    return 57\n",
    "\n",
    "def get_rain_probability():\n",
    "    # Simulate getting the rain probability\n",
    "    return 0.06"
   ]
  },
  {
   "cell_type": "code",
   "execution_count": 432,
   "metadata": {},
   "outputs": [],
   "source": [
    "class EventHandler(AssistantEventHandler):\n",
    "    \"\"\"Custom event handler for processing assistant events.\"\"\"\n",
    "\n",
    "    def __init__(self):\n",
    "        super().__init__()\n",
    "        self.results = []  # Initialize an empty list to store the results\n",
    "\n",
    "    @override\n",
    "    def on_event(self, event):\n",
    "        # Retrieve events that are denoted with 'requires_action'\n",
    "        # since these will have our tool_calls\n",
    "        if event.event == 'thread.run.requires_action':\n",
    "            run_id = event.data.id  # Retrieve the run ID from the event data\n",
    "            self.handle_requires_action(event.data, run_id)\n",
    "    \n",
    "    def handle_requires_action(self, data, run_id):\n",
    "        tool_outputs = []\n",
    "            \n",
    "        for tool in data.required_action.submit_tool_outputs.tool_calls:\n",
    "            if tool.function.name == \"get_current_temperature\":\n",
    "                tool_outputs.append({\"tool_call_id\": tool.id, \"output\": str(get_current_temperature)})\n",
    "            elif tool.function.name == \"get_rain_probability\":\n",
    "                tool_outputs.append({\"tool_call_id\": tool.id, \"output\": str(get_rain_probability)})\n",
    "        # Submit all tool_outputs at the same time\n",
    "        self.submit_tool_outputs(tool_outputs, run_id)\n",
    "        \n",
    "    def submit_tool_outputs(self, tool_outputs, run_id):\n",
    "        # Use the submit_tool_outputs_stream helper\n",
    "        with client.beta.threads.runs.submit_tool_outputs_stream(\n",
    "            thread_id=self.current_run.thread_id,\n",
    "            run_id=self.current_run.id,\n",
    "            tool_outputs=tool_outputs,\n",
    "            event_handler=EventHandler(),\n",
    "        ) as stream:\n",
    "            for text in stream.text_deltas:\n",
    "                print(text, end=\"\", flush=True)\n",
    "        \n",
    "    @override\n",
    "    def on_text_delta(self, delta, snapshot):\n",
    "        \"\"\"Handle the event when there is a text delta (partial text).\"\"\"\n",
    "        # Append the delta value (partial text) to the results list\n",
    "        self.results.append(delta.value)\n",
    "        # Call the method to update the Jupyter Notebook cell\n",
    "        self.update_output()\n",
    "\n",
    "    def update_output(self):\n",
    "        \"\"\"Update the Jupyter Notebook cell with the current markdown content.\"\"\"\n",
    "        # Clear the current output in the Jupyter Notebook cell\n",
    "        clear_output(wait=True)\n",
    "        # Join all the text fragments stored in results to form the complete markdown content\n",
    "        markdown_content = \"\".join(self.results)\n",
    "        # Display the markdown content in the Jupyter Notebook cell\n",
    "        display(Markdown(markdown_content))"
   ]
  },
  {
   "cell_type": "code",
   "execution_count": 433,
   "metadata": {},
   "outputs": [],
   "source": [
    "\n",
    "assistant = client.beta.assistants.create(\n",
    "    instructions=\"You are a weather bot. Use the provided functions to answer questions.\",\n",
    "    model=\"gpt-4o\",\n",
    "    tools=[\n",
    "    {\n",
    "        \"type\": \"function\",\n",
    "        \"function\": {\n",
    "            \"name\": \"get_current_temperature\",\n",
    "            \"description\": \"Get the current temperature for a specific location\",\n",
    "            \"parameters\": {\n",
    "            \"type\": \"object\",\n",
    "            \"properties\": {\n",
    "                \"location\": {\n",
    "                \"type\": \"string\",\n",
    "                \"description\": \"The city and state, e.g., San Francisco, CA\"\n",
    "                },\n",
    "                \"unit\": {\n",
    "                \"type\": \"string\",\n",
    "                \"enum\": [\"Celsius\", \"Fahrenheit\"],\n",
    "                \"description\": \"The temperature unit to use. Infer this from the user's location.\"\n",
    "                }\n",
    "            },\n",
    "            \"required\": [\"location\", \"unit\"]\n",
    "            }\n",
    "        }\n",
    "        },\n",
    "        {\n",
    "        \"type\": \"function\",\n",
    "        \"function\": {\n",
    "            \"name\": \"get_rain_probability\",\n",
    "            \"description\": \"Get the probability of rain for a specific location\",\n",
    "            \"parameters\": {\n",
    "            \"type\": \"object\",\n",
    "            \"properties\": {\n",
    "                \"location\": {\n",
    "                \"type\": \"string\",\n",
    "                \"description\": \"The city and state, e.g., San Francisco, CA\"\n",
    "                }\n",
    "            },\n",
    "            \"required\": [\"location\"]\n",
    "            }\n",
    "        }\n",
    "        }\n",
    "    ]\n",
    ")\n"
   ]
  },
  {
   "cell_type": "code",
   "execution_count": 434,
   "metadata": {},
   "outputs": [],
   "source": [
    "thread = client.beta.threads.create()\n",
    "message = client.beta.threads.messages.create(\n",
    "    thread_id=thread.id,\n",
    "    role=\"user\",\n",
    "    content=\"What's the weather in San Francisco today and the likelihood it'll rain?\",\n",
    ")"
   ]
  },
  {
   "cell_type": "code",
   "execution_count": 435,
   "metadata": {},
   "outputs": [
    {
     "data": {
      "text/markdown": [
       "The current temperature in San Francisco, CA is 65°F. There's a 10% chance of rain."
      ],
      "text/plain": [
       "<IPython.core.display.Markdown object>"
      ]
     },
     "metadata": {},
     "output_type": "display_data"
    },
    {
     "name": "stdout",
     "output_type": "stream",
     "text": [
      "."
     ]
    }
   ],
   "source": [
    "with client.beta.threads.runs.stream(\n",
    "    thread_id=thread.id,\n",
    "    assistant_id=assistant.id,\n",
    "    event_handler=EventHandler()\n",
    "    ) as stream:\n",
    "    stream.until_done()"
   ]
  }
 ],
 "metadata": {
  "kernelspec": {
   "display_name": "NormalProgramming",
   "language": "python",
   "name": "python3"
  },
  "language_info": {
   "codemirror_mode": {
    "name": "ipython",
    "version": 3
   },
   "file_extension": ".py",
   "mimetype": "text/x-python",
   "name": "python",
   "nbconvert_exporter": "python",
   "pygments_lexer": "ipython3",
   "version": "3.11.4"
  }
 },
 "nbformat": 4,
 "nbformat_minor": 2
}
