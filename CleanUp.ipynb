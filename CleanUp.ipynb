{
 "cells": [
  {
   "cell_type": "markdown",
   "metadata": {},
   "source": [
    "**Cleaning Up Our Assistants**\n",
    "\n",
    "Uncomment and run the below code if you want to delete ALL your Assistants. \n",
    "\n",
    "WARNING: THIS WILL DELETE ALL YOUR ASSISTANTS\n",
    "\n",
    "SERIOUSLY\n",
    "\n",
    "NOT KIDDING\n",
    "\n",
    "GONE!\n",
    "\n",
    "YOU BETTER BE SURE"
   ]
  },
  {
   "cell_type": "code",
   "execution_count": 1,
   "metadata": {},
   "outputs": [],
   "source": [
    "# Import the OpenAI library to use its API functionalities\n",
    "from openai import OpenAI"
   ]
  },
  {
   "cell_type": "code",
   "execution_count": 2,
   "metadata": {},
   "outputs": [],
   "source": [
    "# Create an instance of the OpenAI class for API interactions\n",
    "client = OpenAI()"
   ]
  },
  {
   "cell_type": "code",
   "execution_count": null,
   "metadata": {},
   "outputs": [],
   "source": [
    "# Let's get a list of Assistants so we can be sure we want to blow them away\n",
    "\n",
    "# List all the assistants available under the current OpenAI account\n",
    "my_assistants = client.beta.assistants.list()\n",
    "\n",
    "# Print the number of assistants retrieved\n",
    "print(\"Number of Assistants: \" + str(len(my_assistants.data)))\n",
    "print(\"\\n\")\n",
    "\n",
    "# Iterate through each assistant object in the data list\n",
    "for assistant in my_assistants.data:\n",
    "    # Print the unique identifier of the assistant\n",
    "    print(assistant.id)\n",
    "    # Print the name of the assistant\n",
    "    print(assistant.name)\n",
    "    # Print a newline for better readability between entries\n",
    "    print(\"\\n\")"
   ]
  },
  {
   "cell_type": "code",
   "execution_count": 3,
   "metadata": {},
   "outputs": [
    {
     "name": "stdout",
     "output_type": "stream",
     "text": [
      "Deleted assistant: Quick Assistant and Vector Store at Once (ID: asst_K1YmBpynyKEG5zzCWji4YKYv)\n",
      "Deleted assistant: File Search Demo Assistant - Stories (ID: asst_yvMUQfoEI8NusqiITP5Qw9SS)\n",
      "Deleted assistant: Quick Assistant and Vector Store at Once (ID: asst_QP4LzCybuvmAOGWpnPMlenvj)\n",
      "Deleted assistant: File Search Demo Assistant - Stories (ID: asst_iT8dCjSpMaGPO3hMzJpAZiG1)\n",
      "Deleted assistant: Quick Assistant and Vector Store at Once (ID: asst_O2hLnRZBLiEjhMVpsBFccDHf)\n",
      "Deleted assistant: File Search Demo Assistant - Stories (ID: asst_z954Cy4G50645CBbvgK0pWKm)\n",
      "Deleted assistant: Quick Assistant and Vector Store at Once (ID: asst_5wcEdIAEJKXFldAUGi3Q8YZ3)\n",
      "Deleted assistant: Quick Assistant and Vector Store at Once (ID: asst_MyFGfY8orlujqddpZC7PPsgQ)\n",
      "Deleted assistant: Quick Assistant and Vector Store at Once (ID: asst_TNXYWyPLuxcdds3AZQ9Aw2za)\n",
      "Deleted assistant: Quick Assistant and Vector Store at Once (ID: asst_STYZ0WBt0e4SI6CMXWEchFih)\n",
      "Deleted assistant: Quick Assistant and Vector Store at Once (ID: asst_kZVZM1dOeMj5WwegTXPpyrY5)\n",
      "Deleted assistant: Quick Assistant and Vector Store at Once (ID: asst_m3ipIaYMmhqTvD2rWkIGHNAl)\n",
      "Deleted assistant: Quick Assistant and Vector Store at Once (ID: asst_QffJ5VmLLapu0vfYyOMIQfo8)\n",
      "Deleted assistant: Quick Assistant and Vector Store at Once (ID: asst_LIVKLFsKTKqCS3B87AswB1sv)\n",
      "Deleted assistant: Quick Assistant and Vector Store at Once (ID: asst_heVxQSZXGwmtB0snwnOZbE3Q)\n",
      "Deleted assistant: Quick Assistant and Vector Store at Once (ID: asst_JaV4r5RDvqmp1etMZJTr6tuc)\n",
      "Deleted assistant: Quick Assistant and Vector Store at Once (ID: asst_n00NtFOXgMA6H43pRg03L6Ft)\n",
      "Deleted assistant: Quick Assistant and Vector Store at Once (ID: asst_qyuyhCP5kYmaHVZgtR9hKRFu)\n",
      "Deleted assistant: Quick Assistant and Vector Store at Once (ID: asst_SzSqGFrSBwMAc9rMScuV5l8o)\n",
      "Deleted assistant: Quick Assistant and Vector Store at Once (ID: asst_Sn1RCFnQdA5vAlY5UHHcXKwy)\n",
      "Deleted assistant: Quick Assistant and Vector Store at Once (ID: asst_rsUXhPtx4jZK5hoysqIwPRwa)\n",
      "Deleted assistant: JSON Converter (ID: asst_6x6q74xR0Cb8uWtEKAaaCbxJ)\n",
      "No more assistants to delete.\n"
     ]
    }
   ],
   "source": [
    "# This code WILL DELETE ONE PAGE ASSISTANTS if you uncomment it AND run it\n",
    "# while True:\n",
    "#     # List all assistants\n",
    "#     my_assistants = client.beta.assistants.list(limit=100)\n",
    "#     if not my_assistants.data:\n",
    "#         print(\"No more assistants to delete.\")\n",
    "#         break\n",
    "\n",
    "#     # Delete each assistant in the list\n",
    "#     for assistant in my_assistants.data:\n",
    "#         client.beta.assistants.delete(assistant.id)\n",
    "#         print(f\"Deleted assistant: {assistant.name} (ID: {assistant.id})\")"
   ]
  },
  {
   "cell_type": "code",
   "execution_count": null,
   "metadata": {},
   "outputs": [],
   "source": [
    "# List all the assistants available under the current OpenAI account\n",
    "my_assistants = client.beta.assistants.list()\n",
    "\n",
    "# Print the number of assistants retrieved\n",
    "print(\"Number of Assistants: \" + str(len(my_assistants.data)))\n",
    "print(\"\\n\")\n",
    "\n",
    "# Iterate through each assistant object in the data list\n",
    "for assistant in my_assistants.data:\n",
    "    # Print the unique identifier of the assistant\n",
    "    print(assistant.id)\n",
    "    # Print the name of the assistant\n",
    "    print(assistant.name)\n",
    "    # Print a newline for better readability between entries\n",
    "    print(\"\\n\")"
   ]
  },
  {
   "cell_type": "markdown",
   "metadata": {},
   "source": [
    "**Cleaning Up Our Files**\n",
    "\n",
    "Uncomment and run the below code if you want to delete ALL your Files from the OpenAI API Storage \n",
    "\n",
    "WARNING: THIS WILL DELETE ALL YOUR FILES\n",
    "\n",
    "SERIOUSLY\n",
    "\n",
    "NOT KIDDING\n",
    "\n",
    "GONE!\n",
    "\n",
    "YOU BETTER BE SURE"
   ]
  },
  {
   "cell_type": "code",
   "execution_count": 5,
   "metadata": {},
   "outputs": [
    {
     "name": "stdout",
     "output_type": "stream",
     "text": [
      "Number of Files: 7\n",
      "\n",
      "\n",
      "file-yLvx4ymACUqQ7DwfwmcdOsNl\n",
      "War_of_the_Worlds.txt\n",
      "\n",
      "\n",
      "file-vefvxqdcm2odAmYN9bBOTjiS\n",
      "The_Veldt.pdf\n",
      "\n",
      "\n",
      "file-rB2D4Qcy3QBHhYCIhZiEH6st\n",
      "I_Am_Legend.pdf\n",
      "\n",
      "\n",
      "file-EJecfCFkiHefsYQOJO7FOb8I\n",
      "Frankenstein.pdf\n",
      "\n",
      "\n",
      "file-fHR8COgusTxv2fy5paVHJmWW\n",
      "Dracula.pdf\n",
      "\n",
      "\n",
      "file-ZN71rhzhlvLQWiU5ZWEf3WP0\n",
      "Alice_in_Wonderland.pdf\n",
      "\n",
      "\n",
      "file-UY7uzH3SMK0ALbwQeRk5OE0i\n",
      "The_Wonderful_Wizard_of_Oz.txt\n",
      "\n",
      "\n"
     ]
    }
   ],
   "source": [
    "# List all the files available under the current OpenAI account\n",
    "my_files = client.files.list()\n",
    "\n",
    "# Print the number of files retrieved\n",
    "print(\"Number of Files: \" + str(len(my_files.data)))\n",
    "print(\"\\n\")\n",
    "\n",
    "# Iterate through each file object in the data list\n",
    "for file in my_files.data:\n",
    "    # Print the unique identifier of the file\n",
    "    print(file.id)\n",
    "    # Print the name of the file\n",
    "    print(file.filename)\n",
    "    # Print a newline for better readability between entries\n",
    "    print(\"\\n\")\n"
   ]
  },
  {
   "cell_type": "code",
   "execution_count": 6,
   "metadata": {},
   "outputs": [
    {
     "name": "stdout",
     "output_type": "stream",
     "text": [
      "Deleted file id: file-yLvx4ymACUqQ7DwfwmcdOsNl\n",
      "Deleted file name: War_of_the_Worlds.txt\n",
      "\n",
      "\n",
      "Deleted file id: file-vefvxqdcm2odAmYN9bBOTjiS\n",
      "Deleted file name: The_Veldt.pdf\n",
      "\n",
      "\n",
      "Deleted file id: file-rB2D4Qcy3QBHhYCIhZiEH6st\n",
      "Deleted file name: I_Am_Legend.pdf\n",
      "\n",
      "\n",
      "Deleted file id: file-EJecfCFkiHefsYQOJO7FOb8I\n",
      "Deleted file name: Frankenstein.pdf\n",
      "\n",
      "\n",
      "Deleted file id: file-fHR8COgusTxv2fy5paVHJmWW\n",
      "Deleted file name: Dracula.pdf\n",
      "\n",
      "\n",
      "Deleted file id: file-ZN71rhzhlvLQWiU5ZWEf3WP0\n",
      "Deleted file name: Alice_in_Wonderland.pdf\n",
      "\n",
      "\n",
      "Deleted file id: file-UY7uzH3SMK0ALbwQeRk5OE0i\n",
      "Deleted file name: The_Wonderful_Wizard_of_Oz.txt\n",
      "\n",
      "\n"
     ]
    }
   ],
   "source": [
    "# This code WILL DELETE ALL FILES if you uncomment it AND run it\n",
    "# for file in my_files.data:\n",
    "#     client.files.delete(file.id)\n",
    "#     print(\"Deleted file id: \" + file.id)\n",
    "#     print(\"Deleted file name: \" + file.filename)\n",
    "#     print(\"\\n\")"
   ]
  },
  {
   "cell_type": "code",
   "execution_count": null,
   "metadata": {},
   "outputs": [],
   "source": [
    "# List all the files again to make sure they are gone\n",
    "my_files = client.files.list()\n",
    "\n",
    "# Print the number of files retrieved\n",
    "print(\"Number of Files: \" + str(len(my_files.data)))\n",
    "print(\"\\n\")\n",
    "\n",
    "# Iterate through each file object in the data list\n",
    "for file in my_files.data:\n",
    "    # Print the unique identifier of the file\n",
    "    print(file.id)\n",
    "    # Print the name of the file\n",
    "    print(file.filename)\n",
    "    # Print a newline for better readability between entries\n",
    "    print(\"\\n\")"
   ]
  },
  {
   "cell_type": "markdown",
   "metadata": {},
   "source": [
    "**Cleaning Up Our Vector Stores**\n",
    "\n",
    "Uncomment and run the below code if you want to delete ALL your Vector Stores from the OpenAI API Storage \n",
    "\n",
    "WARNING: THIS WILL DELETE ALL YOUR VECTOR STORES\n",
    "\n",
    "SERIOUSLY\n",
    "\n",
    "NOT KIDDING\n",
    "\n",
    "GONE!\n",
    "\n",
    "YOU BETTER BE SURE"
   ]
  },
  {
   "cell_type": "code",
   "execution_count": 10,
   "metadata": {},
   "outputs": [
    {
     "name": "stdout",
     "output_type": "stream",
     "text": [
      "Number of Vector Stores: 3\n",
      "\n",
      "\n",
      "vs_UJHfkOTWcnuHd1MFMlQhcF8F\n",
      "None\n",
      "\n",
      "\n",
      "vs_CWOoi3og998iGaUat85hLOol\n",
      "None\n",
      "\n",
      "\n",
      "vs_pNAfDuyGKVmllX2o5tCYhhax\n",
      "Great Fiction Stories\n",
      "\n",
      "\n"
     ]
    }
   ],
   "source": [
    "# List all the vector stores available under the current OpenAI account\n",
    "my_vector_stores = client.beta.vector_stores.list()\n",
    "\n",
    "# Print the number of vector stores retrieved\n",
    "print(\"Number of Vector Stores: \" + str(len(my_vector_stores.data)))\n",
    "print(\"\\n\")\n",
    "\n",
    "# Iterate through each vector stores object in the data list\n",
    "for vector_store in my_vector_stores.data:\n",
    "    # Print the unique identifier of the vector stores\n",
    "    print(vector_store.id)\n",
    "    # Print the name of the vector stores\n",
    "    print(vector_store.name)\n",
    "    # Print a newline for better readability between entries\n",
    "    print(\"\\n\")"
   ]
  },
  {
   "cell_type": "code",
   "execution_count": 11,
   "metadata": {},
   "outputs": [
    {
     "name": "stdout",
     "output_type": "stream",
     "text": [
      "Deleted vector store id: vs_UJHfkOTWcnuHd1MFMlQhcF8F\n",
      "Deleted vector store name: None\n",
      "\n",
      "\n",
      "Deleted vector store id: vs_CWOoi3og998iGaUat85hLOol\n",
      "Deleted vector store name: None\n",
      "\n",
      "\n",
      "Deleted vector store id: vs_pNAfDuyGKVmllX2o5tCYhhax\n",
      "Deleted vector store name: Great Fiction Stories\n",
      "\n",
      "\n"
     ]
    }
   ],
   "source": [
    "# This code WILL DELETE ALL VECTOR STORES if you uncomment it AND run it\n",
    "# for vector_store in my_vector_stores.data:\n",
    "#     client.beta.vector_stores.delete(vector_store.id)\n",
    "#     print(\"Deleted vector store id: \" + vector_store.id)\n",
    "#     print(\"Deleted vector store name: \" + str(vector_store.name))\n",
    "#     print(\"\\n\")"
   ]
  },
  {
   "cell_type": "code",
   "execution_count": null,
   "metadata": {},
   "outputs": [],
   "source": [
    "# List all the vector stores again to make sure they are gone\n",
    "my_vector_stores = client.beta.vector_stores.list()\n",
    "\n",
    "# Print the number of vector stores retrieved\n",
    "print(\"Number of Vector Stores: \" + str(len(my_vector_stores.data)))\n",
    "print(\"\\n\")\n",
    "\n",
    "# Iterate through each vector stores object in the data list\n",
    "for vector_store in my_vector_stores.data:\n",
    "    # Print the unique identifier of the vector stores\n",
    "    print(vector_store.id)\n",
    "    # Print the name of the vector stores\n",
    "    print(vector_store.name)\n",
    "    # Print a newline for better readability between entries\n",
    "    print(\"\\n\")"
   ]
  }
 ],
 "metadata": {
  "kernelspec": {
   "display_name": "NormalProgramming",
   "language": "python",
   "name": "python3"
  },
  "language_info": {
   "codemirror_mode": {
    "name": "ipython",
    "version": 3
   },
   "file_extension": ".py",
   "mimetype": "text/x-python",
   "name": "python",
   "nbconvert_exporter": "python",
   "pygments_lexer": "ipython3",
   "version": "3.11.4"
  }
 },
 "nbformat": 4,
 "nbformat_minor": 2
}
