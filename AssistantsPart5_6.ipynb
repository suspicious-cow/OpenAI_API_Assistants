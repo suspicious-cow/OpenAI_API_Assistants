{
 "cells": [
  {
   "cell_type": "markdown",
   "metadata": {},
   "source": [
    "# Part 5\n",
    "# Creating and Managing Messages\n",
    "An Assistant represents an entity that can be configured to respond to a user's messages using several parameters like model, instructions, and tools. \n",
    "\n",
    "A Thread represents a conversation between a user and one or many Assistants. You can create a Thread when a user (or your AI application) starts a conversation with your Assistant.\n",
    "\n",
    "The contents of the messages your users or applications create are added as Message objects to the Thread. Messages can contain text, image urls, and files. There is no limit to the number of Messages you can add to Threads — we smartly truncate any context that does not fit into the model's context window.\n",
    "\n",
    "## Creating an Assistant and a Thread Review\n",
    "Let's create an Assistant and Thread to get us set up for success with our Messages. \n",
    "\n",
    "We begin with an Assistant. "
   ]
  },
  {
   "cell_type": "code",
   "execution_count": 1,
   "metadata": {},
   "outputs": [
    {
     "name": "stdout",
     "output_type": "stream",
     "text": [
      "Assistant(id='asst_7c5a1AWYoBRIt15MY18Nd5rG', created_at=1715528470, description=None, instructions='You are a helpful assistant.', metadata={'holds_messages': 'True', 'likes_messages': 'True'}, model='gpt-4-turbo', name='Message Holder', object='assistant', tools=[], response_format='auto', temperature=1.0, tool_resources=ToolResources(code_interpreter=None, file_search=None), top_p=1.0)\n",
      "\n",
      "\n",
      "\n",
      "Message Holder\n",
      "{'holds_messages': 'True', 'likes_messages': 'True'}\n"
     ]
    }
   ],
   "source": [
    "from openai import OpenAI\n",
    "\n",
    "# Create an instance of the OpenAI class\n",
    "# This assumes you have the OPENAI_API_KEY environment variable set\n",
    "client = OpenAI()\n",
    "\n",
    "# Create an assistant that uses code interpreter.\n",
    "assistant = client.beta.assistants.create(\n",
    "    model=\"gpt-4-turbo\",\n",
    "    instructions=\"You are a helpful assistant.\",\n",
    "    name=\"Message Holder\",\n",
    "    metadata={\n",
    "        \"holds_messages\": \"True\",\n",
    "        \"likes_messages\": \"True\",\n",
    "    },\n",
    "    temperature=1,\n",
    "    top_p=1,\n",
    ")\n",
    "\n",
    "# Print the details of the created assistant to check the properties.\n",
    "print(assistant)\n",
    "print(\"\\n\\n\")\n",
    "print(assistant.name)\n",
    "print(assistant.metadata)"
   ]
  },
  {
   "cell_type": "markdown",
   "metadata": {},
   "source": [
    "Now we create an empty thread that will hold our messages. Remember to hang on to that thread ID."
   ]
  },
  {
   "cell_type": "code",
   "execution_count": 2,
   "metadata": {},
   "outputs": [
    {
     "name": "stdout",
     "output_type": "stream",
     "text": [
      "Thread(id='thread_VRGYSQetu2xWUnypSKfPy4S1', created_at=1715528471, metadata={'user': 'abc123'}, object='thread', tool_resources=ToolResources(code_interpreter=None, file_search=None))\n"
     ]
    }
   ],
   "source": [
    "from openai import OpenAI\n",
    "\n",
    "# Initialize a client instance of the OpenAI API\n",
    "client = OpenAI()\n",
    "\n",
    "# Create a thread using the OpenAI API and store it in a variable\n",
    "# The metadata specifies a user identifier\n",
    "thread_holding_messages = client.beta.threads.create(\n",
    "    metadata={\n",
    "        \"user\": \"abc123\"\n",
    "    }\n",
    ")\n",
    "\n",
    "# Output the result of the thread creation to the console\n",
    "print(thread_holding_messages)\n"
   ]
  },
  {
   "cell_type": "markdown",
   "metadata": {},
   "source": [
    "## Creating Messages\n",
    "To create a message we need to determine which thread to add the message to, the role for the message, and the actual message itself. \n",
    "\n",
    "### Simple Message\n",
    "Here is a simple message with some metadata."
   ]
  },
  {
   "cell_type": "code",
   "execution_count": 3,
   "metadata": {},
   "outputs": [
    {
     "name": "stdout",
     "output_type": "stream",
     "text": [
      "Message(id='msg_3TlctX205WkiFyZo8CbWAHTz', assistant_id=None, attachments=[], completed_at=None, content=[TextContentBlock(text=Text(annotations=[], value='What is a penguin?'), type='text')], created_at=1715528471, incomplete_at=None, incomplete_details=None, metadata={'key': 'value'}, object='thread.message', role='user', run_id=None, status=None, thread_id='thread_VRGYSQetu2xWUnypSKfPy4S1')\n",
      "\n",
      "\n",
      "msg_3TlctX205WkiFyZo8CbWAHTz\n",
      "[TextContentBlock(text=Text(annotations=[], value='What is a penguin?'), type='text')]\n",
      "What is a penguin?\n",
      "user\n"
     ]
    }
   ],
   "source": [
    "# Create a message in a specific thread using the client's message creation method.\n",
    "message = client.beta.threads.messages.create(\n",
    "    thread_id=thread_holding_messages.id,  # ID of the thread where the message will be posted\n",
    "    role=\"user\",  # Role of the entity posting the message\n",
    "    content=\"What is a penguin?\",  # The textual content of the message\n",
    "    metadata={\"key\": \"value\"}  # Additional data associated with the message in key-value pairs\n",
    ")\n",
    "\n",
    "# Print the entire message object to view its details.\n",
    "print(message)\n",
    "\n",
    "# Print a blank line for better readability of the output.\n",
    "print(\"\\n\")\n",
    "\n",
    "# Print specific attributes of the message.\n",
    "print(message.id)  # The unique identifier of the message\n",
    "print(message.content)  # The content of the message\n",
    "print(message.content[0].text.value)  # Assuming 'content' is a list of text objects, print the value of the first one\n",
    "print(message.role)  # The role associated with the message\n"
   ]
  },
  {
   "cell_type": "markdown",
   "metadata": {},
   "source": [
    "### Message with Vision\n",
    "Now let's create a more complex message that passes in images."
   ]
  },
  {
   "cell_type": "code",
   "execution_count": 4,
   "metadata": {},
   "outputs": [
    {
     "name": "stdout",
     "output_type": "stream",
     "text": [
      "Message(id='msg_a3AsBZs7HIcOcvZ6piU04BGB', assistant_id=None, attachments=[], completed_at=None, content=[TextContentBlock(text=Text(annotations=[], value='What is the difference between these images?'), type='text'), ImageURLContentBlock(image_url=ImageURL(url='https://en.wikipedia.org/wiki/File:Cat_August_2010-4.jpg', detail='auto'), type='image_url'), ImageFileContentBlock(image_file=ImageFile(file_id='file-gMmfz63v3CjPxzILh8lkgJSW', detail='auto'), type='image_file')], created_at=1715528472, incomplete_at=None, incomplete_details=None, metadata={}, object='thread.message', role='user', run_id=None, status=None, thread_id='thread_VRGYSQetu2xWUnypSKfPy4S1')\n"
     ]
    }
   ],
   "source": [
    "# Create a file in the system by uploading an image, for vision processing purposes.\n",
    "vision_file = client.files.create(\n",
    "    file=open(\"./artifacts/PuppyDog.jpg\", \"rb\"),  # Opens the image file in binary read mode\n",
    "    purpose=\"vision\"  # Indicates that the file's purpose is for vision-related processing\n",
    ")\n",
    "\n",
    "# Create a message that includes both text and images, asking about differences between them.\n",
    "message_vision = client.beta.threads.messages.create(\n",
    "    thread_id=thread_holding_messages.id,  # ID of the thread to post the message in\n",
    "    role=\"user\",  # Role of the poster (e.g., 'user')\n",
    "    content=[  # Content list that includes text and images\n",
    "        {\n",
    "            \"type\": \"text\",\n",
    "            \"text\": \"What is the difference between these images?\"\n",
    "        },\n",
    "        {\n",
    "            \"type\": \"image_url\",\n",
    "            \"image_url\": {\"url\": \"https://en.wikipedia.org/wiki/File:Cat_August_2010-4.jpg\"}\n",
    "        },\n",
    "        {\n",
    "            \"type\": \"image_file\",\n",
    "            \"image_file\": {\"file_id\": vision_file.id}  # References the uploaded file by its ID\n",
    "        },\n",
    "    ],\n",
    ")\n",
    "\n",
    "# Print the message object to output its details.\n",
    "print(message_vision)\n"
   ]
  },
  {
   "cell_type": "markdown",
   "metadata": {},
   "source": [
    "### Message for Tool Use\n",
    "Finally, let's pass in a file for Code Interpreter to use."
   ]
  },
  {
   "cell_type": "code",
   "execution_count": 5,
   "metadata": {},
   "outputs": [
    {
     "name": "stdout",
     "output_type": "stream",
     "text": [
      "Message(id='msg_tqvLzdsEXlD3fS7oMUT5rJcX', assistant_id=None, attachments=[Attachment(file_id='file-KOXQy9jjNKP9vrNP9vo5n64F', tools=[CodeInterpreterTool(type='code_interpreter')])], completed_at=None, content=[TextContentBlock(text=Text(annotations=[], value='Create three visualizations based on the data in this file.'), type='text')], created_at=1715528472, incomplete_at=None, incomplete_details=None, metadata={}, object='thread.message', role='user', run_id=None, status=None, thread_id='thread_VRGYSQetu2xWUnypSKfPy4S1')\n"
     ]
    }
   ],
   "source": [
    "# Create a file object by uploading a data file for use with assistant tools.\n",
    "data_file = client.files.create(\n",
    "    file=open(\"./artifacts/penguins_size.csv\", \"rb\"),  # Open the CSV file in binary read mode\n",
    "    purpose=\"assistants\"  # Specify the purpose of the file for assistant tool use\n",
    ")\n",
    "\n",
    "# Create a message that instructs to create visualizations from the attached data file.\n",
    "message_code_interpreter = client.beta.threads.messages.create(\n",
    "    thread_id=thread_holding_messages.id,  # ID of the thread where the message will be posted\n",
    "    role=\"user\",  # Role of the entity posting the message\n",
    "    content=\"Create three visualizations based on the data in this file.\",  # Content detailing what needs to be done with the data\n",
    "    attachments=[  # Attachments that include the file and tools for processing\n",
    "        {\n",
    "            \"file_id\": data_file.id,  # The ID of the uploaded data file\n",
    "            \"tools\": [{\"type\": \"code_interpreter\"}]  # Tools specified to interpret the code\n",
    "        }\n",
    "    ]\n",
    ")\n",
    "\n",
    "# Print the message object to output its details.\n",
    "print(message_code_interpreter)\n"
   ]
  },
  {
   "cell_type": "markdown",
   "metadata": {},
   "source": [
    "# Part 6\n",
    "## Listing Messages\n",
    "Let's see what messages we have in our thread at this point.\n",
    "\n",
    "### Start with a simple list\n",
    "Just list out everything we have so far. Remember that only the first 100 will be listed so if you have more than 100 you will need to use \"after\" to go to the next page."
   ]
  },
  {
   "cell_type": "code",
   "execution_count": 6,
   "metadata": {},
   "outputs": [
    {
     "name": "stdout",
     "output_type": "stream",
     "text": [
      "[Message(id='msg_tqvLzdsEXlD3fS7oMUT5rJcX', assistant_id=None, attachments=[Attachment(file_id='file-KOXQy9jjNKP9vrNP9vo5n64F', tools=[CodeInterpreterTool(type='code_interpreter')])], completed_at=None, content=[TextContentBlock(text=Text(annotations=[], value='Create three visualizations based on the data in this file.'), type='text')], created_at=1715528472, incomplete_at=None, incomplete_details=None, metadata={}, object='thread.message', role='user', run_id=None, status=None, thread_id='thread_VRGYSQetu2xWUnypSKfPy4S1'), Message(id='msg_a3AsBZs7HIcOcvZ6piU04BGB', assistant_id=None, attachments=[], completed_at=None, content=[TextContentBlock(text=Text(annotations=[], value='What is the difference between these images?'), type='text'), ImageURLContentBlock(image_url=ImageURL(url='https://en.wikipedia.org/wiki/File:Cat_August_2010-4.jpg', detail='auto'), type='image_url'), ImageFileContentBlock(image_file=ImageFile(file_id='file-gMmfz63v3CjPxzILh8lkgJSW', detail='auto'), type='image_file')], created_at=1715528472, incomplete_at=None, incomplete_details=None, metadata={}, object='thread.message', role='user', run_id=None, status=None, thread_id='thread_VRGYSQetu2xWUnypSKfPy4S1'), Message(id='msg_3TlctX205WkiFyZo8CbWAHTz', assistant_id=None, attachments=[], completed_at=None, content=[TextContentBlock(text=Text(annotations=[], value='What is a penguin?'), type='text')], created_at=1715528471, incomplete_at=None, incomplete_details=None, metadata={'key': 'value'}, object='thread.message', role='user', run_id=None, status=None, thread_id='thread_VRGYSQetu2xWUnypSKfPy4S1')]\n",
      "\n",
      "\n",
      "msg_tqvLzdsEXlD3fS7oMUT5rJcX\n",
      "user\n",
      "[TextContentBlock(text=Text(annotations=[], value='Create three visualizations based on the data in this file.'), type='text')]\n",
      "\n",
      "\n",
      "msg_a3AsBZs7HIcOcvZ6piU04BGB\n",
      "user\n",
      "[TextContentBlock(text=Text(annotations=[], value='What is the difference between these images?'), type='text'), ImageURLContentBlock(image_url=ImageURL(url='https://en.wikipedia.org/wiki/File:Cat_August_2010-4.jpg', detail='auto'), type='image_url'), ImageFileContentBlock(image_file=ImageFile(file_id='file-gMmfz63v3CjPxzILh8lkgJSW', detail='auto'), type='image_file')]\n",
      "\n",
      "\n",
      "msg_3TlctX205WkiFyZo8CbWAHTz\n",
      "user\n",
      "[TextContentBlock(text=Text(annotations=[], value='What is a penguin?'), type='text')]\n",
      "\n",
      "\n",
      "Total number of messages: 3\n"
     ]
    }
   ],
   "source": [
    "from openai import OpenAI\n",
    "\n",
    "# Initialize the client using the OpenAI library.\n",
    "client = OpenAI()\n",
    "\n",
    "# Retrieve a list of messages from a specific thread using its ID.\n",
    "thread_messages = client.beta.threads.messages.list(thread_holding_messages.id)\n",
    "print(thread_messages.data)  # Print the raw data of messages\n",
    "print(\"\\n\")  # Print a newline for better readability of output\n",
    "\n",
    "# Initialize a counter to keep track of the number of messages.\n",
    "message_count = 0\n",
    "\n",
    "# Iterate over each message in the list, printing details and counting them.\n",
    "for message in thread_messages.data:\n",
    "    print(message.id)  # Print the unique identifier of each message\n",
    "    print(message.role)  # Print the role of the message sender\n",
    "    print(message.content)  # Print the content of the message\n",
    "    print(\"\\n\")  # Print a newline for separation between messages\n",
    "    message_count += 1  # Increment the message count\n",
    "\n",
    "# Print the total number of messages processed.\n",
    "print(f\"Total number of messages: {message_count}\")\n"
   ]
  },
  {
   "cell_type": "markdown",
   "metadata": {},
   "source": [
    "### Limiting and Sorting the Messages\n",
    "Now let's show the two most recent messages using \"limit\" and \"order\"."
   ]
  },
  {
   "cell_type": "code",
   "execution_count": 7,
   "metadata": {},
   "outputs": [
    {
     "name": "stdout",
     "output_type": "stream",
     "text": [
      "[Message(id='msg_tqvLzdsEXlD3fS7oMUT5rJcX', assistant_id=None, attachments=[Attachment(file_id='file-KOXQy9jjNKP9vrNP9vo5n64F', tools=[CodeInterpreterTool(type='code_interpreter')])], completed_at=None, content=[TextContentBlock(text=Text(annotations=[], value='Create three visualizations based on the data in this file.'), type='text')], created_at=1715528472, incomplete_at=None, incomplete_details=None, metadata={}, object='thread.message', role='user', run_id=None, status=None, thread_id='thread_VRGYSQetu2xWUnypSKfPy4S1'), Message(id='msg_a3AsBZs7HIcOcvZ6piU04BGB', assistant_id=None, attachments=[], completed_at=None, content=[TextContentBlock(text=Text(annotations=[], value='What is the difference between these images?'), type='text'), ImageURLContentBlock(image_url=ImageURL(url='https://en.wikipedia.org/wiki/File:Cat_August_2010-4.jpg', detail='auto'), type='image_url'), ImageFileContentBlock(image_file=ImageFile(file_id='file-gMmfz63v3CjPxzILh8lkgJSW', detail='auto'), type='image_file')], created_at=1715528472, incomplete_at=None, incomplete_details=None, metadata={}, object='thread.message', role='user', run_id=None, status=None, thread_id='thread_VRGYSQetu2xWUnypSKfPy4S1')]\n",
      "\n",
      "\n",
      "msg_tqvLzdsEXlD3fS7oMUT5rJcX\n",
      "user\n",
      "[TextContentBlock(text=Text(annotations=[], value='Create three visualizations based on the data in this file.'), type='text')]\n",
      "2024-05-12 05:41:12 CDT\n",
      "\n",
      "\n",
      "msg_a3AsBZs7HIcOcvZ6piU04BGB\n",
      "user\n",
      "[TextContentBlock(text=Text(annotations=[], value='What is the difference between these images?'), type='text'), ImageURLContentBlock(image_url=ImageURL(url='https://en.wikipedia.org/wiki/File:Cat_August_2010-4.jpg', detail='auto'), type='image_url'), ImageFileContentBlock(image_file=ImageFile(file_id='file-gMmfz63v3CjPxzILh8lkgJSW', detail='auto'), type='image_file')]\n",
      "2024-05-12 05:41:12 CDT\n",
      "\n",
      "\n",
      "Total number of messages: 2\n"
     ]
    }
   ],
   "source": [
    "import datetime\n",
    "import pytz\n",
    "\n",
    "from openai import OpenAI\n",
    "\n",
    "# Initialize the client using the OpenAI library.\n",
    "client = OpenAI()\n",
    "\n",
    "# Retrieve a list of messages from a specific thread using its ID.\n",
    "thread_messages = client.beta.threads.messages.list(\n",
    "    thread_id=thread_holding_messages.id,\n",
    "    limit=2,  # Limit the number of messages retrieved to 2\n",
    "    order=\"desc\",  # Order the messages in descending order (most recent first)\n",
    ")\n",
    "print(thread_messages.data)  # Print the raw data of messages\n",
    "print(\"\\n\")  # Print a newline for better readability of output\n",
    "\n",
    "# Initialize a counter to keep track of the number of messages.\n",
    "message_count = 0\n",
    "\n",
    "# Iterate over each message in the list, printing details and counting them.\n",
    "for message in thread_messages.data:\n",
    "    print(message.id)  # Print the unique identifier of each message\n",
    "    print(message.role)  # Print the role of the message sender\n",
    "    print(message.content)  # Print the content of the message\n",
    "\n",
    "    # grab the created date/time in unix format \n",
    "    # and convert it to a human readable format\n",
    "    unix_time = message.created_at\n",
    "\n",
    "    # Create a timezone object for Central Time\n",
    "    central_timezone = pytz.timezone('America/Chicago')\n",
    "\n",
    "    # Convert Unix time to a datetime object in UTC\n",
    "    utc_date = datetime.datetime.fromtimestamp(unix_time)\n",
    "\n",
    "    # Localize the UTC datetime object to Central Time\n",
    "    central_date = utc_date.replace(tzinfo=pytz.utc).astimezone(central_timezone)\n",
    "\n",
    "    # Format the datetime object to a readable string\n",
    "    formatted_date = central_date.strftime('%Y-%m-%d %I:%M:%S %Z')\n",
    "\n",
    "    print(formatted_date) # Print the formatted date and time\n",
    "\n",
    "    print(\"\\n\")  # Print a newline for separation between messages\n",
    "\n",
    "    message_count += 1  # Increment the message count\n",
    "\n",
    "# Print the total number of messages processed.\n",
    "print(f\"Total number of messages: {message_count}\")"
   ]
  },
  {
   "cell_type": "markdown",
   "metadata": {},
   "source": [
    "### Pagination with Messages\n",
    "Let's see what forward pagination looks like with the \"after\" method."
   ]
  },
  {
   "cell_type": "code",
   "execution_count": 8,
   "metadata": {},
   "outputs": [
    {
     "name": "stdout",
     "output_type": "stream",
     "text": [
      "msg_tqvLzdsEXlD3fS7oMUT5rJcX\n",
      "user\n",
      "[TextContentBlock(text=Text(annotations=[], value='Create three visualizations based on the data in this file.'), type='text')]\n",
      "\n",
      "\n",
      "msg_a3AsBZs7HIcOcvZ6piU04BGB\n",
      "user\n",
      "[TextContentBlock(text=Text(annotations=[], value='What is the difference between these images?'), type='text'), ImageURLContentBlock(image_url=ImageURL(url='https://en.wikipedia.org/wiki/File:Cat_August_2010-4.jpg', detail='auto'), type='image_url'), ImageFileContentBlock(image_file=ImageFile(file_id='file-gMmfz63v3CjPxzILh8lkgJSW', detail='auto'), type='image_file')]\n",
      "\n",
      "\n",
      "=== END OF PAGE ===\n",
      "\n",
      "msg_3TlctX205WkiFyZo8CbWAHTz\n",
      "user\n",
      "[TextContentBlock(text=Text(annotations=[], value='What is a penguin?'), type='text')]\n",
      "\n",
      "\n",
      "=== END OF PAGE ===\n",
      "\n"
     ]
    }
   ],
   "source": [
    "# Import the OpenAI library\n",
    "from openai import OpenAI\n",
    "\n",
    "# Create an OpenAI client\n",
    "client = OpenAI()\n",
    "\n",
    "# Initialize the 'after_id' variable to track pagination\n",
    "after_id = None\n",
    "\n",
    "# Loop to fetch all pages of messages until no more data is available\n",
    "while True:\n",
    "    # Retrieve a list of up to 2 messages, sorted from newest to oldest,\n",
    "    # starting after the previously retrieved message (if any)\n",
    "    thread_messages = client.beta.threads.messages.list(\n",
    "        thread_id=thread_holding_messages.id,\n",
    "        limit=2,  # Limit the number of messages retrieved to 2\n",
    "        order=\"desc\",  # Order the messages in descending order (most recent first)\n",
    "        after=after_id  # Include the after_id to fetch messages after the last retrieved ID\n",
    "    )\n",
    "\n",
    "    # Check if the retrieved data is empty, indicating no more messages to fetch\n",
    "    if not thread_messages.data:\n",
    "        break\n",
    "\n",
    "    # Process each message in the current page\n",
    "    for message in thread_messages.data:\n",
    "        print(message.id)  \n",
    "        print(message.role)  \n",
    "        print(message.content)\n",
    "        print(\"\\n\")  \n",
    "\n",
    "    # Update 'after_id' to the ID of the last assistant in the current page\n",
    "    # This will be used to fetch the next page in the subsequent iteration\n",
    "    after_id = thread_messages.data[-1].id\n",
    "\n",
    "    # Print a marker to indicate the end of the current page\n",
    "    print(\"=== END OF PAGE ===\\n\")\n"
   ]
  },
  {
   "cell_type": "markdown",
   "metadata": {},
   "source": [
    "Now let's go backward using the \"before\" method to see pages."
   ]
  },
  {
   "cell_type": "code",
   "execution_count": 9,
   "metadata": {},
   "outputs": [
    {
     "ename": "NotFoundError",
     "evalue": "Error code: 404 - {'error': {'message': \"No message found with id 'msg_nGxHCfOEl9Sso4b4PdNVTtgW'.\", 'type': 'invalid_request_error', 'param': 'before', 'code': None}}",
     "output_type": "error",
     "traceback": [
      "\u001b[1;31m---------------------------------------------------------------------------\u001b[0m",
      "\u001b[1;31mNotFoundError\u001b[0m                             Traceback (most recent call last)",
      "Cell \u001b[1;32mIn[9], line 3\u001b[0m\n\u001b[0;32m      1\u001b[0m \u001b[38;5;66;03m# Retrieve a list of up to 2 messages, sorted from oldest to newest,\u001b[39;00m\n\u001b[0;32m      2\u001b[0m \u001b[38;5;66;03m# starting before the first message in the last retrieved page (if any)\u001b[39;00m\n\u001b[1;32m----> 3\u001b[0m thread_messages \u001b[38;5;241m=\u001b[39m client\u001b[38;5;241m.\u001b[39mbeta\u001b[38;5;241m.\u001b[39mthreads\u001b[38;5;241m.\u001b[39mmessages\u001b[38;5;241m.\u001b[39mlist(\n\u001b[0;32m      4\u001b[0m     thread_id\u001b[38;5;241m=\u001b[39mthread_holding_messages\u001b[38;5;241m.\u001b[39mid,\n\u001b[0;32m      5\u001b[0m     limit\u001b[38;5;241m=\u001b[39m\u001b[38;5;241m2\u001b[39m,  \u001b[38;5;66;03m# Limit the number of messages retrieved to 2\u001b[39;00m\n\u001b[0;32m      6\u001b[0m     order\u001b[38;5;241m=\u001b[39m\u001b[38;5;124m\"\u001b[39m\u001b[38;5;124mdesc\u001b[39m\u001b[38;5;124m\"\u001b[39m,  \u001b[38;5;66;03m# Order the messages in descending order (most recent first)\u001b[39;00m\n\u001b[0;32m      7\u001b[0m     before\u001b[38;5;241m=\u001b[39m\u001b[38;5;124m\"\u001b[39m\u001b[38;5;124mmsg_nGxHCfOEl9Sso4b4PdNVTtgW\u001b[39m\u001b[38;5;124m\"\u001b[39m  \u001b[38;5;66;03m# Include the after_id to fetch messages after the last retrieved ID\u001b[39;00m\n\u001b[0;32m      8\u001b[0m )\n\u001b[0;32m     10\u001b[0m \u001b[38;5;28mprint\u001b[39m(thread_messages\u001b[38;5;241m.\u001b[39mdata)  \u001b[38;5;66;03m# Print the raw data of messages\u001b[39;00m\n\u001b[0;32m     11\u001b[0m \u001b[38;5;28mprint\u001b[39m(\u001b[38;5;124m\"\u001b[39m\u001b[38;5;130;01m\\n\u001b[39;00m\u001b[38;5;124m\"\u001b[39m)  \u001b[38;5;66;03m# Print a newline for better readability of output\u001b[39;00m\n",
      "File \u001b[1;32me:\\ProgramFiles\\anaconda3\\envs\\NormalProgramming\\Lib\\site-packages\\openai\\resources\\beta\\threads\\messages.py:235\u001b[0m, in \u001b[0;36mMessages.list\u001b[1;34m(self, thread_id, after, before, limit, order, run_id, extra_headers, extra_query, extra_body, timeout)\u001b[0m\n\u001b[0;32m    233\u001b[0m     \u001b[38;5;28;01mraise\u001b[39;00m \u001b[38;5;167;01mValueError\u001b[39;00m(\u001b[38;5;124mf\u001b[39m\u001b[38;5;124m\"\u001b[39m\u001b[38;5;124mExpected a non-empty value for `thread_id` but received \u001b[39m\u001b[38;5;132;01m{\u001b[39;00mthread_id\u001b[38;5;132;01m!r}\u001b[39;00m\u001b[38;5;124m\"\u001b[39m)\n\u001b[0;32m    234\u001b[0m extra_headers \u001b[38;5;241m=\u001b[39m {\u001b[38;5;124m\"\u001b[39m\u001b[38;5;124mOpenAI-Beta\u001b[39m\u001b[38;5;124m\"\u001b[39m: \u001b[38;5;124m\"\u001b[39m\u001b[38;5;124massistants=v2\u001b[39m\u001b[38;5;124m\"\u001b[39m, \u001b[38;5;241m*\u001b[39m\u001b[38;5;241m*\u001b[39m(extra_headers \u001b[38;5;129;01mor\u001b[39;00m {})}\n\u001b[1;32m--> 235\u001b[0m \u001b[38;5;28;01mreturn\u001b[39;00m \u001b[38;5;28mself\u001b[39m\u001b[38;5;241m.\u001b[39m_get_api_list(\n\u001b[0;32m    236\u001b[0m     \u001b[38;5;124mf\u001b[39m\u001b[38;5;124m\"\u001b[39m\u001b[38;5;124m/threads/\u001b[39m\u001b[38;5;132;01m{\u001b[39;00mthread_id\u001b[38;5;132;01m}\u001b[39;00m\u001b[38;5;124m/messages\u001b[39m\u001b[38;5;124m\"\u001b[39m,\n\u001b[0;32m    237\u001b[0m     page\u001b[38;5;241m=\u001b[39mSyncCursorPage[Message],\n\u001b[0;32m    238\u001b[0m     options\u001b[38;5;241m=\u001b[39mmake_request_options(\n\u001b[0;32m    239\u001b[0m         extra_headers\u001b[38;5;241m=\u001b[39mextra_headers,\n\u001b[0;32m    240\u001b[0m         extra_query\u001b[38;5;241m=\u001b[39mextra_query,\n\u001b[0;32m    241\u001b[0m         extra_body\u001b[38;5;241m=\u001b[39mextra_body,\n\u001b[0;32m    242\u001b[0m         timeout\u001b[38;5;241m=\u001b[39mtimeout,\n\u001b[0;32m    243\u001b[0m         query\u001b[38;5;241m=\u001b[39mmaybe_transform(\n\u001b[0;32m    244\u001b[0m             {\n\u001b[0;32m    245\u001b[0m                 \u001b[38;5;124m\"\u001b[39m\u001b[38;5;124mafter\u001b[39m\u001b[38;5;124m\"\u001b[39m: after,\n\u001b[0;32m    246\u001b[0m                 \u001b[38;5;124m\"\u001b[39m\u001b[38;5;124mbefore\u001b[39m\u001b[38;5;124m\"\u001b[39m: before,\n\u001b[0;32m    247\u001b[0m                 \u001b[38;5;124m\"\u001b[39m\u001b[38;5;124mlimit\u001b[39m\u001b[38;5;124m\"\u001b[39m: limit,\n\u001b[0;32m    248\u001b[0m                 \u001b[38;5;124m\"\u001b[39m\u001b[38;5;124morder\u001b[39m\u001b[38;5;124m\"\u001b[39m: order,\n\u001b[0;32m    249\u001b[0m                 \u001b[38;5;124m\"\u001b[39m\u001b[38;5;124mrun_id\u001b[39m\u001b[38;5;124m\"\u001b[39m: run_id,\n\u001b[0;32m    250\u001b[0m             },\n\u001b[0;32m    251\u001b[0m             message_list_params\u001b[38;5;241m.\u001b[39mMessageListParams,\n\u001b[0;32m    252\u001b[0m         ),\n\u001b[0;32m    253\u001b[0m     ),\n\u001b[0;32m    254\u001b[0m     model\u001b[38;5;241m=\u001b[39mMessage,\n\u001b[0;32m    255\u001b[0m )\n",
      "File \u001b[1;32me:\\ProgramFiles\\anaconda3\\envs\\NormalProgramming\\Lib\\site-packages\\openai\\_base_client.py:1289\u001b[0m, in \u001b[0;36mSyncAPIClient.get_api_list\u001b[1;34m(self, path, model, page, body, options, method)\u001b[0m\n\u001b[0;32m   1278\u001b[0m \u001b[38;5;28;01mdef\u001b[39;00m \u001b[38;5;21mget_api_list\u001b[39m(\n\u001b[0;32m   1279\u001b[0m     \u001b[38;5;28mself\u001b[39m,\n\u001b[0;32m   1280\u001b[0m     path: \u001b[38;5;28mstr\u001b[39m,\n\u001b[1;32m   (...)\u001b[0m\n\u001b[0;32m   1286\u001b[0m     method: \u001b[38;5;28mstr\u001b[39m \u001b[38;5;241m=\u001b[39m \u001b[38;5;124m\"\u001b[39m\u001b[38;5;124mget\u001b[39m\u001b[38;5;124m\"\u001b[39m,\n\u001b[0;32m   1287\u001b[0m ) \u001b[38;5;241m-\u001b[39m\u001b[38;5;241m>\u001b[39m SyncPageT:\n\u001b[0;32m   1288\u001b[0m     opts \u001b[38;5;241m=\u001b[39m FinalRequestOptions\u001b[38;5;241m.\u001b[39mconstruct(method\u001b[38;5;241m=\u001b[39mmethod, url\u001b[38;5;241m=\u001b[39mpath, json_data\u001b[38;5;241m=\u001b[39mbody, \u001b[38;5;241m*\u001b[39m\u001b[38;5;241m*\u001b[39moptions)\n\u001b[1;32m-> 1289\u001b[0m     \u001b[38;5;28;01mreturn\u001b[39;00m \u001b[38;5;28mself\u001b[39m\u001b[38;5;241m.\u001b[39m_request_api_list(model, page, opts)\n",
      "File \u001b[1;32me:\\ProgramFiles\\anaconda3\\envs\\NormalProgramming\\Lib\\site-packages\\openai\\_base_client.py:1134\u001b[0m, in \u001b[0;36mSyncAPIClient._request_api_list\u001b[1;34m(self, model, page, options)\u001b[0m\n\u001b[0;32m   1130\u001b[0m     \u001b[38;5;28;01mreturn\u001b[39;00m resp\n\u001b[0;32m   1132\u001b[0m options\u001b[38;5;241m.\u001b[39mpost_parser \u001b[38;5;241m=\u001b[39m _parser\n\u001b[1;32m-> 1134\u001b[0m \u001b[38;5;28;01mreturn\u001b[39;00m \u001b[38;5;28mself\u001b[39m\u001b[38;5;241m.\u001b[39mrequest(page, options, stream\u001b[38;5;241m=\u001b[39m\u001b[38;5;28;01mFalse\u001b[39;00m)\n",
      "File \u001b[1;32me:\\ProgramFiles\\anaconda3\\envs\\NormalProgramming\\Lib\\site-packages\\openai\\_base_client.py:921\u001b[0m, in \u001b[0;36mSyncAPIClient.request\u001b[1;34m(self, cast_to, options, remaining_retries, stream, stream_cls)\u001b[0m\n\u001b[0;32m    912\u001b[0m \u001b[38;5;28;01mdef\u001b[39;00m \u001b[38;5;21mrequest\u001b[39m(\n\u001b[0;32m    913\u001b[0m     \u001b[38;5;28mself\u001b[39m,\n\u001b[0;32m    914\u001b[0m     cast_to: Type[ResponseT],\n\u001b[1;32m   (...)\u001b[0m\n\u001b[0;32m    919\u001b[0m     stream_cls: \u001b[38;5;28mtype\u001b[39m[_StreamT] \u001b[38;5;241m|\u001b[39m \u001b[38;5;28;01mNone\u001b[39;00m \u001b[38;5;241m=\u001b[39m \u001b[38;5;28;01mNone\u001b[39;00m,\n\u001b[0;32m    920\u001b[0m ) \u001b[38;5;241m-\u001b[39m\u001b[38;5;241m>\u001b[39m ResponseT \u001b[38;5;241m|\u001b[39m _StreamT:\n\u001b[1;32m--> 921\u001b[0m     \u001b[38;5;28;01mreturn\u001b[39;00m \u001b[38;5;28mself\u001b[39m\u001b[38;5;241m.\u001b[39m_request(\n\u001b[0;32m    922\u001b[0m         cast_to\u001b[38;5;241m=\u001b[39mcast_to,\n\u001b[0;32m    923\u001b[0m         options\u001b[38;5;241m=\u001b[39moptions,\n\u001b[0;32m    924\u001b[0m         stream\u001b[38;5;241m=\u001b[39mstream,\n\u001b[0;32m    925\u001b[0m         stream_cls\u001b[38;5;241m=\u001b[39mstream_cls,\n\u001b[0;32m    926\u001b[0m         remaining_retries\u001b[38;5;241m=\u001b[39mremaining_retries,\n\u001b[0;32m    927\u001b[0m     )\n",
      "File \u001b[1;32me:\\ProgramFiles\\anaconda3\\envs\\NormalProgramming\\Lib\\site-packages\\openai\\_base_client.py:1020\u001b[0m, in \u001b[0;36mSyncAPIClient._request\u001b[1;34m(self, cast_to, options, remaining_retries, stream, stream_cls)\u001b[0m\n\u001b[0;32m   1017\u001b[0m         err\u001b[38;5;241m.\u001b[39mresponse\u001b[38;5;241m.\u001b[39mread()\n\u001b[0;32m   1019\u001b[0m     log\u001b[38;5;241m.\u001b[39mdebug(\u001b[38;5;124m\"\u001b[39m\u001b[38;5;124mRe-raising status error\u001b[39m\u001b[38;5;124m\"\u001b[39m)\n\u001b[1;32m-> 1020\u001b[0m     \u001b[38;5;28;01mraise\u001b[39;00m \u001b[38;5;28mself\u001b[39m\u001b[38;5;241m.\u001b[39m_make_status_error_from_response(err\u001b[38;5;241m.\u001b[39mresponse) \u001b[38;5;28;01mfrom\u001b[39;00m \u001b[38;5;28;01mNone\u001b[39;00m\n\u001b[0;32m   1022\u001b[0m \u001b[38;5;28;01mreturn\u001b[39;00m \u001b[38;5;28mself\u001b[39m\u001b[38;5;241m.\u001b[39m_process_response(\n\u001b[0;32m   1023\u001b[0m     cast_to\u001b[38;5;241m=\u001b[39mcast_to,\n\u001b[0;32m   1024\u001b[0m     options\u001b[38;5;241m=\u001b[39moptions,\n\u001b[1;32m   (...)\u001b[0m\n\u001b[0;32m   1027\u001b[0m     stream_cls\u001b[38;5;241m=\u001b[39mstream_cls,\n\u001b[0;32m   1028\u001b[0m )\n",
      "\u001b[1;31mNotFoundError\u001b[0m: Error code: 404 - {'error': {'message': \"No message found with id 'msg_nGxHCfOEl9Sso4b4PdNVTtgW'.\", 'type': 'invalid_request_error', 'param': 'before', 'code': None}}"
     ]
    }
   ],
   "source": [
    "# Retrieve a list of up to 2 messages, sorted from oldest to newest,\n",
    "# starting before the first message in the last retrieved page (if any)\n",
    "thread_messages = client.beta.threads.messages.list(\n",
    "    thread_id=thread_holding_messages.id,\n",
    "    limit=2,  # Limit the number of messages retrieved to 2\n",
    "    order=\"desc\",  # Order the messages in descending order (most recent first)\n",
    "    before=\"msg_nGxHCfOEl9Sso4b4PdNVTtgW\"  # Include the after_id to fetch messages after the last retrieved ID\n",
    ")\n",
    "\n",
    "print(thread_messages.data)  # Print the raw data of messages\n",
    "print(\"\\n\")  # Print a newline for better readability of output\n",
    "\n",
    "# Process each message in the current page\n",
    "for message in thread_messages.data:\n",
    "    print(message.id)  \n",
    "    print(message.role)  \n",
    "    print(message.content)\n",
    "    print(\"\\n\")  "
   ]
  },
  {
   "cell_type": "markdown",
   "metadata": {},
   "source": [
    "## Retrieving a Message\n",
    "We can always fetch a message if we need to from the thread."
   ]
  },
  {
   "cell_type": "code",
   "execution_count": null,
   "metadata": {},
   "outputs": [],
   "source": [
    "from openai import OpenAI\n",
    "\n",
    "# Initialize the OpenAI client.\n",
    "client = OpenAI()\n",
    "\n",
    "# Retrieve a specific message by its ID from a given thread.\n",
    "fetched_message = client.beta.threads.messages.retrieve(\n",
    "    thread_id=thread_holding_messages.id,  # ID of the thread containing the message\n",
    "    message_id=message.id,  # ID of the message to retrieve\n",
    ")\n",
    "\n",
    "# Print the retrieved message object to see its details.\n",
    "print(fetched_message)\n",
    "\n"
   ]
  },
  {
   "cell_type": "markdown",
   "metadata": {},
   "source": [
    "## Modify Messsages\n",
    "Making changes to messages is easy. Just call the update method."
   ]
  },
  {
   "cell_type": "code",
   "execution_count": null,
   "metadata": {},
   "outputs": [],
   "source": [
    "from openai import OpenAI\n",
    "\n",
    "# Initialize the OpenAI client.\n",
    "client = OpenAI()\n",
    "\n",
    "# show the before data\n",
    "print(f\"Before Update: {message}\")\n",
    "print(\"\\n\")\n",
    "\n",
    "# Update a specific message by its ID within a given thread.\n",
    "modified_message = client.beta.threads.messages.update(\n",
    "    thread_id=thread_holding_messages.id,  # ID of the thread containing the message\n",
    "    message_id=message.id,  # ID of the message to update\n",
    "    metadata={  # Metadata to add or update for the message\n",
    "        \"modified\": \"true\",\n",
    "        \"user\": \"abc123\",\n",
    "    },\n",
    ")\n",
    "\n",
    "# Print the modified message object to view its updated details.\n",
    "print(modified_message)\n",
    "\n"
   ]
  },
  {
   "cell_type": "markdown",
   "metadata": {},
   "source": [
    "## Delete Messages\n",
    "Finally, let's clean up after ourselves and delete any messages we don't need any more."
   ]
  },
  {
   "cell_type": "code",
   "execution_count": 10,
   "metadata": {},
   "outputs": [],
   "source": [
    "# You may need to upgrade to the latest version of the OpenAI library to use the delete method.\n",
    "# If you encounter an error, consider upgrading the library using 'pip install openai --upgrade'\n",
    "# !pip install openai --upgrade"
   ]
  },
  {
   "cell_type": "code",
   "execution_count": 11,
   "metadata": {},
   "outputs": [
    {
     "name": "stdout",
     "output_type": "stream",
     "text": [
      "Message deleted successfully: MessageDeleted(id='msg_3TlctX205WkiFyZo8CbWAHTz', deleted=True, object='thread.message.deleted')\n"
     ]
    }
   ],
   "source": [
    "from openai import OpenAI\n",
    "\n",
    "\n",
    "# Initialize the OpenAI client.\n",
    "client = OpenAI()\n",
    "\n",
    "try:\n",
    "    # Delete a specific message by its ID within a given thread.\n",
    "    deleted_message = client.beta.threads.messages.delete(\n",
    "        thread_id=thread_holding_messages.id,\n",
    "        message_id=message.id\n",
    "    )\n",
    "\n",
    "    # Print the result of the delete operation to verify its success.\n",
    "    print(\"Message deleted successfully:\", deleted_message)\n",
    "\n",
    "except NotFoundError as e:\n",
    "    # Handle the case where the message does not exist\n",
    "    print(\"The message could not be found and thus not deleted. Error:\", str(e))\n",
    "\n"
   ]
  },
  {
   "cell_type": "markdown",
   "metadata": {},
   "source": [
    "### Cleanup Code\n",
    "Uncomment the code below to blow away all your messages in our thread if you want to play around with them some more"
   ]
  },
  {
   "cell_type": "code",
   "execution_count": 13,
   "metadata": {},
   "outputs": [],
   "source": [
    "from openai import OpenAI\n",
    "\n",
    "# Initialize the OpenAI client.\n",
    "client = OpenAI()\n",
    "\n",
    "# Assume 'thread_id' is the ID of the thread from which you want to delete all messages\n",
    "thread_id = thread_holding_messages.id\n",
    "\n",
    "# First, retrieve all messages from the thread\n",
    "try:\n",
    "    messages = client.beta.threads.messages.list(thread_id=thread_id)\n",
    "    message_ids = [message.id for message in messages]\n",
    "except Exception as e:\n",
    "    print(f\"Failed to retrieve messages: {e}\")\n",
    "    messages = []\n",
    "\n",
    "# Loop through each message ID and attempt deletion\n",
    "# for message_id in message_ids:\n",
    "#     try:\n",
    "#         # Attempt to fetch message to check existence\n",
    "#         message = client.beta.threads.messages.retrieve(message_id=message_id, thread_id=thread_id)\n",
    "#         # If message exists, proceed with deletion\n",
    "#         deleted_message = client.beta.threads.messages.delete(message_id=message_id, thread_id=thread_id)\n",
    "#         print(f\"Deleted message ID {message_id}: {deleted_message}\")\n",
    "#     except Exception as e:\n",
    "#         if \"NotFoundError\" in str(e):\n",
    "#             print(f\"Message ID {message_id} not found or already deleted.\")\n",
    "#         else:\n",
    "#             print(f\"Failed to delete message ID {message_id}: {e}\")\n"
   ]
  }
 ],
 "metadata": {
  "kernelspec": {
   "display_name": "NormalProgramming",
   "language": "python",
   "name": "python3"
  },
  "language_info": {
   "codemirror_mode": {
    "name": "ipython",
    "version": 3
   },
   "file_extension": ".py",
   "mimetype": "text/x-python",
   "name": "python",
   "nbconvert_exporter": "python",
   "pygments_lexer": "ipython3",
   "version": "3.11.4"
  }
 },
 "nbformat": 4,
 "nbformat_minor": 2
}
